{
 "cells": [
  {
   "cell_type": "markdown",
   "metadata": {
    "slideshow": {
     "slide_type": "slide"
    }
   },
   "source": [
    "# Базовый синтаксис (Продолжение)"
   ]
  },
  {
   "cell_type": "markdown",
   "metadata": {
    "slideshow": {
     "slide_type": "fragment"
    }
   },
   "source": [
    "## Инструкции (продолжение)"
   ]
  },
  {
   "cell_type": "markdown",
   "metadata": {
    "slideshow": {
     "slide_type": "fragment"
    }
   },
   "source": [
    "### For loops"
   ]
  },
  {
   "cell_type": "code",
   "execution_count": 94,
   "metadata": {
    "ExecuteTime": {
     "end_time": "2018-09-09T18:31:42.325230Z",
     "start_time": "2018-09-09T18:31:42.320047Z"
    },
    "hideCode": false,
    "hidePrompt": false,
    "slideshow": {
     "slide_type": "slide"
    }
   },
   "outputs": [
    {
     "name": "stdout",
     "output_type": "stream",
     "text": [
      "num is 1\n",
      "num is 3\n",
      "Всё ок\n"
     ]
    }
   ],
   "source": [
    "for num in range(7):\n",
    "    if num is 1:\n",
    "        pass\n",
    "        print(f\"num is {num}\")\n",
    "    if num is 2:\n",
    "        continue\n",
    "        print(f\"num is {num}\")\n",
    "    if num is 3:\n",
    "#         break\n",
    "        print(f\"num is {num}\")\n",
    "else:\n",
    "    print(\"Всё ок\")"
   ]
  },
  {
   "cell_type": "markdown",
   "metadata": {
    "slideshow": {
     "slide_type": "slide"
    }
   },
   "source": [
    "### Practical assignment\n",
    "\n",
    "Найдите сумму цифр, из которых состоит строка.\n",
    "\n",
    "Вы должны создать Python модуль которому можно передать строку, состоящую из цифр.\n",
    "\n",
    "Чтобы получить ввод, вы в начале программы можете считать его, используя модуль стандартной библиотеки `sys`:"
   ]
  },
  {
   "cell_type": "code",
   "execution_count": null,
   "metadata": {
    "ExecuteTime": {
     "end_time": "2018-09-09T20:24:14.028110Z",
     "start_time": "2018-09-09T20:24:14.024793Z"
    },
    "slideshow": {
     "slide_type": "fragment"
    }
   },
   "outputs": [],
   "source": [
    "import sys\n",
    "digit_string = sys.argv[1]"
   ]
  },
  {
   "cell_type": "markdown",
   "metadata": {
    "slideshow": {
     "slide_type": "fragment"
    }
   },
   "source": [
    "То, что полученная программа ведет себя должным образом можно проверить локально, запустив ее следующим образом:\n",
    "```\n",
    "> python3 solution.py 873\n",
    "```"
   ]
  },
  {
   "cell_type": "markdown",
   "metadata": {
    "hideCode": false,
    "hidePrompt": false,
    "slideshow": {
     "slide_type": "slide"
    }
   },
   "source": [
    "## `while` loop\n",
    "\n",
    "It repeatedly executes a block of (normally indented) statements as long as a test at the top keeps evaluating to a true value.\n",
    "```\n",
    "while test:\n",
    "    statements\n",
    "else:\n",
    "    statements\n",
    "```"
   ]
  },
  {
   "cell_type": "code",
   "execution_count": 39,
   "metadata": {
    "ExecuteTime": {
     "end_time": "2018-07-14T01:14:26.957538Z",
     "start_time": "2018-07-14T01:14:26.952848Z"
    },
    "hideCode": false,
    "hidePrompt": false,
    "slideshow": {
     "slide_type": "slide"
    }
   },
   "outputs": [
    {
     "name": "stdout",
     "output_type": "stream",
     "text": [
      "0\n",
      "1\n",
      "2\n",
      "3\n",
      "4\n"
     ]
    }
   ],
   "source": [
    "i = 0\n",
    "\n",
    "while i != 5:\n",
    "    print(i)\n",
    "    i += 1"
   ]
  },
  {
   "cell_type": "markdown",
   "metadata": {
    "hideCode": false,
    "hidePrompt": false,
    "slideshow": {
     "slide_type": "slide"
    }
   },
   "source": [
    "## `if` Statements\n",
    "\n",
    "if statement selects actions to perform. It represents much of the logic a Python program.\n",
    "\n",
    "General format:\n",
    "\n",
    "```\n",
    "if test1:          # if test\n",
    "    statements1\n",
    "elif test2:        # Optional elifs\n",
    "    statements2\n",
    "else:              # Optional else\n",
    "    statements3\n",
    "```"
   ]
  },
  {
   "cell_type": "code",
   "execution_count": 89,
   "metadata": {
    "ExecuteTime": {
     "end_time": "2018-09-09T18:09:02.637971Z",
     "start_time": "2018-09-09T18:09:02.632967Z"
    },
    "slideshow": {
     "slide_type": "slide"
    }
   },
   "outputs": [
    {
     "name": "stdout",
     "output_type": "stream",
     "text": [
      "Нечётное\n"
     ]
    }
   ],
   "source": [
    "num = 3\n",
    "if num is 0:\n",
    "    print(\"Ноль\")\n",
    "elif num % 2:\n",
    "    print(\"Нечётное\")\n",
    "else:\n",
    "    print(\"Четное\")"
   ]
  },
  {
   "cell_type": "markdown",
   "metadata": {
    "slideshow": {
     "slide_type": "slide"
    }
   },
   "source": [
    "### Practical assignment\n",
    "\n",
    "Найдите корни квадратного уравнения с помощью Python.\n",
    "\n",
    "На вход программе мы подадим коэффициенты `a`, `b` и `c` - ваша цель напечатать 2 корня квадратного уравнения (каждый с новой строки)."
   ]
  },
  {
   "cell_type": "code",
   "execution_count": null,
   "metadata": {
    "ExecuteTime": {
     "end_time": "2018-09-09T18:59:09.489525Z",
     "start_time": "2018-09-09T18:59:09.447993Z"
    },
    "hideCode": false,
    "hidePrompt": false,
    "slideshow": {
     "slide_type": "fragment"
    }
   },
   "outputs": [],
   "source": [
    "import sys\n",
    "a = sys.argv[1]\n",
    "b = sys.argv[2]\n",
    "c = sys.argv[3]"
   ]
  },
  {
   "cell_type": "code",
   "execution_count": null,
   "metadata": {
    "slideshow": {
     "slide_type": "skip"
    }
   },
   "outputs": [],
   "source": [
    "D = (b ** 2) - 4 * a * c\n",
    "\n",
    "if D > 0:\n",
    "    x1 = (-b + D**0.5) / 2*a\n",
    "    x2 = (-b - D**0.5) / 2*a\n",
    "elif D == 0:\n",
    "    x1 = x2 = -b/2*a\n",
    "else:\n",
    "    x1 = x2 = \"Корень не существует\"\n",
    "\n",
    "print(int(x1), int(x2), sep=\"\\n\")"
   ]
  },
  {
   "cell_type": "markdown",
   "metadata": {
    "slideshow": {
     "slide_type": "slide"
    }
   },
   "source": [
    "## Функции\n",
    "\n",
    "Функция — это блок кода, который можно переиспользовать несколько раз в разных местах программы. Мы можем передавать функции аргументы и получать возвращаемые значения. Чтобы определить функцию в языке Python, нужно использовать литерал def и с помощью отступа определить блок кода функции.\n",
    "\n",
    "General format:\n",
    "```\n",
    "def name(arg1, arg2,... argN):\n",
    "    statements\n",
    "    return value # optional part\n",
    "```\n"
   ]
  },
  {
   "cell_type": "markdown",
   "metadata": {
    "slideshow": {
     "slide_type": "slide"
    }
   },
   "source": [
    "<table border=\"1\" class=\"docutils\">\n",
    "<colgroup>\n",
    "<col width=\"21%\">\n",
    "<col width=\"18%\">\n",
    "<col width=\"20%\">\n",
    "<col width=\"20%\">\n",
    "<col width=\"22%\">\n",
    "</colgroup>\n",
    "<thead valign=\"bottom\">\n",
    "<tr class=\"row-odd\"><th class=\"head\"></th>\n",
    "<th class=\"head\"></th>\n",
    "    <th class=\"head\"><a href=\"https://docs.python.org/3/library/functions.html\">Built-in Functions</a></th>\n",
    "<th class=\"head\"></th>\n",
    "<th class=\"head\"></th>\n",
    "</tr>\n",
    "</thead>\n",
    "<tbody valign=\"top\">\n",
    "<tr class=\"row-even\"><td><a class=\"reference internal\" href=\"https://docs.python.org/3/library/functions.html#abs\" title=\"abs\"><code class=\"xref py py-func docutils literal notranslate\"><span class=\"pre\">abs()</span></code></a></td>\n",
    "<td><a class=\"reference internal\" href=\"https://docs.python.org/3/library/functions.html#delattr\" title=\"delattr\"><code class=\"xref py py-func docutils literal notranslate\"><span class=\"pre\">delattr()</span></code></a></td>\n",
    "<td><a class=\"reference internal\" href=\"https://docs.python.org/3/library/functions.html#hash\" title=\"hash\"><code class=\"xref py py-func docutils literal notranslate\"><span class=\"pre\">hash()</span></code></a></td>\n",
    "<td><a class=\"reference internal\" href=\"https://docs.python.org/3/library/functions.html#func-memoryview\"><code class=\"docutils literal notranslate\"><span class=\"pre\">memoryview()</span></code></a></td>\n",
    "<td><a class=\"reference internal\" href=\"https://docs.python.org/3/library/functions.html#func-set\"><code class=\"docutils literal notranslate\"><span class=\"pre\">set()</span></code></a></td>\n",
    "</tr>\n",
    "<tr class=\"row-odd\"><td><a class=\"reference internal\" href=\"https://docs.python.org/3/library/functions.html#all\" title=\"all\"><code class=\"xref py py-func docutils literal notranslate\"><span class=\"pre\">all()</span></code></a></td>\n",
    "<td><a class=\"reference internal\" href=\"https://docs.python.org/3/library/functions.html#func-dict\"><code class=\"docutils literal notranslate\"><span class=\"pre\">dict()</span></code></a></td>\n",
    "<td><a class=\"reference internal\" href=\"https://docs.python.org/3/library/functions.html#help\" title=\"help\"><code class=\"xref py py-func docutils literal notranslate\"><span class=\"pre\">help()</span></code></a></td>\n",
    "<td><a class=\"reference internal\" href=\"https://docs.python.org/3/library/functions.html#min\" title=\"min\"><code class=\"xref py py-func docutils literal notranslate\"><span class=\"pre\">min()</span></code></a></td>\n",
    "<td><a class=\"reference internal\" href=\"https://docs.python.org/3/library/functions.html#setattr\" title=\"setattr\"><code class=\"xref py py-func docutils literal notranslate\"><span class=\"pre\">setattr()</span></code></a></td>\n",
    "</tr>\n",
    "<tr class=\"row-even\"><td><a class=\"reference internal\" href=\"https://docs.python.org/3/library/functions.html#any\" title=\"any\"><code class=\"xref py py-func docutils literal notranslate\"><span class=\"pre\">any()</span></code></a></td>\n",
    "<td><a class=\"reference internal\" href=\"https://docs.python.org/3/library/functions.html#dir\" title=\"dir\"><code class=\"xref py py-func docutils literal notranslate\"><span class=\"pre\">dir()</span></code></a></td>\n",
    "<td><a class=\"reference internal\" href=\"https://docs.python.org/3/library/functions.html#hex\" title=\"hex\"><code class=\"xref py py-func docutils literal notranslate\"><span class=\"pre\">hex()</span></code></a></td>\n",
    "<td><a class=\"reference internal\" href=\"https://docs.python.org/3/library/functions.html#next\" title=\"next\"><code class=\"xref py py-func docutils literal notranslate\"><span class=\"pre\">next()</span></code></a></td>\n",
    "<td><a class=\"reference internal\" href=\"https://docs.python.org/3/library/functions.html#slice\" title=\"slice\"><code class=\"xref py py-func docutils literal notranslate\"><span class=\"pre\">slice()</span></code></a></td>\n",
    "</tr>\n",
    "<tr class=\"row-odd\"><td><a class=\"reference internal\" href=\"https://docs.python.org/3/library/functions.html#ascii\" title=\"ascii\"><code class=\"xref py py-func docutils literal notranslate\"><span class=\"pre\">ascii()</span></code></a></td>\n",
    "<td><a class=\"reference internal\" href=\"https://docs.python.org/3/library/functions.html#divmod\" title=\"divmod\"><code class=\"xref py py-func docutils literal notranslate\"><span class=\"pre\">divmod()</span></code></a></td>\n",
    "<td><a class=\"reference internal\" href=\"https://docs.python.org/3/library/functions.html#id\" title=\"id\"><code class=\"xref py py-func docutils literal notranslate\"><span class=\"pre\">id()</span></code></a></td>\n",
    "<td><a class=\"reference internal\" href=\"https://docs.python.org/3/library/functions.html#object\" title=\"object\"><code class=\"xref py py-func docutils literal notranslate\"><span class=\"pre\">object()</span></code></a></td>\n",
    "<td><a class=\"reference internal\" href=\"https://docs.python.org/3/library/functions.html#sorted\" title=\"sorted\"><code class=\"xref py py-func docutils literal notranslate\"><span class=\"pre\">sorted()</span></code></a></td>\n",
    "</tr>\n",
    "<tr class=\"row-even\"><td><a class=\"reference internal\" href=\"https://docs.python.org/3/library/functions.html#bin\" title=\"bin\"><code class=\"xref py py-func docutils literal notranslate\"><span class=\"pre\">bin()</span></code></a></td>\n",
    "<td><a class=\"reference internal\" href=\"https://docs.python.org/3/library/functions.html#enumerate\" title=\"enumerate\"><code class=\"xref py py-func docutils literal notranslate\"><span class=\"pre\">enumerate()</span></code></a></td>\n",
    "<td><a class=\"reference internal\" href=\"https://docs.python.org/3/library/functions.html#input\" title=\"input\"><code class=\"xref py py-func docutils literal notranslate\"><span class=\"pre\">input()</span></code></a></td>\n",
    "<td><a class=\"reference internal\" href=\"https://docs.python.org/3/library/functions.html#oct\" title=\"oct\"><code class=\"xref py py-func docutils literal notranslate\"><span class=\"pre\">oct()</span></code></a></td>\n",
    "<td><a class=\"reference internal\" href=\"https://docs.python.org/3/library/functions.html#staticmethod\" title=\"staticmethod\"><code class=\"xref py py-func docutils literal notranslate\"><span class=\"pre\">staticmethod()</span></code></a></td>\n",
    "</tr>\n",
    "<tr class=\"row-odd\"><td><a class=\"reference internal\" href=\"https://docs.python.org/3/library/functions.html#bool\" title=\"bool\"><code class=\"xref py py-func docutils literal notranslate\"><span class=\"pre\">bool()</span></code></a></td>\n",
    "<td><a class=\"reference internal\" href=\"https://docs.python.org/3/library/functions.html#eval\" title=\"eval\"><code class=\"xref py py-func docutils literal notranslate\"><span class=\"pre\">eval()</span></code></a></td>\n",
    "<td><a class=\"reference internal\" href=\"https://docs.python.org/3/library/functions.html#int\" title=\"int\"><code class=\"xref py py-func docutils literal notranslate\"><span class=\"pre\">int()</span></code></a></td>\n",
    "<td><a class=\"reference internal\" href=\"https://docs.python.org/3/library/functions.html#open\" title=\"open\"><code class=\"xref py py-func docutils literal notranslate\"><span class=\"pre\">open()</span></code></a></td>\n",
    "<td><a class=\"reference internal\" href=\"https://docs.python.org/3/library/functions.html#func-str\"><code class=\"docutils literal notranslate\"><span class=\"pre\">str()</span></code></a></td>\n",
    "</tr>\n",
    "<tr class=\"row-even\"><td><a class=\"reference internal\" href=\"https://docs.python.org/3/library/functions.html#breakpoint\" title=\"breakpoint\"><code class=\"xref py py-func docutils literal notranslate\"><span class=\"pre\">breakpoint()</span></code></a></td>\n",
    "<td><a class=\"reference internal\" href=\"https://docs.python.org/3/library/functions.html#exec\" title=\"exec\"><code class=\"xref py py-func docutils literal notranslate\"><span class=\"pre\">exec()</span></code></a></td>\n",
    "<td><a class=\"reference internal\" href=\"https://docs.python.org/3/library/functions.html#isinstance\" title=\"isinstance\"><code class=\"xref py py-func docutils literal notranslate\"><span class=\"pre\">isinstance()</span></code></a></td>\n",
    "<td><a class=\"reference internal\" href=\"https://docs.python.org/3/library/functions.html#ord\" title=\"ord\"><code class=\"xref py py-func docutils literal notranslate\"><span class=\"pre\">ord()</span></code></a></td>\n",
    "<td><a class=\"reference internal\" href=\"https://docs.python.org/3/library/functions.html#sum\" title=\"sum\"><code class=\"xref py py-func docutils literal notranslate\"><span class=\"pre\">sum()</span></code></a></td>\n",
    "</tr>\n",
    "<tr class=\"row-odd\"><td><a class=\"reference internal\" href=\"https://docs.python.org/3/library/functions.html#func-bytearray\"><code class=\"docutils literal notranslate\"><span class=\"pre\">bytearray()</span></code></a></td>\n",
    "<td><a class=\"reference internal\" href=\"https://docs.python.org/3/library/functions.html#filter\" title=\"filter\"><code class=\"xref py py-func docutils literal notranslate\"><span class=\"pre\">filter()</span></code></a></td>\n",
    "<td><a class=\"reference internal\" href=\"https://docs.python.org/3/library/functions.html#issubclass\" title=\"issubclass\"><code class=\"xref py py-func docutils literal notranslate\"><span class=\"pre\">issubclass()</span></code></a></td>\n",
    "<td><a class=\"reference internal\" href=\"https://docs.python.org/3/library/functions.html#pow\" title=\"pow\"><code class=\"xref py py-func docutils literal notranslate\"><span class=\"pre\">pow()</span></code></a></td>\n",
    "<td><a class=\"reference internal\" href=\"https://docs.python.org/3/library/functions.html#super\" title=\"super\"><code class=\"xref py py-func docutils literal notranslate\"><span class=\"pre\">super()</span></code></a></td>\n",
    "</tr>\n",
    "<tr class=\"row-even\"><td><a class=\"reference internal\" href=\"https://docs.python.org/3/library/functions.html#func-bytes\"><code class=\"docutils literal notranslate\"><span class=\"pre\">bytes()</span></code></a></td>\n",
    "<td><a class=\"reference internal\" href=\"https://docs.python.org/3/library/functions.html#float\" title=\"float\"><code class=\"xref py py-func docutils literal notranslate\"><span class=\"pre\">float()</span></code></a></td>\n",
    "<td><a class=\"reference internal\" href=\"https://docs.python.org/3/library/functions.html#iter\" title=\"iter\"><code class=\"xref py py-func docutils literal notranslate\"><span class=\"pre\">iter()</span></code></a></td>\n",
    "<td><a class=\"reference internal\" href=\"https://docs.python.org/3/library/functions.html#print\" title=\"print\"><code class=\"xref py py-func docutils literal notranslate\"><span class=\"pre\">print()</span></code></a></td>\n",
    "<td><a class=\"reference internal\" href=\"https://docs.python.org/3/library/functions.html#func-tuple\"><code class=\"docutils literal notranslate\"><span class=\"pre\">tuple()</span></code></a></td>\n",
    "</tr>\n",
    "<tr class=\"row-odd\"><td><a class=\"reference internal\" href=\"https://docs.python.org/3/library/functions.html#callable\" title=\"callable\"><code class=\"xref py py-func docutils literal notranslate\"><span class=\"pre\">callable()</span></code></a></td>\n",
    "<td><a class=\"reference internal\" href=\"https://docs.python.org/3/library/functions.html#format\" title=\"format\"><code class=\"xref py py-func docutils literal notranslate\"><span class=\"pre\">format()</span></code></a></td>\n",
    "<td><a class=\"reference internal\" href=\"https://docs.python.org/3/library/functions.html#len\" title=\"len\"><code class=\"xref py py-func docutils literal notranslate\"><span class=\"pre\">len()</span></code></a></td>\n",
    "<td><a class=\"reference internal\" href=\"https://docs.python.org/3/library/functions.html#property\" title=\"property\"><code class=\"xref py py-func docutils literal notranslate\"><span class=\"pre\">property()</span></code></a></td>\n",
    "<td><a class=\"reference internal\" href=\"https://docs.python.org/3/library/functions.html#type\" title=\"type\"><code class=\"xref py py-func docutils literal notranslate\"><span class=\"pre\">type()</span></code></a></td>\n",
    "</tr>\n",
    "<tr class=\"row-even\"><td><a class=\"reference internal\" href=\"https://docs.python.org/3/library/functions.html#chr\" title=\"chr\"><code class=\"xref py py-func docutils literal notranslate\"><span class=\"pre\">chr()</span></code></a></td>\n",
    "<td><a class=\"reference internal\" href=\"https://docs.python.org/3/library/functions.html#func-frozenset\"><code class=\"docutils literal notranslate\"><span class=\"pre\">frozenset()</span></code></a></td>\n",
    "<td><a class=\"reference internal\" href=\"https://docs.python.org/3/library/functions.html#func-list\"><code class=\"docutils literal notranslate\"><span class=\"pre\">list()</span></code></a></td>\n",
    "<td><a class=\"reference internal\" href=\"https://docs.python.org/3/library/functions.html#func-range\"><code class=\"docutils literal notranslate\"><span class=\"pre\">range()</span></code></a></td>\n",
    "<td><a class=\"reference internal\" href=\"https://docs.python.org/3/library/functions.html#vars\" title=\"vars\"><code class=\"xref py py-func docutils literal notranslate\"><span class=\"pre\">vars()</span></code></a></td>\n",
    "</tr>\n",
    "<tr class=\"row-odd\"><td><a class=\"reference internal\" href=\"https://docs.python.org/3/library/functions.html#classmethod\" title=\"classmethod\"><code class=\"xref py py-func docutils literal notranslate\"><span class=\"pre\">classmethod()</span></code></a></td>\n",
    "<td><a class=\"reference internal\" href=\"https://docs.python.org/3/library/functions.html#getattr\" title=\"getattr\"><code class=\"xref py py-func docutils literal notranslate\"><span class=\"pre\">getattr()</span></code></a></td>\n",
    "<td><a class=\"reference internal\" href=\"https://docs.python.org/3/library/functions.html#locals\" title=\"locals\"><code class=\"xref py py-func docutils literal notranslate\"><span class=\"pre\">locals()</span></code></a></td>\n",
    "<td><a class=\"reference internal\" href=\"https://docs.python.org/3/library/functions.html#repr\" title=\"repr\"><code class=\"xref py py-func docutils literal notranslate\"><span class=\"pre\">repr()</span></code></a></td>\n",
    "<td><a class=\"reference internal\" href=\"https://docs.python.org/3/library/functions.html#zip\" title=\"zip\"><code class=\"xref py py-func docutils literal notranslate\"><span class=\"pre\">zip()</span></code></a></td>\n",
    "</tr>\n",
    "<tr class=\"row-even\"><td><a class=\"reference internal\" href=\"https://docs.python.org/3/library/functions.html#compile\" title=\"compile\"><code class=\"xref py py-func docutils literal notranslate\"><span class=\"pre\">compile()</span></code></a></td>\n",
    "<td><a class=\"reference internal\" href=\"https://docs.python.org/3/library/functions.html#globals\" title=\"globals\"><code class=\"xref py py-func docutils literal notranslate\"><span class=\"pre\">globals()</span></code></a></td>\n",
    "<td><a class=\"reference internal\" href=\"https://docs.python.org/3/library/functions.html#map\" title=\"map\"><code class=\"xref py py-func docutils literal notranslate\"><span class=\"pre\">map()</span></code></a></td>\n",
    "<td><a class=\"reference internal\" href=\"https://docs.python.org/3/library/functions.html#reversed\" title=\"reversed\"><code class=\"xref py py-func docutils literal notranslate\"><span class=\"pre\">reversed()</span></code></a></td>\n",
    "<td><a class=\"reference internal\" href=\"https://docs.python.org/3/library/functions.html#__import__\" title=\"__import__\"><code class=\"xref py py-func docutils literal notranslate\"><span class=\"pre\">__import__()</span></code></a></td>\n",
    "</tr>\n",
    "<tr class=\"row-odd\"><td><a class=\"reference internal\" href=\"https://docs.python.org/3/library/functions.html#complex\" title=\"complex\"><code class=\"xref py py-func docutils literal notranslate\"><span class=\"pre\">complex()</span></code></a></td>\n",
    "<td><a class=\"reference internal\" href=\"https://docs.python.org/3/library/functions.html#hasattr\" title=\"hasattr\"><code class=\"xref py py-func docutils literal notranslate\"><span class=\"pre\">hasattr()</span></code></a></td>\n",
    "<td><a class=\"reference internal\" href=\"https://docs.python.org/3/library/functions.html#max\" title=\"max\"><code class=\"xref py py-func docutils literal notranslate\"><span class=\"pre\">max()</span></code></a></td>\n",
    "<td><a class=\"reference internal\" href=\"https://docs.python.org/3/library/functions.html#round\" title=\"round\"><code class=\"xref py py-func docutils literal notranslate\"><span class=\"pre\">round()</span></code></a></td>\n",
    "<td>&nbsp;</td>\n",
    "</tr>\n",
    "</tbody>\n",
    "</table>"
   ]
  },
  {
   "cell_type": "markdown",
   "metadata": {
    "slideshow": {
     "slide_type": "slide"
    }
   },
   "source": [
    "Объявим функцию, которая возвращает секундную часть текущего времени."
   ]
  },
  {
   "cell_type": "code",
   "execution_count": 101,
   "metadata": {
    "ExecuteTime": {
     "end_time": "2018-09-09T19:12:32.002797Z",
     "start_time": "2018-09-09T19:12:31.995714Z"
    },
    "slideshow": {
     "slide_type": "fragment"
    }
   },
   "outputs": [
    {
     "data": {
      "text/plain": [
       "31"
      ]
     },
     "execution_count": 101,
     "metadata": {},
     "output_type": "execute_result"
    }
   ],
   "source": [
    "from datetime import datetime\n",
    "\n",
    "\n",
    "def get_seconds():\n",
    "    \"\"\"Return current seconds\"\"\"\n",
    "    return datetime.now().second\n",
    "\n",
    "\n",
    "get_seconds()"
   ]
  },
  {
   "cell_type": "markdown",
   "metadata": {
    "slideshow": {
     "slide_type": "slide"
    }
   },
   "source": [
    "Чтобы получить документационную строку, можно обратиться к атрибуту `__doc__`, а имя функции получается с помощью атрибута `__name__`."
   ]
  },
  {
   "cell_type": "markdown",
   "metadata": {
    "slideshow": {
     "slide_type": "fragment"
    }
   },
   "source": [
    "Существуют [различные форматы док-строк](https://stackoverflow.com/questions/3898572/what-is-the-standard-python-docstring-format), которые позволяют генерировать документацию в виде web-страниц. [Пример](http://pandas.pydata.org/pandas-docs/stable/generated/pandas.read_csv.html#pandas.read_csv)."
   ]
  },
  {
   "cell_type": "code",
   "execution_count": 98,
   "metadata": {
    "ExecuteTime": {
     "end_time": "2018-09-09T19:10:52.894886Z",
     "start_time": "2018-09-09T19:10:52.888735Z"
    },
    "slideshow": {
     "slide_type": "fragment"
    }
   },
   "outputs": [
    {
     "data": {
      "text/plain": [
       "'Return current seconds'"
      ]
     },
     "execution_count": 98,
     "metadata": {},
     "output_type": "execute_result"
    }
   ],
   "source": [
    "get_seconds.__doc__"
   ]
  },
  {
   "cell_type": "code",
   "execution_count": 99,
   "metadata": {
    "ExecuteTime": {
     "end_time": "2018-09-09T19:11:04.461262Z",
     "start_time": "2018-09-09T19:11:04.456103Z"
    },
    "slideshow": {
     "slide_type": "fragment"
    }
   },
   "outputs": [
    {
     "data": {
      "text/plain": [
       "'get_seconds'"
      ]
     },
     "execution_count": 99,
     "metadata": {},
     "output_type": "execute_result"
    }
   ],
   "source": [
    "get_seconds.__name__"
   ]
  },
  {
   "cell_type": "markdown",
   "metadata": {
    "ExecuteTime": {
     "end_time": "2018-09-09T19:13:24.096475Z",
     "start_time": "2018-09-09T19:13:24.090267Z"
    },
    "slideshow": {
     "slide_type": "slide"
    }
   },
   "source": [
    "Чаще всего функция определяется с параметрами, т.к. зачастую функции каким-то образом обрабатывают переданные им значения."
   ]
  },
  {
   "cell_type": "code",
   "execution_count": 103,
   "metadata": {
    "ExecuteTime": {
     "end_time": "2018-09-09T19:14:20.265675Z",
     "start_time": "2018-09-09T19:14:20.259978Z"
    },
    "slideshow": {
     "slide_type": "fragment"
    }
   },
   "outputs": [
    {
     "data": {
      "text/plain": [
       "9"
      ]
     },
     "execution_count": 103,
     "metadata": {},
     "output_type": "execute_result"
    }
   ],
   "source": [
    "def add(a, b):\n",
    "    return a + b\n",
    "\n",
    "add(4, 5)"
   ]
  },
  {
   "cell_type": "markdown",
   "metadata": {
    "slideshow": {
     "slide_type": "slide"
    }
   },
   "source": [
    "Функции могут принимать значения по-умолчанию:"
   ]
  },
  {
   "cell_type": "code",
   "execution_count": 106,
   "metadata": {
    "ExecuteTime": {
     "end_time": "2018-09-09T19:19:39.929532Z",
     "start_time": "2018-09-09T19:19:39.923550Z"
    },
    "scrolled": true,
    "slideshow": {
     "slide_type": "fragment"
    }
   },
   "outputs": [
    {
     "data": {
      "text/plain": [
       "14"
      ]
     },
     "execution_count": 106,
     "metadata": {},
     "output_type": "execute_result"
    }
   ],
   "source": [
    "def add(a, b=10):\n",
    "    return a + b\n",
    "\n",
    "add(4)"
   ]
  },
  {
   "cell_type": "markdown",
   "metadata": {
    "slideshow": {
     "slide_type": "skip"
    }
   },
   "source": [
    "# Функциональное программирование\n",
    "\n",
    "Функции в Python — это такие же объекты, как и, например, строки, списки или классы. Их можно передавать в другие функции, возвращать из функций, создавать на лету — то есть это объекты первого класса."
   ]
  },
  {
   "cell_type": "markdown",
   "metadata": {
    "slideshow": {
     "slide_type": "slide"
    }
   },
   "source": [
    "# Files\n",
    "\n",
    "To open a file, a program calls the built-in `open` function, with the external filename first, followed by a processing mode. The call returns a file object, which in turn has methods for data transfer:\n",
    "```\n",
    "========= ===============================================================\n",
    "Character Meaning\n",
    "--------- ---------------------------------------------------------------\n",
    "'r'       open for reading (default)\n",
    "'w'       open for writing, truncating the file first\n",
    "'x'       create a new file and open it for writing\n",
    "'a'       open for writing, appending to the end of the file if it exists\n",
    "'b'       binary mode\n",
    "'t'       text mode (default)\n",
    "```"
   ]
  },
  {
   "cell_type": "code",
   "execution_count": 121,
   "metadata": {
    "ExecuteTime": {
     "end_time": "2018-09-09T20:56:27.683376Z",
     "start_time": "2018-09-09T20:56:27.671055Z"
    },
    "slideshow": {
     "slide_type": "slide"
    }
   },
   "outputs": [],
   "source": [
    "file_obj = open(\"data.txt\", \"wt\", encoding=\"utf8\")\n",
    "file_obj.write(\"First line\\n\") # Write a line of text: string\n",
    "file_obj.write(\"Second line\\n\")\n",
    "file_obj.close() # Close the file"
   ]
  },
  {
   "cell_type": "code",
   "execution_count": 122,
   "metadata": {
    "ExecuteTime": {
     "end_time": "2018-09-09T20:56:28.827093Z",
     "start_time": "2018-09-09T20:56:28.816541Z"
    },
    "scrolled": true,
    "slideshow": {
     "slide_type": "slide"
    }
   },
   "outputs": [
    {
     "data": {
      "text/plain": [
       "['First line\\n', 'Second line\\n']"
      ]
     },
     "execution_count": 122,
     "metadata": {},
     "output_type": "execute_result"
    }
   ],
   "source": [
    "file_obj = open(\"data.txt\")\n",
    "file_obj.readlines()"
   ]
  },
  {
   "cell_type": "code",
   "execution_count": 123,
   "metadata": {
    "ExecuteTime": {
     "end_time": "2018-09-09T20:56:30.553138Z",
     "start_time": "2018-09-09T20:56:30.547388Z"
    },
    "slideshow": {
     "slide_type": "fragment"
    }
   },
   "outputs": [
    {
     "data": {
      "text/plain": [
       "0"
      ]
     },
     "execution_count": 123,
     "metadata": {},
     "output_type": "execute_result"
    }
   ],
   "source": [
    "file_obj.seek(0)"
   ]
  },
  {
   "cell_type": "code",
   "execution_count": 124,
   "metadata": {
    "ExecuteTime": {
     "end_time": "2018-09-09T20:56:31.811617Z",
     "start_time": "2018-09-09T20:56:31.805812Z"
    },
    "slideshow": {
     "slide_type": "fragment"
    }
   },
   "outputs": [
    {
     "name": "stdout",
     "output_type": "stream",
     "text": [
      "FIRST LINE\n",
      "SECOND LINE\n"
     ]
    }
   ],
   "source": [
    "for line in file_obj:\n",
    "    print(line.upper(), end=\"\")"
   ]
  },
  {
   "cell_type": "code",
   "execution_count": 125,
   "metadata": {
    "ExecuteTime": {
     "end_time": "2018-09-09T20:56:34.144996Z",
     "start_time": "2018-09-09T20:56:34.141404Z"
    },
    "slideshow": {
     "slide_type": "fragment"
    }
   },
   "outputs": [],
   "source": [
    "file_obj.close()"
   ]
  },
  {
   "cell_type": "markdown",
   "metadata": {
    "slideshow": {
     "slide_type": "slide"
    }
   },
   "source": [
    "Рекомендуется открывать файлы несколько по-другому — с помощью контекстного менеджера, который позволяет не заботиться о закрытии файлов. Вы можете открыть файл с помощью оператора `with`, записать файловый объект в переменную `file_obj` и потом работать с файлом внутри этого контекстного блока. После выхода из блока интерпретатор Python закроет файл."
   ]
  },
  {
   "cell_type": "code",
   "execution_count": 126,
   "metadata": {
    "ExecuteTime": {
     "end_time": "2018-09-09T20:56:38.162238Z",
     "start_time": "2018-09-09T20:56:38.145360Z"
    },
    "slideshow": {
     "slide_type": "fragment"
    }
   },
   "outputs": [
    {
     "name": "stdout",
     "output_type": "stream",
     "text": [
      "FIRST LINE\n",
      "SECOND LINE\n"
     ]
    }
   ],
   "source": [
    "with open(\"data.txt\") as file_obj:\n",
    "    for line in file_obj:\n",
    "        print(line.upper(), end=\"\")"
   ]
  },
  {
   "cell_type": "markdown",
   "metadata": {
    "slideshow": {
     "slide_type": "slide"
    }
   },
   "source": [
    "### Practical assignment\n",
    "\n",
    "Реализуйте собственный key-value storage. Вашей задачей будет написать скрипт, который принимает в качестве аргументов ключи и значения и выводит информацию из хранилища (в нашем случае — из файла).\n",
    "\n",
    "Запись значения по ключу\n",
    "\n",
    "> storage.py --key key_name --val value\n",
    "\n",
    "Получение значения по ключу\n",
    "\n",
    "> storage.py --key key_name\n",
    "\n",
    "Ответом в данном случае будет вывод с помощью `print` соответствующего значения\n",
    "\n",
    "> value\n",
    "\n",
    "или\n",
    "\n",
    "> value_1, value_2\n",
    "\n",
    "если значений по этому ключу было записано несколько. Метрики сохраняйте в порядке их добавления. Обратите внимание на пробел после запятой."
   ]
  },
  {
   "cell_type": "markdown",
   "metadata": {
    "slideshow": {
     "slide_type": "slide"
    }
   },
   "source": [
    "Если значений по ключу не было найдено, выводите пустую строку или `None`.\n",
    "\n",
    "Для работы с аргументами командной строки используйте модуль [`argparse`](https://docs.python.org/3/howto/argparse.html). Вашей задачей будет считать аргументы, переданные вашей программе, и записать соответствующую пару ключ-значение в файл хранилища или вывести значения, если был передан только ключ. Хранить данные вы можете в формате JSON с помощью стандартного модуля [`json`](https://docs.python.org/3/library/json.html). Проверьте добавление нескольких ключей и разных значений.\n",
    "\n",
    "Файл следует создавать с помощью модуля [`tempfile`](https://docs.python.org/3/library/tempfile.html)."
   ]
  },
  {
   "cell_type": "code",
   "execution_count": 1,
   "metadata": {
    "ExecuteTime": {
     "end_time": "2018-09-13T09:46:06.050850Z",
     "start_time": "2018-09-13T09:46:06.029382Z"
    },
    "slideshow": {
     "slide_type": "fragment"
    }
   },
   "outputs": [],
   "source": [
    "import os\n",
    "import tempfile\n",
    "\n",
    "storage_path = os.path.join(tempfile.gettempdir(), 'storage.data')\n",
    "with open(storage_path, 'w') as f:\n",
    "  ..."
   ]
  },
  {
   "cell_type": "code",
   "execution_count": null,
   "metadata": {
    "ExecuteTime": {
     "end_time": "2018-09-13T09:50:00.382835Z",
     "start_time": "2018-09-13T09:50:00.361893Z"
    },
    "slideshow": {
     "slide_type": "skip"
    }
   },
   "outputs": [],
   "source": [
    "import os\n",
    "import tempfile\n",
    "import argparse\n",
    "import json\n",
    "\n",
    "storage_path = os.path.join(tempfile.gettempdir(), 'storage1.data')\n",
    "parser = argparse.ArgumentParser()\n",
    "parser.add_argument(\"--key\", help=\"Получение значения по ключу или запись\")\n",
    "parser.add_argument(\"--value\", help=\"Запись значения, если указан ключ\")\n",
    "args = parser.parse_args()\n",
    "\n",
    "\n",
    "if os.path.exists(storage_path):\n",
    "    storage = json.load(open(storage_path, 'r'))\n",
    "else:\n",
    "    storage = {}\n",
    "\n",
    "\n",
    "if args.key and not args.value:\n",
    "    if args.key in storage:\n",
    "        print(\", \".join(storage[args.key]))\n",
    "    else:\n",
    "        print(None)\n",
    "\n",
    "if args.key and args.value:\n",
    "    if args.key not in storage:\n",
    "        storage[args.key] = [args.value]\n",
    "    else:\n",
    "        storage[args.key].append(args.value)\n",
    "\n",
    "if not args.key:\n",
    "    print(\"Укажите ключ\")\n",
    "\n",
    "storage = json.dump(storage, open(storage_path, 'w'))\n"
   ]
  },
  {
   "cell_type": "markdown",
   "metadata": {
    "slideshow": {
     "slide_type": "skip"
    }
   },
   "source": [
    "## List Comprehensions\n"
   ]
  },
  {
   "cell_type": "markdown",
   "metadata": {
    "slideshow": {
     "slide_type": "skip"
    }
   },
   "source": [
    "List comprehensions provide a concise way to create lists. \n",
    "\n",
    "As list comprehension returns list, they consists of brackets containing the expression which needs to be executed for each element along with the for loop to iterate over each element.\n",
    "\n",
    "<img src=\"http://python-3-patterns-idioms-test.readthedocs.io/en/latest/_images/listComprehensions.gif\">"
   ]
  },
  {
   "cell_type": "markdown",
   "metadata": {
    "hideCode": false,
    "hidePrompt": false,
    "slideshow": {
     "slide_type": "slide"
    }
   },
   "source": [
    "# Модули\n",
    "\n",
    "1. Программы делятся на модули.\n",
    "2. **Модули содержат инструкции.**\n",
    "3. Инструкции состоят из выражений.\n",
    "4. Выражения создают и обрабатывают объекты."
   ]
  },
  {
   "cell_type": "markdown",
   "metadata": {
    "ExecuteTime": {
     "end_time": "2018-09-09T20:34:21.921649Z",
     "start_time": "2018-09-09T20:34:21.915019Z"
    },
    "slideshow": {
     "slide_type": "slide"
    }
   },
   "source": [
    "В Python разделение кода осуществляется с помощью модулей и пакетов. Модуль в Python — это обычный файл с расширением `.py`, который содержит определения переменных, функций, классов, и который также может содержать импорты других модулей. Импорт выполняется стандартной командой `import`.\n",
    "\n",
    "Python импортирует модуль и выполняет все инструкции, которые в этом модуле определены на верхнем уровне."
   ]
  },
  {
   "cell_type": "code",
   "execution_count": 117,
   "metadata": {
    "ExecuteTime": {
     "end_time": "2018-09-09T20:35:27.577678Z",
     "start_time": "2018-09-09T20:35:27.573842Z"
    },
    "hideCode": false,
    "hidePrompt": false,
    "slideshow": {
     "slide_type": "fragment"
    }
   },
   "outputs": [],
   "source": [
    "import math # import lets a client (importer) fetch a module as a whole"
   ]
  },
  {
   "cell_type": "code",
   "execution_count": 119,
   "metadata": {
    "ExecuteTime": {
     "end_time": "2018-09-09T20:35:32.810334Z",
     "start_time": "2018-09-09T20:35:32.804007Z"
    },
    "hideCode": false,
    "hidePrompt": false,
    "slideshow": {
     "slide_type": "fragment"
    }
   },
   "outputs": [
    {
     "data": {
      "text/plain": [
       "<module 'math' from '/Library/Frameworks/Python.framework/Versions/3.6/lib/python3.6/lib-dynload/math.cpython-36m-darwin.so'>"
      ]
     },
     "execution_count": 119,
     "metadata": {},
     "output_type": "execute_result"
    }
   ],
   "source": [
    "print(math)"
   ]
  },
  {
   "cell_type": "code",
   "execution_count": 47,
   "metadata": {
    "ExecuteTime": {
     "end_time": "2018-07-14T01:35:02.376224Z",
     "start_time": "2018-07-14T01:35:02.371571Z"
    },
    "hideCode": false,
    "hidePrompt": false,
    "slideshow": {
     "slide_type": "fragment"
    }
   },
   "outputs": [
    {
     "data": {
      "text/plain": [
       "3.141592653589793"
      ]
     },
     "execution_count": 47,
     "metadata": {},
     "output_type": "execute_result"
    }
   ],
   "source": [
    "math.pi # constants"
   ]
  },
  {
   "cell_type": "markdown",
   "metadata": {
    "slideshow": {
     "slide_type": "slide"
    }
   },
   "source": [
    "Конструкция `from mymodule import my_function` позволяет импортировать только определённые объявления из модуля. Чтобы импортировать все объявления из модуля, пишут `from mymodule import *`."
   ]
  },
  {
   "cell_type": "code",
   "execution_count": 120,
   "metadata": {
    "ExecuteTime": {
     "end_time": "2018-09-09T20:37:00.972401Z",
     "start_time": "2018-09-09T20:37:00.964369Z"
    },
    "slideshow": {
     "slide_type": "fragment"
    }
   },
   "outputs": [],
   "source": [
    "from math import log, e # `from` allows clients to fetch particular names from a module"
   ]
  },
  {
   "cell_type": "markdown",
   "metadata": {
    "slideshow": {
     "slide_type": "slide"
    }
   },
   "source": [
    "## Виртуальные окуржения\n",
    "Иногда модулей недостаточно, используются более крупные объединения — пакеты. Пакеты в Python — это директория, которая содержит один или больше модулей. Внутри пакетов могут содержаться другие пакеты. Внутри директории с пакетом должен находиться файл `__init__.py` (обычно пустой). Этот файл выполняется каждый раз, когда мы импортируем пакет."
   ]
  },
  {
   "cell_type": "markdown",
   "metadata": {
    "slideshow": {
     "slide_type": "slide"
    }
   },
   "source": [
    "Хорошей практикой при программировании на Python является использование виртуальных окружений. Виртуальное окружение в Python — это окружение, которое позволяет изолировать зависимости для определённого проекта. Обычно для каждого проекта создаётся своё виртуальное окружение, в которое ставятся все пакеты, используемые в данном проекте.\n",
    "\n",
    "Чтобы создать виртуальное окружение, воспользуемся модулем venv. Синтаксис:\n",
    "```\n",
    "python3 −m venv <название директории>\n",
    "```\n"
   ]
  },
  {
   "cell_type": "markdown",
   "metadata": {
    "slideshow": {
     "slide_type": "slide"
    }
   },
   "source": [
    "Виртуальное окружение активируется следующей командой:\n",
    "```\n",
    "source <название директории>/bin/activate\n",
    "```\n",
    "После этого в виртуальное окружение можно устанавливать пакеты известной нам командой `pip install`."
   ]
  },
  {
   "cell_type": "markdown",
   "metadata": {
    "hideCode": false,
    "hidePrompt": false,
    "slideshow": {
     "slide_type": "skip"
    }
   },
   "source": [
    "## Practical assignment"
   ]
  },
  {
   "cell_type": "markdown",
   "metadata": {
    "slideshow": {
     "slide_type": "skip"
    }
   },
   "source": [
    "Some guys [scraped tweets](https://www.kaggle.com/fifthtribe/how-isis-uses-twitter/home) from 100+ pro-ISIS fanboys from all over the world since the November 2015 Paris Attacks.\n",
    "\n",
    "Example of such tweet:\n",
    "\n",
    "> RT @maaj19: سَمِعْنَا وَ أطَعْنَا #gd #gd#fdfd @allah\n",
    "\n",
    "I saved random sample of these tweets in a file \"tweets_IS.txt\", one tweet per line. Read the file and do the following tasks:\n",
    "1. Calculate the distribution of hashtags. What is the most populat hashtag in these tweets?\n",
    "2. Calculate the distribution of mentions. What is the most populat user mentioned in these tweets?\n",
    "3. What is the longest tweet?"
   ]
  },
  {
   "cell_type": "markdown",
   "metadata": {
    "slideshow": {
     "slide_type": "skip"
    }
   },
   "source": [
    "## Lambda functions\n"
   ]
  },
  {
   "cell_type": "markdown",
   "metadata": {
    "slideshow": {
     "slide_type": "skip"
    }
   },
   "source": [
    "Besides the def statement, Python also provides an expression form that generates function objects, it’s called lambda.\n",
    "\n",
    "Like def, this expression creates a function to be called later, but it returns the function instead of assigning it to a name. This is why lambdas are sometimes known as anonymous (i.e., unnamed) functions. In practice, they are often used as a way to inline a function definition.\n",
    "\n",
    "The lambda’s general form is the keyword lambda, followed by one or more arguments (exactly like the arguments list you enclose in parentheses in a def header), followed by an expression after a colon:\n",
    "\n",
    "```\n",
    "lambda argument1, argument2,... argumentN : expression using arguments\n",
    "```"
   ]
  },
  {
   "cell_type": "code",
   "execution_count": 7,
   "metadata": {
    "ExecuteTime": {
     "end_time": "2018-07-16T21:17:03.897731Z",
     "start_time": "2018-07-16T21:17:03.884637Z"
    },
    "slideshow": {
     "slide_type": "skip"
    }
   },
   "outputs": [],
   "source": [
    "def power(x, power=2):\n",
    "    return x ** power"
   ]
  },
  {
   "cell_type": "code",
   "execution_count": 13,
   "metadata": {
    "ExecuteTime": {
     "end_time": "2018-07-16T21:19:59.879915Z",
     "start_time": "2018-07-16T21:19:59.876964Z"
    },
    "slideshow": {
     "slide_type": "skip"
    }
   },
   "outputs": [],
   "source": [
    "power = lambda x, power=2: x**power"
   ]
  },
  {
   "cell_type": "markdown",
   "metadata": {
    "slideshow": {
     "slide_type": "skip"
    }
   },
   "source": [
    "There are a few differences that make lambdas useful in specialized roles:\n",
    "\n",
    "1. **lambda is an expression, not a statement.** Because of this, a lambda can appear in places a def is not allowed by Python’s syntax—inside a list literal or a function call’s arguments, for example. With def, functions can be referenced by name but must be created elsewhere. As an expression, lambda returns a value (a new func- tion) that can optionally be assigned a name. In contrast, the def statement always assigns the new function to the name in the header, instead of returning it as a result.\n",
    "\n",
    "2. **lambda’s body is a single expression, not a block of statements.**"
   ]
  },
  {
   "cell_type": "markdown",
   "metadata": {
    "slideshow": {
     "slide_type": "skip"
    }
   },
   "source": [
    "### Why Use lambda?\n",
    "\n",
    "Take a look at the `sorted` function. It returns a new list containing all items from the iterable in ascending order."
   ]
  },
  {
   "cell_type": "markdown",
   "metadata": {
    "slideshow": {
     "slide_type": "skip"
    }
   },
   "source": [
    "Lets create a list of random numbers with module random."
   ]
  },
  {
   "cell_type": "code",
   "execution_count": 19,
   "metadata": {
    "ExecuteTime": {
     "end_time": "2018-07-16T21:32:54.452271Z",
     "start_time": "2018-07-16T21:32:54.446810Z"
    },
    "slideshow": {
     "slide_type": "skip"
    }
   },
   "outputs": [
    {
     "data": {
      "text/plain": [
       "[28, 61, 3, 11, 96, 73, 33, 28, 93, 32]"
      ]
     },
     "execution_count": 19,
     "metadata": {},
     "output_type": "execute_result"
    }
   ],
   "source": [
    "import random\n",
    "# Return a k sized list of population elements chosen with replacement.\n",
    "random_list = random.choices(range(100), k=10)\n",
    "random_list"
   ]
  },
  {
   "cell_type": "code",
   "execution_count": 20,
   "metadata": {
    "ExecuteTime": {
     "end_time": "2018-07-16T21:33:10.622815Z",
     "start_time": "2018-07-16T21:33:10.615797Z"
    },
    "slideshow": {
     "slide_type": "skip"
    }
   },
   "outputs": [
    {
     "data": {
      "text/plain": [
       "[3, 11, 28, 28, 32, 33, 61, 73, 93, 96]"
      ]
     },
     "execution_count": 20,
     "metadata": {},
     "output_type": "execute_result"
    }
   ],
   "source": [
    "sorted(random_list)"
   ]
  },
  {
   "cell_type": "markdown",
   "metadata": {
    "slideshow": {
     "slide_type": "skip"
    }
   },
   "source": [
    "`sorted` function has an argument `key`, which accept a custom key function can be supplied to customize the sort order. It is useful when we want to sort by nested element."
   ]
  },
  {
   "cell_type": "code",
   "execution_count": 25,
   "metadata": {
    "ExecuteTime": {
     "end_time": "2018-07-16T21:43:56.792591Z",
     "start_time": "2018-07-16T21:43:56.782286Z"
    },
    "slideshow": {
     "slide_type": "skip"
    }
   },
   "outputs": [],
   "source": [
    "orders = [\n",
    "    {\n",
    "        \"name\": \"pizza pepperoni\",\n",
    "        \"price\": 12,\n",
    "        \"amount\": 1\n",
    "    },\n",
    "    {\n",
    "        \"name\": \"Coca-cola\",\n",
    "        \"price\": 4,\n",
    "        \"amount\": 2\n",
    "    },\n",
    "    {\n",
    "        \"name\": \"Cupcake\",\n",
    "        \"price\": 3,\n",
    "        \"amount\": 10\n",
    "    }\n",
    "]"
   ]
  },
  {
   "cell_type": "code",
   "execution_count": 26,
   "metadata": {
    "ExecuteTime": {
     "end_time": "2018-07-16T21:43:57.058094Z",
     "start_time": "2018-07-16T21:43:57.047273Z"
    },
    "slideshow": {
     "slide_type": "skip"
    }
   },
   "outputs": [
    {
     "data": {
      "text/plain": [
       "[{'name': 'Cupcake', 'price': 3, 'amount': 10},\n",
       " {'name': 'Coca-cola', 'price': 4, 'amount': 2},\n",
       " {'name': 'pizza pepperoni', 'price': 12, 'amount': 1}]"
      ]
     },
     "execution_count": 26,
     "metadata": {},
     "output_type": "execute_result"
    }
   ],
   "source": [
    "sorted(orders, key=lambda el: el[\"price\"])"
   ]
  },
  {
   "cell_type": "code",
   "execution_count": 27,
   "metadata": {
    "ExecuteTime": {
     "end_time": "2018-07-16T21:43:57.816148Z",
     "start_time": "2018-07-16T21:43:57.810320Z"
    },
    "slideshow": {
     "slide_type": "skip"
    }
   },
   "outputs": [
    {
     "data": {
      "text/plain": [
       "[{'name': 'Cupcake', 'price': 3, 'amount': 10},\n",
       " {'name': 'Coca-cola', 'price': 4, 'amount': 2},\n",
       " {'name': 'pizza pepperoni', 'price': 12, 'amount': 1}]"
      ]
     },
     "execution_count": 27,
     "metadata": {},
     "output_type": "execute_result"
    }
   ],
   "source": [
    "# it is the same as \n",
    "def sort_function(el):\n",
    "    return el[\"price\"]\n",
    "\n",
    "sorted(orders, key=sort_function)"
   ]
  },
  {
   "cell_type": "markdown",
   "metadata": {
    "slideshow": {
     "slide_type": "skip"
    }
   },
   "source": [
    "### Practical assignment\n",
    "There is a mistake in a previous example. Orders must be sorted in another way. Why? Write correct answer."
   ]
  }
 ],
 "metadata": {
  "celltoolbar": "Slideshow",
  "hide_code_all_hidden": false,
  "kernelspec": {
   "display_name": "Python 3",
   "language": "python",
   "name": "python3"
  },
  "language_info": {
   "codemirror_mode": {
    "name": "ipython",
    "version": 3
   },
   "file_extension": ".py",
   "mimetype": "text/x-python",
   "name": "python",
   "nbconvert_exporter": "python",
   "pygments_lexer": "ipython3",
   "version": "3.6.5"
  },
  "toc": {
   "nav_menu": {},
   "number_sections": true,
   "sideBar": true,
   "skip_h1_title": false,
   "toc_cell": false,
   "toc_position": {},
   "toc_section_display": "block",
   "toc_window_display": true
  }
 },
 "nbformat": 4,
 "nbformat_minor": 2
}
