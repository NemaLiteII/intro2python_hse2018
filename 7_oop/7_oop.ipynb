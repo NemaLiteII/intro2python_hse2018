{
 "cells": [
  {
   "cell_type": "markdown",
   "metadata": {
    "slideshow": {
     "slide_type": "slide"
    }
   },
   "source": [
    "Объектно-ориентированное программирование (ООП) — методология программирования, основанная на представлении программы в виде совокупности объектов, каждый из которых является экземпляром определённого класса, а классы образуют иерархию наследования.\n",
    "\n",
    "Ключевые черты ООП:\n",
    "1. Инкапсуляция — это определение классов — пользовательских типов данных, объединяющих своё содержимое в единый тип и реализующих некоторые операции или методы над ним. Классы обычно являются основой модульности, инкапсуляции и абстракции данных в языках ООП.\n",
    "2. Наследование — способ определения нового типа, когда новый тип наследует элементы (свойства и методы) существующего, модифицируя или расширяя их. Это способствует выражению специализации и генерализации.\n",
    "3. Полиморфизм позволяет единообразно ссылаться на объекты различных классов (обычно внутри некоторой иерархии). Это делает классы ещё удобнее и облегчает расширение и поддержку программ, основанных на них."
   ]
  },
  {
   "cell_type": "markdown",
   "metadata": {
    "slideshow": {
     "slide_type": "slide"
    }
   },
   "source": [
    "[**Класс**](https://ru.wikipedia.org/wiki/%D0%9A%D0%BB%D0%B0%D1%81%D1%81_(%D0%BF%D1%80%D0%BE%D0%B3%D1%80%D0%B0%D0%BC%D0%BC%D0%B8%D1%80%D0%BE%D0%B2%D0%B0%D0%BD%D0%B8%D0%B5)) — универсальный, комплексный тип данных, состоящий из тематически единого набора «полей» (переменных более элементарных типов) и «методов» (функций для работы с этими полями), то есть он является моделью информационной сущности с внутренним и внешним интерфейсами для оперирования своим содержимым (значениями полей). Классы служат для объединения функционала, связанного общей идеей и смыслом, в одну сущность, у которой может быть свое внутреннее состояние, а также методы, которые позволяют модифицировать это состояние.\n",
    "\n",
    "[**Объект**](https://ru.wikipedia.org/wiki/%D0%9E%D0%B1%D1%8A%D0%B5%D0%BA%D1%82_(%D0%BF%D1%80%D0%BE%D0%B3%D1%80%D0%B0%D0%BC%D0%BC%D0%B8%D1%80%D0%BE%D0%B2%D0%B0%D0%BD%D0%B8%D0%B5)) — сущность в адресном пространстве вычислительной системы, появляющаяся при создании экземпляра класса (например, после запуска результатов компиляции и связывания исходного кода на выполнение)."
   ]
  },
  {
   "cell_type": "markdown",
   "metadata": {
    "slideshow": {
     "slide_type": "slide"
    }
   },
   "source": [
    "Типы данных (такие как int, float и др.) в Python являются классами, структуры данных (dict, list, ...) — это также классы."
   ]
  },
  {
   "cell_type": "code",
   "execution_count": 1,
   "metadata": {
    "ExecuteTime": {
     "end_time": "2018-09-18T10:09:56.777134Z",
     "start_time": "2018-09-18T10:09:56.759489Z"
    },
    "slideshow": {
     "slide_type": "fragment"
    }
   },
   "outputs": [
    {
     "name": "stdout",
     "output_type": "stream",
     "text": [
      "<class 'int'>\n",
      "<class 'dict'>\n"
     ]
    }
   ],
   "source": [
    "print(int)\n",
    "print(dict)"
   ]
  },
  {
   "cell_type": "markdown",
   "metadata": {
    "slideshow": {
     "slide_type": "slide"
    }
   },
   "source": [
    "Для того, что узнать, принадлежит ли объект к определённому типу (т.е. классу), существует стандартная функция `isinstance`."
   ]
  },
  {
   "cell_type": "code",
   "execution_count": 3,
   "metadata": {
    "ExecuteTime": {
     "end_time": "2018-09-18T10:10:53.531019Z",
     "start_time": "2018-09-18T10:10:53.525537Z"
    },
    "slideshow": {
     "slide_type": "fragment"
    }
   },
   "outputs": [
    {
     "data": {
      "text/plain": [
       "True"
      ]
     },
     "execution_count": 3,
     "metadata": {},
     "output_type": "execute_result"
    }
   ],
   "source": [
    "num = 13\n",
    "isinstance(num, int)"
   ]
  },
  {
   "cell_type": "markdown",
   "metadata": {
    "slideshow": {
     "slide_type": "slide"
    }
   },
   "source": [
    "## Реализация собственных классов"
   ]
  },
  {
   "cell_type": "code",
   "execution_count": 70,
   "metadata": {
    "ExecuteTime": {
     "end_time": "2018-09-18T12:22:23.110576Z",
     "start_time": "2018-09-18T12:22:23.106805Z"
    },
    "slideshow": {
     "slide_type": "fragment"
    }
   },
   "outputs": [],
   "source": [
    "class Country:\n",
    "    pass"
   ]
  },
  {
   "cell_type": "code",
   "execution_count": 71,
   "metadata": {
    "ExecuteTime": {
     "end_time": "2018-09-18T12:22:25.727348Z",
     "start_time": "2018-09-18T12:22:25.722353Z"
    },
    "slideshow": {
     "slide_type": "fragment"
    }
   },
   "outputs": [
    {
     "name": "stdout",
     "output_type": "stream",
     "text": [
      "['__class__', '__delattr__', '__dict__', '__dir__', '__doc__', '__eq__', '__format__', '__ge__', '__getattribute__', '__gt__', '__hash__', '__init__', '__init_subclass__', '__le__', '__lt__', '__module__', '__ne__', '__new__', '__reduce__', '__reduce_ex__', '__repr__', '__setattr__', '__sizeof__', '__str__', '__subclasshook__', '__weakref__']\n"
     ]
    }
   ],
   "source": [
    "print(dir(Country))"
   ]
  },
  {
   "cell_type": "code",
   "execution_count": 73,
   "metadata": {
    "ExecuteTime": {
     "end_time": "2018-09-18T12:23:17.297174Z",
     "start_time": "2018-09-18T12:23:17.293952Z"
    },
    "slideshow": {
     "slide_type": "slide"
    }
   },
   "outputs": [],
   "source": [
    "russia = Country() # Создаются два экземпляра\n",
    "china = Country() # Каждый является отдельным пространством имен"
   ]
  },
  {
   "cell_type": "code",
   "execution_count": 74,
   "metadata": {
    "ExecuteTime": {
     "end_time": "2018-09-18T12:23:17.649846Z",
     "start_time": "2018-09-18T12:23:17.646414Z"
    },
    "slideshow": {
     "slide_type": "fragment"
    }
   },
   "outputs": [],
   "source": [
    "russia.name = \"Russia\" # Можно получать/записывать значения атрибутов\n",
    "china.name = \"China\""
   ]
  },
  {
   "cell_type": "markdown",
   "metadata": {
    "slideshow": {
     "slide_type": "slide"
    }
   },
   "source": [
    "Первым аргументом метод `__init__` принимает ссылку на только что созданный экземпляр класса, далее могут идти другие аргументы. Внутри инициализатора мы можем по ссылке `self` установить так называемые атрибуты экземпляра. В данном случае мы ставим атрибут экземпляра `name` и присваиваем ему аргумент `name`  — имя страны:"
   ]
  },
  {
   "cell_type": "code",
   "execution_count": 75,
   "metadata": {
    "ExecuteTime": {
     "end_time": "2018-09-18T12:23:47.592939Z",
     "start_time": "2018-09-18T12:23:47.586111Z"
    },
    "slideshow": {
     "slide_type": "fragment"
    }
   },
   "outputs": [],
   "source": [
    "class Country:\n",
    "    def __init__(self, name):\n",
    "        self.name = name"
   ]
  },
  {
   "cell_type": "code",
   "execution_count": 78,
   "metadata": {
    "ExecuteTime": {
     "end_time": "2018-09-18T12:24:17.513953Z",
     "start_time": "2018-09-18T12:24:17.509824Z"
    },
    "slideshow": {
     "slide_type": "fragment"
    }
   },
   "outputs": [],
   "source": [
    "russia = Country(\"Russia\")"
   ]
  },
  {
   "cell_type": "code",
   "execution_count": 79,
   "metadata": {
    "ExecuteTime": {
     "end_time": "2018-09-18T12:24:25.802841Z",
     "start_time": "2018-09-18T12:24:25.797255Z"
    }
   },
   "outputs": [
    {
     "data": {
      "text/plain": [
       "__main__.Country"
      ]
     },
     "execution_count": 79,
     "metadata": {},
     "output_type": "execute_result"
    }
   ],
   "source": [
    "russia.__class__"
   ]
  },
  {
   "cell_type": "code",
   "execution_count": 81,
   "metadata": {
    "ExecuteTime": {
     "end_time": "2018-09-18T12:26:06.969065Z",
     "start_time": "2018-09-18T12:26:06.962622Z"
    },
    "slideshow": {
     "slide_type": "slide"
    }
   },
   "outputs": [
    {
     "name": "stdout",
     "output_type": "stream",
     "text": [
      "[Country Russia, Country Kazakhstan, Country China, Country Italy]\n"
     ]
    }
   ],
   "source": [
    "class Country:\n",
    "    def __init__(self, name):\n",
    "        self.name = name\n",
    "\n",
    "    # магический метод __str__ переопределяет то, как будет печататься объект\n",
    "    def __str__(self):\n",
    "        return self.name\n",
    "\n",
    "    # repr() однозначное текстовое представление (representation) объекта полезное для отладки\n",
    "    def __repr__(self):\n",
    "        return f\"Country {self.name}\"\n",
    "\n",
    "\n",
    "countries = []\n",
    "country_names = [\"Russia\", \"Kazakhstan\", \"China\", \"Italy\"]\n",
    "for name in country_names:\n",
    "    country = Country(name)\n",
    "    countries.append(country)\n",
    "print(countries)"
   ]
  },
  {
   "cell_type": "markdown",
   "metadata": {
    "slideshow": {
     "slide_type": "slide"
    }
   },
   "source": [
    "## Классовые переменные\n",
    "\n",
    "Иногда нужно создать переменную, которая будет работать в контексте класса, но не будет связана с каждым конкретным экземпляром (т.е. будет относиться непосредственно к самому классу, а не к экземпляру). В этом примере `count` (счётчик стран) — это атрибут класса:"
   ]
  },
  {
   "cell_type": "code",
   "execution_count": 82,
   "metadata": {
    "ExecuteTime": {
     "end_time": "2018-09-18T12:29:46.716614Z",
     "start_time": "2018-09-18T12:29:46.712141Z"
    },
    "slideshow": {
     "slide_type": "fragment"
    }
   },
   "outputs": [],
   "source": [
    "class Country:\n",
    "    count = 0\n",
    "    def __init__(self, name, population=None):\n",
    "        self.name = name\n",
    "        self.population = population or []\n",
    "        Country.count += 1"
   ]
  },
  {
   "cell_type": "code",
   "execution_count": 83,
   "metadata": {
    "ExecuteTime": {
     "end_time": "2018-09-18T12:30:37.015016Z",
     "start_time": "2018-09-18T12:30:37.010158Z"
    },
    "slideshow": {
     "slide_type": "fragment"
    }
   },
   "outputs": [
    {
     "name": "stdout",
     "output_type": "stream",
     "text": [
      "2 2 {'name': 'China', 'population': []}\n"
     ]
    }
   ],
   "source": [
    "russia = Country(\"Russia\")\n",
    "china = Country(\"China\") \n",
    "print(Country.count, russia.count, china.__dict__)"
   ]
  },
  {
   "cell_type": "markdown",
   "metadata": {
    "slideshow": {
     "slide_type": "slide"
    }
   },
   "source": [
    "Когда счетчик ссылок на экземпляр класса достигает нуля (мы уже говорили про сборщик мусора в Python и то, что он использует счетчик ссылок), вызывается метод `__del__` экземпляра. Это также магический метод, который Python нам предоставляет возможность переопределить:"
   ]
  },
  {
   "cell_type": "code",
   "execution_count": 84,
   "metadata": {
    "ExecuteTime": {
     "end_time": "2018-09-18T12:31:36.611621Z",
     "start_time": "2018-09-18T12:31:36.605776Z"
    },
    "slideshow": {
     "slide_type": "fragment"
    }
   },
   "outputs": [],
   "source": [
    "class Country:\n",
    "    def __init__(self, name):\n",
    "        self.name = name\n",
    "    def __del__(self):\n",
    "        print(f\"Country {self.name} has been exterminated!\")\n",
    "\n",
    "byzantium = Country(\"Byzantium\")"
   ]
  },
  {
   "cell_type": "code",
   "execution_count": 85,
   "metadata": {
    "ExecuteTime": {
     "end_time": "2018-09-18T12:31:42.938982Z",
     "start_time": "2018-09-18T12:31:42.935095Z"
    },
    "slideshow": {
     "slide_type": "fragment"
    }
   },
   "outputs": [
    {
     "name": "stdout",
     "output_type": "stream",
     "text": [
      "Country Byzantium has been exterminated!\n"
     ]
    }
   ],
   "source": [
    "del byzantium"
   ]
  },
  {
   "cell_type": "markdown",
   "metadata": {
    "slideshow": {
     "slide_type": "slide"
    }
   },
   "source": [
    "## Методы\n",
    "Методы — это функции, которые действуют в контексте экземпляра класса. Таким образом, они могут менять состояние экземпляра, обращаясь к атрибутам экземпляра или делать любую другую полезную работу."
   ]
  },
  {
   "cell_type": "code",
   "execution_count": 90,
   "metadata": {
    "ExecuteTime": {
     "end_time": "2018-09-18T12:35:29.598454Z",
     "start_time": "2018-09-18T12:35:29.593239Z"
    },
    "slideshow": {
     "slide_type": "slide"
    }
   },
   "outputs": [],
   "source": [
    "class Human:\n",
    "    def __init__(self, name, age=0):\n",
    "        self.name = name\n",
    "        self.age = age\n",
    "\n",
    "    def _say(self, text):\n",
    "        print(text)\n",
    "\n",
    "    def say_name(self):\n",
    "        self._say(f\"Hello, I am {self.name}\")\n",
    "\n",
    "    def say_how_old(self):\n",
    "        self._say(f\"I am {self._age} years old\")\n",
    "\n",
    "\n",
    "class Country:\n",
    "    def __init__(self, name, population=None):\n",
    "        self.name = name\n",
    "        self.population = population or []\n",
    "\n",
    "    def add_human(self, human):\n",
    "        print(f\"Welcome to {self.name}, {human.name}!\")\n",
    "        self.population.append(human)"
   ]
  },
  {
   "cell_type": "code",
   "execution_count": 91,
   "metadata": {
    "ExecuteTime": {
     "end_time": "2018-09-18T12:35:29.926875Z",
     "start_time": "2018-09-18T12:35:29.922019Z"
    }
   },
   "outputs": [
    {
     "name": "stdout",
     "output_type": "stream",
     "text": [
      "Hello, I am Gérard Depardieu\n",
      "Welcome to Russia, Gérard Depardieu!\n"
     ]
    }
   ],
   "source": [
    "russia = Country(\"Russia\")\n",
    "settler = Human(\"Gérard Depardieu\", age=69)\n",
    "settler.say_name()\n",
    "russia.add_human(settler)"
   ]
  },
  {
   "cell_type": "code",
   "execution_count": 92,
   "metadata": {
    "ExecuteTime": {
     "end_time": "2018-09-18T12:35:36.745193Z",
     "start_time": "2018-09-18T12:35:36.739147Z"
    }
   },
   "outputs": [
    {
     "data": {
      "text/plain": [
       "[<__main__.Human at 0x10f52ab00>]"
      ]
     },
     "execution_count": 92,
     "metadata": {},
     "output_type": "execute_result"
    }
   ],
   "source": [
    "russia.population"
   ]
  },
  {
   "cell_type": "markdown",
   "metadata": {},
   "source": [
    "## Перегрузка операторов"
   ]
  },
  {
   "cell_type": "code",
   "execution_count": 97,
   "metadata": {
    "ExecuteTime": {
     "end_time": "2018-09-18T12:40:48.905406Z",
     "start_time": "2018-09-18T12:40:48.900470Z"
    }
   },
   "outputs": [],
   "source": [
    "class Country:\n",
    "    def __init__(self, name, population=None):\n",
    "        self.name = name\n",
    "        self.population = population or []\n",
    "\n",
    "    def __add__(self, other):\n",
    "        print(f\"Countries {self.name} and {other.name} are allies now!\")\n",
    "        return Country(f\"Alliance of {self.name} and {other.name}\")"
   ]
  },
  {
   "cell_type": "code",
   "execution_count": 103,
   "metadata": {
    "ExecuteTime": {
     "end_time": "2018-09-18T12:47:21.179655Z",
     "start_time": "2018-09-18T12:47:21.173227Z"
    }
   },
   "outputs": [
    {
     "name": "stdout",
     "output_type": "stream",
     "text": [
      "Countries Russia and Belarus are allies now!\n"
     ]
    },
    {
     "data": {
      "text/plain": [
       "'Alliance of Russia and Belarus'"
      ]
     },
     "execution_count": 103,
     "metadata": {},
     "output_type": "execute_result"
    }
   ],
   "source": [
    "russia = Country(\"Russia\")\n",
    "belarus = Country(\"Belarus\")\n",
    "(russia + belarus).name"
   ]
  },
  {
   "cell_type": "markdown",
   "metadata": {},
   "source": [
    "## Наследование"
   ]
  },
  {
   "cell_type": "code",
   "execution_count": 112,
   "metadata": {
    "ExecuteTime": {
     "end_time": "2018-09-18T12:50:33.950594Z",
     "start_time": "2018-09-18T12:50:33.946656Z"
    },
    "slideshow": {
     "slide_type": "slide"
    }
   },
   "outputs": [],
   "source": [
    "class Country:\n",
    "    def __init__(self, name=None):\n",
    "        self.name = name"
   ]
  },
  {
   "cell_type": "code",
   "execution_count": 119,
   "metadata": {
    "ExecuteTime": {
     "end_time": "2018-09-18T12:52:43.043176Z",
     "start_time": "2018-09-18T12:52:43.036444Z"
    }
   },
   "outputs": [
    {
     "name": "stdout",
     "output_type": "stream",
     "text": [
      "Название: Ленинградская область. Статус: область\n"
     ]
    }
   ],
   "source": [
    "class Region(Country):\n",
    "    def __init__(self, name, status=\"\"):\n",
    "        '''\n",
    "        Вызовем инициализатор родительского класса, используя функцию super()\n",
    "        Вызов функции super() без параметров равносилен тому, что мы указали сам класс и передали туда объект self\n",
    "        То же самое, что Region.__init__(self)\n",
    "        '''\n",
    "        super().__init__(name)\n",
    "        self.status = status\n",
    "\n",
    "    def get_info(self):\n",
    "        return \"Название: {}. Статус: {}\".format(self.name, self.status)\n",
    "\n",
    "\n",
    "len_obl = Region(\"Ленинградская область\", \"область\")\n",
    "print(len_obl.get_info())"
   ]
  },
  {
   "cell_type": "markdown",
   "metadata": {},
   "source": [
    "Множественное наследование через классы примеси"
   ]
  },
  {
   "cell_type": "code",
   "execution_count": 120,
   "metadata": {
    "ExecuteTime": {
     "end_time": "2018-09-18T12:52:44.529333Z",
     "start_time": "2018-09-18T12:52:44.525337Z"
    }
   },
   "outputs": [],
   "source": [
    "import json\n",
    "\n",
    "\n",
    "class ExportJSON:\n",
    "    def to_json(self):\n",
    "        return json.dumps({\"name\": self.name, \"status\": self.status})\n",
    "\n",
    "\n",
    "class ExReg(Region, ExportJSON):\n",
    "    pass"
   ]
  },
  {
   "cell_type": "code",
   "execution_count": 121,
   "metadata": {
    "ExecuteTime": {
     "end_time": "2018-09-18T12:52:45.530963Z",
     "start_time": "2018-09-18T12:52:45.525698Z"
    }
   },
   "outputs": [
    {
     "data": {
      "text/plain": [
       "'{\"name\": \"\\\\u041b\\\\u0435\\\\u043d\\\\u0438\\\\u043d\\\\u0433\\\\u0440\\\\u0430\\\\u0434\\\\u0441\\\\u043a\\\\u0430\\\\u044f \\\\u043e\\\\u0431\\\\u043b\\\\u0430\\\\u0441\\\\u0442\\\\u044c\", \"status\": \"\\\\u043e\\\\u0431\\\\u043b\\\\u0430\\\\u0441\\\\u0442\\\\u044c\"}'"
      ]
     },
     "execution_count": 121,
     "metadata": {},
     "output_type": "execute_result"
    }
   ],
   "source": [
    "ExReg(\"Ленинградская область\", \"область\").to_json()"
   ]
  },
  {
   "cell_type": "code",
   "execution_count": 111,
   "metadata": {
    "ExecuteTime": {
     "end_time": "2018-09-18T12:48:50.701593Z",
     "start_time": "2018-09-18T12:48:50.696591Z"
    }
   },
   "outputs": [
    {
     "name": "stdout",
     "output_type": "stream",
     "text": [
      "True\n",
      "True\n",
      "True\n",
      "True\n"
     ]
    }
   ],
   "source": [
    "print(issubclass(int, object))\n",
    "print(issubclass(Region, object))\n",
    "print(issubclass(Region, Country))\n",
    "print(issubclass(ExReg, Country))"
   ]
  },
  {
   "cell_type": "markdown",
   "metadata": {},
   "source": [
    "## Приватные атрибуты\n",
    "\n",
    "Также в Python существуют приватные атрибуты. Для того чтобы создать приватный атрибут, необходимо его имя записать через два символа нижнего подчёркивания. Тогда в самом классе к нему можно обращаться так же, а вот для классов-наследников этот атрибут будет уже недо- ступен.\n",
    "*На самом деле не так всё просто, Python просто изменяет название и оно доступно в `__dict__`*\n"
   ]
  },
  {
   "cell_type": "markdown",
   "metadata": {},
   "source": [
    "## Практика\n",
    "Попробуйте сделать [задание на классы](https://www.coursera.org/learn/diving-in-python/programming/bd6aI/klassy-i-nasliedovaniie) из курса [Погружение в Python](https://www.coursera.org/learn/diving-in-python/home/welcome)"
   ]
  },
  {
   "cell_type": "code",
   "execution_count": 123,
   "metadata": {
    "ExecuteTime": {
     "end_time": "2018-09-19T08:57:30.980335Z",
     "start_time": "2018-09-19T08:57:30.961837Z"
    },
    "code_folding": []
   },
   "outputs": [],
   "source": [
    "import os\n",
    "import csv\n",
    "\n",
    "\n",
    "class CarBase:\n",
    "    car_type = \"car\"\n",
    "\n",
    "    def __init__(self, brand, photo_file_name, carrying):\n",
    "        self.brand = brand\n",
    "        self.photo_file_name = photo_file_name\n",
    "        self.carrying = float(carrying)\n",
    "\n",
    "    def get_photo_file_ext(self):\n",
    "        return os.path.splitext(self.photo_file_name)[-1]\n",
    "\n",
    "\n",
    "class Car(CarBase):\n",
    "    def __init__(self, brand, photo_file_name, carrying, passenger_seats_count):\n",
    "        super().__init__(brand, photo_file_name, carrying)\n",
    "        self.passenger_seats_count = int(passenger_seats_count)\n",
    "\n",
    "\n",
    "class Truck(CarBase):\n",
    "    car_type = \"truck\"\n",
    "\n",
    "    def __init__(self, brand, photo_file_name, carrying, body_whl):\n",
    "        super().__init__(brand, photo_file_name, carrying)\n",
    "        self.body_width = float(body_whl.split(\"x\")[1]) if body_whl else 0\n",
    "        self.body_height = float(body_whl.split(\"x\")[2]) if body_whl else 0\n",
    "        self.body_length = float(body_whl.split(\"x\")[0]) if body_whl else 0\n",
    "\n",
    "    def get_body_volume(self):\n",
    "        return self.body_width * \\\n",
    "            self.body_height * \\\n",
    "            self.body_length\n",
    "\n",
    "\n",
    "class SpecMachine(CarBase):\n",
    "    car_type = \"spec_machine\"\n",
    "\n",
    "    def __init__(self, brand, photo_file_name, carrying, extra):\n",
    "        super().__init__(brand, photo_file_name, carrying)\n",
    "        self.extra = extra\n",
    "\n",
    "\n",
    "def get_car_list(csv_filename):\n",
    "    car_list = []\n",
    "    with open(csv_filename) as f:\n",
    "        csv_reader = csv.DictReader(f, delimiter=\";\")\n",
    "        for row in csv_reader:\n",
    "            print(row)\n",
    "            if row[\"car_type\"] == \"car\":\n",
    "                car = Car(brand=row[\"brand\"],\n",
    "                          photo_file_name=row[\"photo_file_name\"],\n",
    "                          carrying=row[\"carrying\"],\n",
    "                          passenger_seats_count=row[\"passenger_seats_count\"])\n",
    "                car_list.append(car)\n",
    "            if row[\"car_type\"] == \"truck\":\n",
    "                car = Truck(brand=row[\"brand\"],\n",
    "                          photo_file_name=row[\"photo_file_name\"],\n",
    "                          carrying=row[\"carrying\"],\n",
    "                          body_whl=row[\"body_whl\"]\n",
    "                        )\n",
    "                car_list.append(car)\n",
    "            if row[\"car_type\"] == \"spec_machine\":\n",
    "                car = SpecMachine(brand=row[\"brand\"],\n",
    "                          photo_file_name=row[\"photo_file_name\"],\n",
    "                          carrying=row[\"carrying\"],\n",
    "                          extra=row[\"extra\"])\n",
    "                car_list.append(car)\n",
    "    return car_list"
   ]
  }
 ],
 "metadata": {
  "celltoolbar": "Slideshow",
  "kernelspec": {
   "display_name": "Python 3",
   "language": "python",
   "name": "python3"
  },
  "language_info": {
   "codemirror_mode": {
    "name": "ipython",
    "version": 3
   },
   "file_extension": ".py",
   "mimetype": "text/x-python",
   "name": "python",
   "nbconvert_exporter": "python",
   "pygments_lexer": "ipython3",
   "version": "3.6.5"
  },
  "toc": {
   "nav_menu": {},
   "number_sections": true,
   "sideBar": true,
   "skip_h1_title": false,
   "toc_cell": false,
   "toc_position": {},
   "toc_section_display": "block",
   "toc_window_display": false
  }
 },
 "nbformat": 4,
 "nbformat_minor": 2
}
