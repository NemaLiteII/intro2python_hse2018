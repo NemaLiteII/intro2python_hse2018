{
 "cells": [
  {
   "cell_type": "markdown",
   "metadata": {
    "slideshow": {
     "slide_type": "slide"
    }
   },
   "source": [
    "# Исторические факты о языке Python"
   ]
  },
  {
   "cell_type": "markdown",
   "metadata": {
    "slideshow": {
     "slide_type": "slide"
    }
   },
   "source": [
    "## Факт 1\n",
    "Создан Великодушным Пожизненным Диктатором (Benevolent Dictator For Life) Гвидо ван Россумом в конце 1980-х\n",
    "<img src=\"img/guido.png\" width=\"500\">"
   ]
  },
  {
   "cell_type": "markdown",
   "metadata": {
    "slideshow": {
     "slide_type": "slide"
    }
   },
   "source": [
    "## Факт 2\n",
    "Вдохновлён языком ABC, который разрабатывался в качестве обучающего языка.\n",
    "```\n",
    "HOW TO RETURN words document:\n",
    "   PUT {} IN collection\n",
    "   FOR line IN document:\n",
    "      FOR word IN split line:\n",
    "         IF word not.in collection:\n",
    "            INSERT word IN collection\n",
    "   RETURN collection\n",
    "\n",
    "```"
   ]
  },
  {
   "cell_type": "markdown",
   "metadata": {
    "slideshow": {
     "slide_type": "slide"
    }
   },
   "source": [
    "## Факт 3\n",
    "Назван в честь телевизионного шоу Monty Python\n",
    "<img src=\"img/monty.jpg\" width=\"500\">"
   ]
  },
  {
   "cell_type": "markdown",
   "metadata": {
    "slideshow": {
     "slide_type": "slide"
    }
   },
   "source": [
    "## Факт 4\n",
    "Имеет несколько несовместимых между собой версий\n",
    "\n",
    "<img src=\"img/pythons_fight.png\" width=\"500\">"
   ]
  },
  {
   "cell_type": "markdown",
   "metadata": {
    "slideshow": {
     "slide_type": "slide"
    }
   },
   "source": [
    "# Особенности Python"
   ]
  },
  {
   "cell_type": "markdown",
   "metadata": {
    "slideshow": {
     "slide_type": "fragment"
    }
   },
   "source": [
    "## Высокоуровневый\n",
    "<img src=\"img/high_level.png\" width=\"500\">"
   ]
  },
  {
   "cell_type": "markdown",
   "metadata": {
    "slideshow": {
     "slide_type": "slide"
    }
   },
   "source": [
    "## Язык общего назначения. Широко используется для написания скриптов.\n"
   ]
  },
  {
   "cell_type": "markdown",
   "metadata": {
    "slideshow": {
     "slide_type": "slide"
    }
   },
   "source": [
    "## Интерпретируемый\n",
    "<img src=\"img/interpreted.png\" width=\"800\">"
   ]
  },
  {
   "cell_type": "markdown",
   "metadata": {
    "slideshow": {
     "slide_type": "slide"
    }
   },
   "source": [
    "## А также...\n",
    "* Динамически типизированный\n",
    "* Автоматическая сборка мусора\n",
    "* Мультипарадигмальный\n",
    "* Форматирование кода построено на отступах\n",
    "* Позволяет легко интегрировать в себя библиотеки на С/C++\n",
    "* Свободный\n",
    "* Широко используется в науке и машинном обучении\n"
   ]
  },
  {
   "cell_type": "markdown",
   "metadata": {
    "slideshow": {
     "slide_type": "slide"
    }
   },
   "source": [
    "# Ресурсы для самостоятельного изучения\n",
    "* Читайте документацию внешнюю ([docs.python.org/3/](https://docs.python.org/3/)) и встроенную ([`help()`](https://docs.python.org/3/library/functions.html#help))\n",
    "\n",
    "* Проходите онлайн-курсы, например специализацию [«Программирование на Python» на Сoursera](https://www.coursera.org/specializations/programming-in-python) (многие примеры взяты от туда).\n",
    "\n",
    "* Обширный справочник по языку: Лутц. Изучаем Python\n",
    "* [Тимофей Хирьянов. Алгоритмы и структуры данных на Python 3](https://www.youtube.com/watch?v=KdZ4HF1SrFs&list=PLRDzFCPr95fK7tr47883DFUbm4GeOjjc0)\n",
    "\n",
    "тысячи их"
   ]
  },
  {
   "cell_type": "markdown",
   "metadata": {
    "slideshow": {
     "slide_type": "slide"
    }
   },
   "source": [
    "## Среды разработки\n",
    "* Интерактивная консоль, IPython\n",
    "* Текстовые редакторы: Sublime Text, Atom, Notepad++, Vim\n",
    "* IDE: PyCharm, IDLE\n",
    "* Cреды разработки для научных вычислений: Jupyter, Rodeo"
   ]
  },
  {
   "cell_type": "markdown",
   "metadata": {
    "ExecuteTime": {
     "end_time": "2018-09-08T22:40:47.102275Z",
     "start_time": "2018-09-08T22:40:47.096644Z"
    },
    "slideshow": {
     "slide_type": "slide"
    }
   },
   "source": [
    "Для самостоятельного чтеня: [«Python выходит в лидеры»: кто и почему его использует](https://habr.com/company/it-grad/blog/418909/)"
   ]
  }
 ],
 "metadata": {
  "celltoolbar": "Slideshow",
  "hide_code_all_hidden": false,
  "kernelspec": {
   "display_name": "Python 3",
   "language": "python",
   "name": "python3"
  },
  "language_info": {
   "codemirror_mode": {
    "name": "ipython",
    "version": 3
   },
   "file_extension": ".py",
   "mimetype": "text/x-python",
   "name": "python",
   "nbconvert_exporter": "python",
   "pygments_lexer": "ipython3",
   "version": "3.6.5"
  },
  "toc": {
   "nav_menu": {},
   "number_sections": true,
   "sideBar": true,
   "skip_h1_title": false,
   "toc_cell": false,
   "toc_position": {},
   "toc_section_display": "block",
   "toc_window_display": true
  }
 },
 "nbformat": 4,
 "nbformat_minor": 2
}
