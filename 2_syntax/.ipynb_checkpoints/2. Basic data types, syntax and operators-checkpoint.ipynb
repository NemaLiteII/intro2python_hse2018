{
 "cells": [
  {
   "cell_type": "raw",
   "metadata": {
    "slideshow": {
     "slide_type": "skip"
    }
   },
   "source": [
    "/Users/hun/Google Drive/Teaching/Intro2Python/2. Basic data types, syntax and operators/2. Basic data types, syntax and operators.ipynb"
   ]
  },
  {
   "cell_type": "markdown",
   "metadata": {
    "slideshow": {
     "slide_type": "slide"
    }
   },
   "source": [
    "# Начало работы\n",
    "1. [Установите Python и pip](https://www.python.org/downloads/). Обязательно отметьте галочкой опцию **Add Python 3.6 to PATH** – это сделает Python 3 доступным в командной строке.\n",
    "2. Войдите в режим интерактивной консоли при помощи командной строки. См. [Команды командной строки](https://white55.ru/cmd-sh.html)\n",
    "3. Попробуйти ввести простое арифметическое выражение\n",
    "4. Создайте файл с расширением `.py`\n",
    "5. Запишите это выражение в него и выведите его при помощи функции `print()`\n",
    "6. Запустите код их этого файла"
   ]
  },
  {
   "cell_type": "markdown",
   "metadata": {
    "hideCode": false,
    "hidePrompt": false,
    "slideshow": {
     "slide_type": "slide"
    }
   },
   "source": [
    "# Структура программы на Python\n",
    "1. Программы делятся на модули.\n",
    "2. Модули содержат инструкции.\n",
    "3. Инструкции состоят из выражений.\n",
    "4. Выражения создают и обрабатывают объекты."
   ]
  },
  {
   "cell_type": "markdown",
   "metadata": {
    "hideCode": false,
    "hidePrompt": false,
    "slideshow": {
     "slide_type": "slide"
    }
   },
   "source": [
    "# Структура программы на Python\n",
    "1. Программы делятся на модули.\n",
    "2. Модули содержат инструкции.\n",
    "3. Инструкции состоят из выражений.\n",
    "4. **Выражения создают и обрабатывают объекты**."
   ]
  },
  {
   "cell_type": "markdown",
   "metadata": {
    "hideCode": false,
    "hidePrompt": false,
    "slideshow": {
     "slide_type": "slide"
    }
   },
   "source": [
    "# Переменные\n",
    "Для сохранение и использования объектов используют переменные."
   ]
  },
  {
   "cell_type": "code",
   "execution_count": 6,
   "metadata": {
    "ExecuteTime": {
     "end_time": "2018-07-14T13:46:31.051755Z",
     "start_time": "2018-07-14T13:46:31.047925Z"
    },
    "hideCode": false,
    "hidePrompt": false,
    "slideshow": {
     "slide_type": "fragment"
    }
   },
   "outputs": [],
   "source": [
    "a = 3"
   ]
  },
  {
   "cell_type": "markdown",
   "metadata": {
    "ExecuteTime": {
     "end_time": "2018-09-08T19:39:13.371939Z",
     "start_time": "2018-09-08T19:39:13.347240Z"
    },
    "slideshow": {
     "slide_type": "fragment"
    }
   },
   "source": [
    "Инструкция присваивания создает ссылку на объект. Они всегда создают ссылки на объекты и никогда не создают копии объектов."
   ]
  },
  {
   "cell_type": "markdown",
   "metadata": {
    "slideshow": {
     "slide_type": "slide"
    }
   },
   "source": [
    "## Формы присваивания переменных"
   ]
  },
  {
   "cell_type": "code",
   "execution_count": 5,
   "metadata": {
    "ExecuteTime": {
     "end_time": "2018-09-08T19:41:54.498124Z",
     "start_time": "2018-09-08T19:41:54.489488Z"
    },
    "slideshow": {
     "slide_type": "fragment"
    }
   },
   "outputs": [],
   "source": [
    "a = 3\n",
    "a = b = 1\n",
    "a, b = 1, 2"
   ]
  },
  {
   "cell_type": "markdown",
   "metadata": {
    "slideshow": {
     "slide_type": "slide"
    }
   },
   "source": [
    "Не обязательно объявлять тип переменных во время присваивания"
   ]
  },
  {
   "cell_type": "code",
   "execution_count": 6,
   "metadata": {
    "ExecuteTime": {
     "end_time": "2018-09-08T19:43:59.716994Z",
     "start_time": "2018-09-08T19:43:59.710256Z"
    },
    "hideCode": false,
    "hidePrompt": false,
    "slideshow": {
     "slide_type": "fragment"
    }
   },
   "outputs": [
    {
     "name": "stdout",
     "output_type": "stream",
     "text": [
      "1\n",
      "spam\n"
     ]
    }
   ],
   "source": [
    "print(a)\n",
    "a = 'spam' # Now it's a string\n",
    "print(a)"
   ]
  },
  {
   "cell_type": "markdown",
   "metadata": {
    "hideCode": false,
    "hidePrompt": false,
    "slideshow": {
     "slide_type": "fragment"
    }
   },
   "source": [
    "Тут я добавил комментарии – текст, следующий за символом `#`. Комментарии могут занимать отдельную строку или добавляться в строку с программным кодом, правее его. Текст, следующий за символом `#`, интерпретатором просто игнорируется."
   ]
  },
  {
   "cell_type": "markdown",
   "metadata": {
    "hideCode": false,
    "hidePrompt": false,
    "slideshow": {
     "slide_type": "slide"
    }
   },
   "source": [
    "# Core data types its operators\n",
    "\n",
    "| Data type | Example literals/creation |\n",
    "|-----------|------------|\n",
    "| Numbers     |`1234`, `3.1415`, `3+4j`|\n",
    "| Strings     |`'spam'`, `\"Bob's\"` |\n",
    "| Lists       |`[1, [2, 'three'], 4.5]`, `list(range(10))` |\n",
    "| Dictionaries         |          `{'food': 'spam', 'taste': 'yum'}`, `dict(hours=10)` |\n",
    "| Tuples       |       `(1, 'spam', 4, 'U')`, `tuple('spam')` |\n",
    "| Sets    |     `set('abc')`, `{'a', 'b', 'c'}` |\n",
    "|Other core types| Booleans, types, None|\n"
   ]
  },
  {
   "cell_type": "markdown",
   "metadata": {
    "ExecuteTime": {
     "end_time": "2018-07-10T20:42:02.111904Z",
     "start_time": "2018-07-10T20:42:01.933924Z"
    },
    "hideCode": false,
    "hidePrompt": false,
    "slideshow": {
     "slide_type": "slide"
    }
   },
   "source": [
    "## Numbers\n",
    "\n",
    "* **integers** that have no fractional part. Integers are written as strings of decimal digits.\n",
    "* **floating-point** numbers have a decimal point and/or an optional signed exponent introduced by an e or E and followed by an optional sign.\n",
    "* **complex**. Python complex literals are written as realpart+imaginarypart, where the imaginarypart is terminated with a j or J."
   ]
  },
  {
   "cell_type": "code",
   "execution_count": 2,
   "metadata": {
    "ExecuteTime": {
     "end_time": "2018-07-10T20:48:08.456777Z",
     "start_time": "2018-07-10T20:48:08.453835Z"
    },
    "hideCode": false,
    "hidePrompt": false,
    "slideshow": {
     "slide_type": "slide"
    }
   },
   "outputs": [],
   "source": [
    "integer = 1234"
   ]
  },
  {
   "cell_type": "code",
   "execution_count": 5,
   "metadata": {
    "ExecuteTime": {
     "end_time": "2018-07-10T20:48:43.025309Z",
     "start_time": "2018-07-10T20:48:43.021814Z"
    },
    "hideCode": false,
    "hidePrompt": false,
    "slideshow": {
     "slide_type": "fragment"
    }
   },
   "outputs": [],
   "source": [
    "integer_negative = -24"
   ]
  },
  {
   "cell_type": "code",
   "execution_count": 6,
   "metadata": {
    "ExecuteTime": {
     "end_time": "2018-07-10T20:49:11.051351Z",
     "start_time": "2018-07-10T20:49:11.047893Z"
    },
    "hideCode": false,
    "hidePrompt": false,
    "slideshow": {
     "slide_type": "fragment"
    }
   },
   "outputs": [],
   "source": [
    "float_number = 1.23"
   ]
  },
  {
   "cell_type": "code",
   "execution_count": 7,
   "metadata": {
    "ExecuteTime": {
     "end_time": "2018-07-10T20:49:55.541387Z",
     "start_time": "2018-07-10T20:49:55.538030Z"
    },
    "hideCode": false,
    "hidePrompt": false,
    "slideshow": {
     "slide_type": "fragment"
    }
   },
   "outputs": [],
   "source": [
    "float_engineer = 3.14e-10 # Также Python поддерживает экспоненциальную нотацию записи вещественного числа"
   ]
  },
  {
   "cell_type": "code",
   "execution_count": 19,
   "metadata": {
    "ExecuteTime": {
     "end_time": "2018-09-08T21:34:09.986291Z",
     "start_time": "2018-09-08T21:34:09.976152Z"
    },
    "hideCode": false,
    "hidePrompt": false,
    "slideshow": {
     "slide_type": "fragment"
    }
   },
   "outputs": [
    {
     "name": "stdout",
     "output_type": "stream",
     "text": [
      "<class 'complex'>     3.0     4.0\n"
     ]
    }
   ],
   "source": [
    "complex_num = 3+4j\n",
    "print(type(complex_num), complex_num.real, complex_num.imag, sep=\" \"*5)"
   ]
  },
  {
   "cell_type": "markdown",
   "metadata": {
    "slideshow": {
     "slide_type": "slide"
    }
   },
   "source": [
    "### Python поддерживает ковертацию числовых типов"
   ]
  },
  {
   "cell_type": "code",
   "execution_count": 107,
   "metadata": {
    "ExecuteTime": {
     "end_time": "2018-09-09T19:26:00.341772Z",
     "start_time": "2018-09-09T19:26:00.326753Z"
    },
    "slideshow": {
     "slide_type": "fragment"
    }
   },
   "outputs": [
    {
     "name": "stdout",
     "output_type": "stream",
     "text": [
      "<class 'float'>\n",
      "150 <class 'int'>\n",
      "150.0 <class 'float'>\n"
     ]
    }
   ],
   "source": [
    "num = 150.2\n",
    "print(type(num))\n",
    "\n",
    "num = int(num)\n",
    "print(num, type(num))\n",
    "\n",
    "num = float(num)\n",
    "print(num, type(num))"
   ]
  },
  {
   "cell_type": "code",
   "execution_count": 108,
   "metadata": {
    "ExecuteTime": {
     "end_time": "2018-09-09T19:29:37.858038Z",
     "start_time": "2018-09-09T19:29:37.851369Z"
    }
   },
   "outputs": [
    {
     "data": {
      "text/plain": [
       "7"
      ]
     },
     "execution_count": 108,
     "metadata": {},
     "output_type": "execute_result"
    }
   ],
   "source": [
    "1 +3 * 2"
   ]
  },
  {
   "cell_type": "markdown",
   "metadata": {
    "slideshow": {
     "slide_type": "fragment"
    }
   },
   "source": [
    "Обратите внимание, что в процессе конвертации переменной num мы потеряли дробную часть вещественного числа."
   ]
  },
  {
   "cell_type": "markdown",
   "metadata": {
    "hideCode": false,
    "hidePrompt": false,
    "slideshow": {
     "slide_type": "slide"
    }
   },
   "source": [
    "### Операторы выражений\n",
    "| Operators | Description |\n",
    "|-----------|------------|\n",
    "| `x + y`     |Addition|\n",
    "| `x – y`     |Subtraction|\n",
    "| `x * y`       |Multiplication;|\n",
    "| `x % y`     | Remainder |\n",
    "| `x / y`, `x // y`       |   Division: true and floor |\n",
    "| `−x`   |  Negation |\n",
    "| `x ** y`| Power|\n",
    "\n",
    "Чем выше приоритет оператора, тем ниже он находится в таблице и тем раньше он выполняется в смешанных выражениях. Вы можете навсегда забыть о старшинстве операторов, если будете группировать части выражений с помощью круглых скобок."
   ]
  },
  {
   "cell_type": "markdown",
   "metadata": {
    "hideCode": false,
    "hidePrompt": false,
    "slideshow": {
     "slide_type": "slide"
    }
   },
   "source": [
    "Помимо смешивания операторов вы можете также смешивать различные числовые типы. Допустим, что требуется найти сумму целого и вещественного числа:"
   ]
  },
  {
   "cell_type": "code",
   "execution_count": 109,
   "metadata": {
    "ExecuteTime": {
     "end_time": "2018-09-09T19:32:14.428200Z",
     "start_time": "2018-09-09T19:32:14.422368Z"
    },
    "hideCode": false,
    "hidePrompt": false,
    "slideshow": {
     "slide_type": "fragment"
    }
   },
   "outputs": [
    {
     "data": {
      "text/plain": [
       "11.5"
      ]
     },
     "execution_count": 109,
     "metadata": {},
     "output_type": "execute_result"
    }
   ],
   "source": [
    "2.3 * 5"
   ]
  },
  {
   "cell_type": "markdown",
   "metadata": {
    "slideshow": {
     "slide_type": "fragment"
    }
   },
   "source": [
    "Интерпретатор сначала выполняет преобразование типов операндов к типу самого сложного операнда, а потом применяет математику, специфичную для этого типа. \n",
    "\n",
    "Целые числа проще, чем вещественные числа, которые проще комплексных чисел."
   ]
  },
  {
   "cell_type": "markdown",
   "metadata": {
    "slideshow": {
     "slide_type": "slide"
    }
   },
   "source": [
    "### Встроенные функции для работы с числами"
   ]
  },
  {
   "cell_type": "code",
   "execution_count": 110,
   "metadata": {
    "ExecuteTime": {
     "end_time": "2018-09-09T19:34:48.754434Z",
     "start_time": "2018-09-09T19:34:48.749232Z"
    },
    "slideshow": {
     "slide_type": "fragment"
    }
   },
   "outputs": [
    {
     "name": "stdout",
     "output_type": "stream",
     "text": [
      "<built-in function pow> <built-in function abs> <built-in function round> <class 'int'> <class 'float'> <built-in function hex> <built-in function bin>\n"
     ]
    }
   ],
   "source": [
    "print(pow, abs, round, int, float, hex, bin)"
   ]
  },
  {
   "cell_type": "markdown",
   "metadata": {
    "slideshow": {
     "slide_type": "slide"
    }
   },
   "source": [
    "### Даже обычные числа в Python являются объектами"
   ]
  },
  {
   "cell_type": "code",
   "execution_count": 11,
   "metadata": {
    "ExecuteTime": {
     "end_time": "2018-09-08T21:27:31.112239Z",
     "start_time": "2018-09-08T21:27:31.108513Z"
    },
    "slideshow": {
     "slide_type": "fragment"
    }
   },
   "outputs": [
    {
     "name": "stdout",
     "output_type": "stream",
     "text": [
      "<class 'int'>\n"
     ]
    }
   ],
   "source": [
    "num = 13\n",
    "print(type(num))"
   ]
  },
  {
   "cell_type": "markdown",
   "metadata": {
    "slideshow": {
     "slide_type": "slide"
    }
   },
   "source": [
    "### Поскольку это объекты, мы можем посмотреть и использовать их методы и свойства"
   ]
  },
  {
   "cell_type": "code",
   "execution_count": 13,
   "metadata": {
    "ExecuteTime": {
     "end_time": "2018-09-08T21:28:01.904841Z",
     "start_time": "2018-09-08T21:28:01.900419Z"
    },
    "slideshow": {
     "slide_type": "fragment"
    }
   },
   "outputs": [
    {
     "name": "stdout",
     "output_type": "stream",
     "text": [
      "['__abs__', '__add__', '__and__', '__bool__', '__ceil__', '__class__', '__delattr__', '__dir__', '__divmod__', '__doc__', '__eq__', '__float__', '__floor__', '__floordiv__', '__format__', '__ge__', '__getattribute__', '__getnewargs__', '__gt__', '__hash__', '__index__', '__init__', '__init_subclass__', '__int__', '__invert__', '__le__', '__lshift__', '__lt__', '__mod__', '__mul__', '__ne__', '__neg__', '__new__', '__or__', '__pos__', '__pow__', '__radd__', '__rand__', '__rdivmod__', '__reduce__', '__reduce_ex__', '__repr__', '__rfloordiv__', '__rlshift__', '__rmod__', '__rmul__', '__ror__', '__round__', '__rpow__', '__rrshift__', '__rshift__', '__rsub__', '__rtruediv__', '__rxor__', '__setattr__', '__sizeof__', '__str__', '__sub__', '__subclasshook__', '__truediv__', '__trunc__', '__xor__', 'bit_length', 'conjugate', 'denominator', 'from_bytes', 'imag', 'numerator', 'real', 'to_bytes']\n"
     ]
    }
   ],
   "source": [
    "print(dir(num))"
   ]
  },
  {
   "cell_type": "code",
   "execution_count": 12,
   "metadata": {
    "ExecuteTime": {
     "end_time": "2018-09-08T21:27:37.466026Z",
     "start_time": "2018-09-08T21:27:37.460383Z"
    },
    "slideshow": {
     "slide_type": "fragment"
    }
   },
   "outputs": [
    {
     "data": {
      "text/plain": [
       "15"
      ]
     },
     "execution_count": 12,
     "metadata": {},
     "output_type": "execute_result"
    }
   ],
   "source": [
    "num.__add__(2)"
   ]
  },
  {
   "cell_type": "markdown",
   "metadata": {
    "hideCode": false,
    "hidePrompt": false,
    "slideshow": {
     "slide_type": "slide"
    }
   },
   "source": [
    "### Comparisons"
   ]
  },
  {
   "cell_type": "code",
   "execution_count": 25,
   "metadata": {
    "ExecuteTime": {
     "end_time": "2018-07-10T21:24:48.282046Z",
     "start_time": "2018-07-10T21:24:48.271608Z"
    },
    "hideCode": false,
    "hidePrompt": false,
    "slideshow": {
     "slide_type": "fragment"
    }
   },
   "outputs": [
    {
     "data": {
      "text/plain": [
       "True"
      ]
     },
     "execution_count": 25,
     "metadata": {},
     "output_type": "execute_result"
    }
   ],
   "source": [
    "1 < 2 # Less than"
   ]
  },
  {
   "cell_type": "code",
   "execution_count": 26,
   "metadata": {
    "ExecuteTime": {
     "end_time": "2018-07-10T21:25:06.690148Z",
     "start_time": "2018-07-10T21:25:06.683384Z"
    },
    "hideCode": false,
    "hidePrompt": false,
    "slideshow": {
     "slide_type": "fragment"
    }
   },
   "outputs": [
    {
     "data": {
      "text/plain": [
       "True"
      ]
     },
     "execution_count": 26,
     "metadata": {},
     "output_type": "execute_result"
    }
   ],
   "source": [
    "2.0 >= 1 # Greater than or equal: mixed-type 1 converted to 1.0"
   ]
  },
  {
   "cell_type": "code",
   "execution_count": 15,
   "metadata": {
    "ExecuteTime": {
     "end_time": "2018-07-14T13:59:14.481458Z",
     "start_time": "2018-07-14T13:59:14.474566Z"
    },
    "slideshow": {
     "slide_type": "fragment"
    }
   },
   "outputs": [
    {
     "data": {
      "text/plain": [
       "True"
      ]
     },
     "execution_count": 15,
     "metadata": {},
     "output_type": "execute_result"
    }
   ],
   "source": [
    "2.0 == 2"
   ]
  },
  {
   "cell_type": "code",
   "execution_count": 27,
   "metadata": {
    "ExecuteTime": {
     "end_time": "2018-07-10T21:25:28.938685Z",
     "start_time": "2018-07-10T21:25:28.930246Z"
    },
    "hideCode": false,
    "hidePrompt": false,
    "slideshow": {
     "slide_type": "fragment"
    }
   },
   "outputs": [
    {
     "data": {
      "text/plain": [
       "True"
      ]
     },
     "execution_count": 27,
     "metadata": {},
     "output_type": "execute_result"
    }
   ],
   "source": [
    "2.0 == 2.0 # Equal value"
   ]
  },
  {
   "cell_type": "code",
   "execution_count": 28,
   "metadata": {
    "ExecuteTime": {
     "end_time": "2018-07-10T21:25:37.423607Z",
     "start_time": "2018-07-10T21:25:37.411000Z"
    },
    "hideCode": false,
    "hidePrompt": false,
    "slideshow": {
     "slide_type": "fragment"
    }
   },
   "outputs": [
    {
     "data": {
      "text/plain": [
       "False"
      ]
     },
     "execution_count": 28,
     "metadata": {},
     "output_type": "execute_result"
    }
   ],
   "source": [
    "2.0 != 2.0 # Not equal value"
   ]
  },
  {
   "cell_type": "markdown",
   "metadata": {
    "hideCode": false,
    "hidePrompt": false,
    "slideshow": {
     "slide_type": "slide"
    }
   },
   "source": [
    "## Boolean"
   ]
  },
  {
   "cell_type": "markdown",
   "metadata": {
    "hideCode": false,
    "hidePrompt": false,
    "slideshow": {
     "slide_type": "fragment"
    }
   },
   "source": [
    "Python Boolean type, `bool`, is numeric in nature because its two values, `True` and `False`, are just customized versions of the integers `1` and `0` that print themselves differently.\n",
    "\n",
    "Because `True` is just the integer `1` with a custom display format, `True + 4` yields integer `5` in Python!"
   ]
  },
  {
   "cell_type": "code",
   "execution_count": 36,
   "metadata": {
    "ExecuteTime": {
     "end_time": "2018-07-10T21:34:32.366029Z",
     "start_time": "2018-07-10T21:34:32.360932Z"
    },
    "hideCode": false,
    "hidePrompt": false,
    "slideshow": {
     "slide_type": "slide"
    }
   },
   "outputs": [
    {
     "data": {
      "text/plain": [
       "5"
      ]
     },
     "execution_count": 36,
     "metadata": {},
     "output_type": "execute_result"
    }
   ],
   "source": [
    "True + 4 # (Hmmm)"
   ]
  },
  {
   "cell_type": "code",
   "execution_count": 32,
   "metadata": {
    "ExecuteTime": {
     "end_time": "2018-07-10T21:33:23.366916Z",
     "start_time": "2018-07-10T21:33:23.359132Z"
    },
    "hideCode": false,
    "hidePrompt": false,
    "slideshow": {
     "slide_type": "fragment"
    }
   },
   "outputs": [
    {
     "data": {
      "text/plain": [
       "bool"
      ]
     },
     "execution_count": 32,
     "metadata": {},
     "output_type": "execute_result"
    }
   ],
   "source": [
    "type(True)"
   ]
  },
  {
   "cell_type": "code",
   "execution_count": 35,
   "metadata": {
    "ExecuteTime": {
     "end_time": "2018-09-08T22:51:37.265225Z",
     "start_time": "2018-09-08T22:51:37.258715Z"
    },
    "hideCode": false,
    "hidePrompt": false,
    "slideshow": {
     "slide_type": "fragment"
    }
   },
   "outputs": [
    {
     "data": {
      "text/plain": [
       "(True, True)"
      ]
     },
     "execution_count": 35,
     "metadata": {},
     "output_type": "execute_result"
    }
   ],
   "source": [
    "isinstance(True, int), issubclass(bool, int)"
   ]
  },
  {
   "cell_type": "code",
   "execution_count": 28,
   "metadata": {
    "ExecuteTime": {
     "end_time": "2018-09-08T22:47:23.520982Z",
     "start_time": "2018-09-08T22:47:23.511739Z"
    },
    "slideshow": {
     "slide_type": "fragment"
    }
   },
   "outputs": [
    {
     "data": {
      "text/plain": [
       "(False, True)"
      ]
     },
     "execution_count": 28,
     "metadata": {},
     "output_type": "execute_result"
    }
   ],
   "source": [
    "bool(0), bool(1)"
   ]
  },
  {
   "cell_type": "markdown",
   "metadata": {
    "hideCode": false,
    "hidePrompt": false,
    "slideshow": {
     "slide_type": "slide"
    }
   },
   "source": [
    "### Логические операторы\n",
    "\n",
    "| Operators | Description |\n",
    "|-----------|------------|\n",
    "| `x if y else z` | Тренарный оператор|\n",
    "| `x or y` | Логическая операция ИЛИ (значение y вычисляется, только если значение x ложно) |\n",
    "| `x and y` | Логический оператор И (значение y вычисляется, только если значение x истинно) |\n",
    "| `not x` | Логическое отрицание |\n",
    "| `x in y, x not in y` | Проверка на вхождение (для итерируемых объектов и множеств) |\n",
    "| `x is y, x is not y` | Проверка идентичности объектов |\n",
    "| `x < y, x <= y, x > y, x >= y` | Операторы сравнения, проверка на подмножество и надмножество |\n",
    "| `x == y, x != y` | Операторы проверки на равенство |\n",
    "| `x \\| y` | Битовая операция ИЛИ, объединение множеств |\n",
    "| `x ^ y` | Битовая операция «исключающее ИЛИ» (XOR), симметрическая разность множеств |\n",
    "| `x & y` | Битовая операция И, пересечение множеств |\n",
    "| `x << y, x >> y` | Сдвиг значения x влево или вправо на y битов |"
   ]
  },
  {
   "cell_type": "code",
   "execution_count": 30,
   "metadata": {
    "ExecuteTime": {
     "end_time": "2018-09-08T22:48:13.593049Z",
     "start_time": "2018-09-08T22:48:13.577991Z"
    },
    "hideCode": false,
    "hidePrompt": false,
    "slideshow": {
     "slide_type": "slide"
    }
   },
   "outputs": [
    {
     "data": {
      "text/plain": [
       "True"
      ]
     },
     "execution_count": 30,
     "metadata": {},
     "output_type": "execute_result"
    }
   ],
   "source": [
    "True == 1 # Same value"
   ]
  },
  {
   "cell_type": "code",
   "execution_count": 31,
   "metadata": {
    "ExecuteTime": {
     "end_time": "2018-09-08T22:48:17.154086Z",
     "start_time": "2018-09-08T22:48:17.146898Z"
    },
    "slideshow": {
     "slide_type": "fragment"
    }
   },
   "outputs": [
    {
     "data": {
      "text/plain": [
       "False"
      ]
     },
     "execution_count": 31,
     "metadata": {},
     "output_type": "execute_result"
    }
   ],
   "source": [
    "True is 1"
   ]
  },
  {
   "cell_type": "markdown",
   "metadata": {
    "ExecuteTime": {
     "end_time": "2018-07-15T22:13:24.375605Z",
     "start_time": "2018-07-15T22:13:24.370969Z"
    },
    "slideshow": {
     "slide_type": "slide"
    }
   },
   "source": [
    "### Practical assignment\n",
    "\n",
    "Задача: определить, является ли год високосным. Год является високосным если он кратен 4, но при этом не кратен 100, либо кратен 400."
   ]
  },
  {
   "cell_type": "code",
   "execution_count": 65,
   "metadata": {
    "ExecuteTime": {
     "end_time": "2018-09-09T17:15:36.122995Z",
     "start_time": "2018-09-09T17:15:36.105401Z"
    },
    "slideshow": {
     "slide_type": "skip"
    }
   },
   "outputs": [
    {
     "name": "stdout",
     "output_type": "stream",
     "text": [
      "False\n"
     ]
    }
   ],
   "source": [
    "year = 2017\n",
    "is_leap = year % 4 == 0 and (year % 100 != 0 or year % 400 == 0)\n",
    "print(is_leap)"
   ]
  },
  {
   "cell_type": "code",
   "execution_count": 66,
   "metadata": {
    "ExecuteTime": {
     "end_time": "2018-09-09T17:15:36.796062Z",
     "start_time": "2018-09-09T17:15:36.761769Z"
    },
    "slideshow": {
     "slide_type": "skip"
    }
   },
   "outputs": [
    {
     "name": "stdout",
     "output_type": "stream",
     "text": [
      "True\n"
     ]
    }
   ],
   "source": [
    "import calendar\n",
    "print(calendar.isleap(1980))"
   ]
  },
  {
   "cell_type": "markdown",
   "metadata": {
    "hideCode": false,
    "hidePrompt": false,
    "slideshow": {
     "slide_type": "slide"
    }
   },
   "source": [
    "## [Строки](https://docs.python.org/3/library/string.html)\n",
    "\n",
    "Строки — это упорядоченные последовательности символов, используемые для хранения и представления текстовой информации."
   ]
  },
  {
   "cell_type": "code",
   "execution_count": 37,
   "metadata": {
    "ExecuteTime": {
     "end_time": "2018-09-08T22:57:37.161209Z",
     "start_time": "2018-09-08T22:57:37.137494Z"
    },
    "slideshow": {
     "slide_type": "fragment"
    }
   },
   "outputs": [
    {
     "name": "stdout",
     "output_type": "stream",
     "text": [
      "4475495072\n",
      "4475495280\n"
     ]
    }
   ],
   "source": [
    "example_string = \"Привет\"\n",
    "print(id(example_string))\n",
    "\n",
    "example_string += \", Мир!\"\n",
    "print(id(example_string))"
   ]
  },
  {
   "cell_type": "markdown",
   "metadata": {
    "hideCode": false,
    "hidePrompt": false,
    "slideshow": {
     "slide_type": "slide"
    }
   },
   "source": [
    "### Операции со строками\n",
    "\n",
    "| Operators          | Interpretation |\n",
    "|--------------------|------------|\n",
    "| `S = ''`            | Empty string|\n",
    "| `S = \"spam's\"`            | Double quotes, same as single|\n",
    "| `S = 's\\np\\ta\\x00m'`            | Escape sequences. Escape sequences let us embed characters in strings that cannot easily be typed on a keyboard. The character \\, and one or more characters following it in the string literal, are replaced with a single character in the resulting string object, which has the binary value specified by the escape sequence.|\n",
    "| `S = \"\"\"...multiline...\"\"\"`   | Triple-quoted block strings, that is a syntactic convenience for coding multiline text data.|\n",
    "| `S1 + S2`   | Concatenate|\n",
    "| `S * 3`   | Repeat|\n",
    "| `S[i]`   | Index|\n",
    "| `S[i:j:k]`   | Slice|\n",
    "| `len(S)`   | Length|"
   ]
  },
  {
   "cell_type": "markdown",
   "metadata": {
    "slideshow": {
     "slide_type": "slide"
    }
   },
   "source": [
    "### Raw strings\n",
    "\n",
    "«Сырые строки» позвовляют не экранировать входящие в неё символы. Они насчитаются со знака `r` перед первой кавычкой"
   ]
  },
  {
   "cell_type": "code",
   "execution_count": 39,
   "metadata": {
    "ExecuteTime": {
     "end_time": "2018-09-08T22:59:21.255353Z",
     "start_time": "2018-09-08T22:59:21.237732Z"
    },
    "slideshow": {
     "slide_type": "fragment"
    }
   },
   "outputs": [
    {
     "name": "stdout",
     "output_type": "stream",
     "text": [
      "Файл на диске c:\\\\\n"
     ]
    }
   ],
   "source": [
    "example_string = r\"Файл на диске c:\\\\\"\n",
    "print(example_string)"
   ]
  },
  {
   "cell_type": "markdown",
   "metadata": {
    "slideshow": {
     "slide_type": "fragment"
    }
   },
   "source": [
    "Как получить такой же вывод при помощи обычных строк?"
   ]
  },
  {
   "cell_type": "markdown",
   "metadata": {
    "hideCode": false,
    "hidePrompt": false,
    "slideshow": {
     "slide_type": "slide"
    }
   },
   "source": [
    "### Indexing and Slicing\n",
    "\n",
    "Because strings are defined as immutable ordered collections of characters, we can access their components by position. In Python, characters in a string are fetched by indexing— providing the numeric offset of the desired component in square brackets after the string.\n",
    "\n",
    "Python offsets start at 0 and end at one less than the length of the string.\n",
    "\n",
    "Python also lets you fetch items from sequences such as strings using negative offsets. Technically, a negative offset is added to the length of a string to derive a positive offset."
   ]
  },
  {
   "cell_type": "code",
   "execution_count": 42,
   "metadata": {
    "ExecuteTime": {
     "end_time": "2018-09-08T23:02:46.656831Z",
     "start_time": "2018-09-08T23:02:46.628628Z"
    },
    "hideCode": false,
    "hidePrompt": false,
    "slideshow": {
     "slide_type": "fragment"
    }
   },
   "outputs": [
    {
     "data": {
      "text/plain": [
       "'a'"
      ]
     },
     "execution_count": 42,
     "metadata": {},
     "output_type": "execute_result"
    }
   ],
   "source": [
    "S = 'abcdefghijklmnop'\n",
    "S[0]"
   ]
  },
  {
   "cell_type": "code",
   "execution_count": 43,
   "metadata": {
    "ExecuteTime": {
     "end_time": "2018-09-08T23:02:49.942866Z",
     "start_time": "2018-09-08T23:02:49.934609Z"
    },
    "hideCode": false,
    "hidePrompt": false,
    "slideshow": {
     "slide_type": "fragment"
    }
   },
   "outputs": [
    {
     "data": {
      "text/plain": [
       "'bdfhjln'"
      ]
     },
     "execution_count": 43,
     "metadata": {},
     "output_type": "execute_result"
    }
   ],
   "source": [
    "S[1:-2:2]"
   ]
  },
  {
   "cell_type": "code",
   "execution_count": 75,
   "metadata": {
    "ExecuteTime": {
     "end_time": "2018-07-10T22:30:01.483826Z",
     "start_time": "2018-07-10T22:30:01.478482Z"
    },
    "hideCode": false,
    "hidePrompt": false,
    "slideshow": {
     "slide_type": "fragment"
    }
   },
   "outputs": [
    {
     "data": {
      "text/plain": [
       "'acegikmo'"
      ]
     },
     "execution_count": 75,
     "metadata": {},
     "output_type": "execute_result"
    }
   ],
   "source": [
    "S[::2]"
   ]
  },
  {
   "cell_type": "markdown",
   "metadata": {
    "ExecuteTime": {
     "end_time": "2018-09-09T21:05:04.154291Z",
     "start_time": "2018-09-09T21:05:04.147398Z"
    },
    "slideshow": {
     "slide_type": "slide"
    }
   },
   "source": [
    "Предположите, как вернуть строку в обратном порядке при помощи индексов."
   ]
  },
  {
   "cell_type": "markdown",
   "metadata": {
    "slideshow": {
     "slide_type": "slide"
    }
   },
   "source": [
    "Поскольку строки являются последовательностями, с ними работают и другие ключевые слова: `in`, `for` и др."
   ]
  },
  {
   "cell_type": "code",
   "execution_count": 113,
   "metadata": {
    "ExecuteTime": {
     "end_time": "2018-09-09T19:58:20.993076Z",
     "start_time": "2018-09-09T19:58:20.986956Z"
    },
    "slideshow": {
     "slide_type": "fragment"
    }
   },
   "outputs": [
    {
     "name": "stdout",
     "output_type": "stream",
     "text": [
      " Знак №1 : !\n",
      " Знак №2 : \"\n",
      " Знак №3 : #\n",
      " Знак №4 : $\n",
      " Знак №5 : %\n",
      " Знак №6 : &\n",
      " Знак №7 : '\n",
      " Знак №8 : (\n",
      " Знак №9 : )\n",
      " Знак №10 : *\n",
      " Знак №11 : +\n",
      " Знак №12 : ,\n",
      " Знак №13 : -\n",
      " Знак №14 : .\n",
      " Знак №15 : /\n",
      " Знак №16 : :\n",
      " Знак №17 : ;\n",
      " Знак №18 : <\n",
      " Знак №19 : =\n",
      " Знак №20 : >\n",
      " Знак №21 : ?\n",
      " Знак №22 : @\n",
      " Знак №23 : [\n",
      " Знак №24 : \\\n",
      " Знак №25 : ]\n",
      " Знак №26 : ^\n",
      " Знак №27 : _\n",
      " Знак №28 : `\n",
      " Знак №29 : {\n",
      " Знак №30 : |\n",
      " Знак №31 : }\n",
      " Знак №32 : ~\n"
     ]
    }
   ],
   "source": [
    "from string import punctuation\n",
    "\n",
    "for num, char in enumerate(punctuation):\n",
    "    print(f\" Знак №{num + 1} : {char}\")"
   ]
  },
  {
   "cell_type": "markdown",
   "metadata": {
    "hideCode": false,
    "hidePrompt": false,
    "slideshow": {
     "slide_type": "slide"
    }
   },
   "source": [
    "### String Conversion"
   ]
  },
  {
   "cell_type": "code",
   "execution_count": 15,
   "metadata": {
    "ExecuteTime": {
     "end_time": "2018-08-30T18:30:58.263118Z",
     "start_time": "2018-08-30T18:30:58.246290Z"
    },
    "slideshow": {
     "slide_type": "fragment"
    }
   },
   "outputs": [
    {
     "name": "stdout",
     "output_type": "stream",
     "text": [
      "<class 'str'>\n"
     ]
    }
   ],
   "source": [
    "print(type(\"abc\"))"
   ]
  },
  {
   "cell_type": "code",
   "execution_count": 79,
   "metadata": {
    "ExecuteTime": {
     "end_time": "2018-07-10T22:31:37.976685Z",
     "start_time": "2018-07-10T22:31:37.970536Z"
    },
    "hideCode": false,
    "hidePrompt": false,
    "slideshow": {
     "slide_type": "fragment"
    }
   },
   "outputs": [
    {
     "data": {
      "text/plain": [
       "'421'"
      ]
     },
     "execution_count": 79,
     "metadata": {},
     "output_type": "execute_result"
    }
   ],
   "source": [
    "\"42\" + str(1)"
   ]
  },
  {
   "cell_type": "code",
   "execution_count": 17,
   "metadata": {
    "ExecuteTime": {
     "end_time": "2018-08-30T18:31:26.162293Z",
     "start_time": "2018-08-30T18:31:26.143746Z"
    },
    "slideshow": {
     "slide_type": "fragment"
    }
   },
   "outputs": [
    {
     "data": {
      "text/plain": [
       "(True, False)"
      ]
     },
     "execution_count": 17,
     "metadata": {},
     "output_type": "execute_result"
    }
   ],
   "source": [
    "bool(\"abs\"), bool(\"\")"
   ]
  },
  {
   "cell_type": "code",
   "execution_count": 19,
   "metadata": {
    "ExecuteTime": {
     "end_time": "2018-08-30T18:34:29.198386Z",
     "start_time": "2018-08-30T18:34:29.178389Z"
    },
    "slideshow": {
     "slide_type": "fragment"
    }
   },
   "outputs": [
    {
     "name": "stdout",
     "output_type": "stream",
     "text": [
      "Имя не заполнено!\n"
     ]
    }
   ],
   "source": [
    "name = \"\"\n",
    "\n",
    "if not name:\n",
    "    print(\"Имя не заполнено!\")"
   ]
  },
  {
   "cell_type": "markdown",
   "metadata": {
    "slideshow": {
     "slide_type": "slide"
    }
   },
   "source": [
    "### String formatting\n",
    "\n",
    "Самый простой способ сделать новую строку из существующих — сконкатенировать из при помощи оператора `+`. Но если сторки длинные, а частей много, такой метод не подойдёт, и необходимо будет обратиться к функционалу форматирования строк. В Питоне существует множество способов форматирования строк. Рассмторим три основных: 1) старый, 2) новый и 3) самый новый."
   ]
  },
  {
   "cell_type": "markdown",
   "metadata": {
    "ExecuteTime": {
     "end_time": "2018-08-30T18:20:21.727313Z",
     "start_time": "2018-08-30T18:20:21.721297Z"
    },
    "slideshow": {
     "slide_type": "slide"
    }
   },
   "source": [
    "**[Старый способ](https://docs.python.org/3/library/string.html#format-specification-mini-language)**"
   ]
  },
  {
   "cell_type": "code",
   "execution_count": 21,
   "metadata": {
    "ExecuteTime": {
     "end_time": "2018-08-30T18:35:32.851638Z",
     "start_time": "2018-08-30T18:35:32.845390Z"
    },
    "slideshow": {
     "slide_type": "fragment"
    }
   },
   "outputs": [
    {
     "data": {
      "text/plain": [
       "'Лень — главное достоинство программиста. (Larry Wall)'"
      ]
     },
     "execution_count": 21,
     "metadata": {},
     "output_type": "execute_result"
    }
   ],
   "source": [
    "template = \"%s — главное достоинство программиста. (%s)\"\n",
    "template % (\"Лень\", \"Larry Wall\")"
   ]
  },
  {
   "cell_type": "markdown",
   "metadata": {
    "slideshow": {
     "slide_type": "fragment"
    }
   },
   "source": [
    "**[Новый способ](https://docs.python.org/3/library/stdtypes.html#str.format)**"
   ]
  },
  {
   "cell_type": "code",
   "execution_count": null,
   "metadata": {
    "slideshow": {
     "slide_type": "fragment"
    }
   },
   "outputs": [],
   "source": [
    "\"{} не лгут, но {} пользуются формулами. ({})\".format(\n",
    "    \"Цифры\", \"лжецы\", \"Robert A. Heinlein\"\n",
    ")"
   ]
  },
  {
   "cell_type": "markdown",
   "metadata": {
    "ExecuteTime": {
     "end_time": "2018-08-30T18:41:42.554457Z",
     "start_time": "2018-08-30T18:41:42.549473Z"
    },
    "slideshow": {
     "slide_type": "fragment"
    }
   },
   "source": [
    "**Новейший способ (f-строки)**"
   ]
  },
  {
   "cell_type": "code",
   "execution_count": 22,
   "metadata": {
    "ExecuteTime": {
     "end_time": "2018-08-30T18:41:39.486387Z",
     "start_time": "2018-08-30T18:41:39.472948Z"
    },
    "slideshow": {
     "slide_type": "fragment"
    }
   },
   "outputs": [
    {
     "data": {
      "text/plain": [
       "'Преждевременная оптимизация — корень всех зол. (Donald Knuth)'"
      ]
     },
     "execution_count": 22,
     "metadata": {},
     "output_type": "execute_result"
    }
   ],
   "source": [
    "subject = \"оптимизация\"\n",
    "author = \"Donald Knuth\"\n",
    "\n",
    "f\"Преждевременная {subject} — корень всех зол. ({author})\""
   ]
  },
  {
   "cell_type": "markdown",
   "metadata": {
    "slideshow": {
     "slide_type": "slide"
    }
   },
   "source": [
    "Модификаторы форматирования"
   ]
  },
  {
   "cell_type": "code",
   "execution_count": 28,
   "metadata": {
    "ExecuteTime": {
     "end_time": "2018-08-30T18:45:12.240497Z",
     "start_time": "2018-08-30T18:45:12.236430Z"
    },
    "slideshow": {
     "slide_type": "fragment"
    }
   },
   "outputs": [
    {
     "name": "stdout",
     "output_type": "stream",
     "text": [
      "0.6666666666666666\n",
      "0.667\n"
     ]
    }
   ],
   "source": [
    "num = 2 / 3\n",
    "print(num)\n",
    "\n",
    "print(f\"{num:.3f}\")"
   ]
  },
  {
   "cell_type": "markdown",
   "metadata": {
    "slideshow": {
     "slide_type": "fragment"
    }
   },
   "source": [
    "Заключение: [обзор разных методов](https://realpython.com/python-f-strings/)."
   ]
  },
  {
   "cell_type": "markdown",
   "metadata": {
    "hideCode": false,
    "hidePrompt": false,
    "slideshow": {
     "slide_type": "slide"
    }
   },
   "source": [
    "### [String Methods](https://docs.python.org/3/library/stdtypes.html#string-methods)\n",
    "\n",
    "In Python, expressions and built-in functions may work across a range of types, but methods are generally specific to object types — string methods, for example, work only on string objects.\n",
    "\n",
    "| Methods          | Interpretation |\n",
    "|--------------------|------------|\n",
    "| `S.split()` |Split on delimiter|\n",
    "| `S.strip()` |Return a copy of the string with the leading and trailing characters removed|\n",
    "| `S.replace('pa', 'xx')` |Replacement|\n",
    "| `S.split(',')` |Split on delimiter|\n",
    "| `S.isdigit()` |Content test|\n",
    "| `S.lower()`, `S.upper()` |Case conversion|\n",
    "| `S.startswith('spam')` |Start test|\n",
    "| `S.endswith('spam')` |End test|\n",
    "| `S.find('spam')` |Search. -1 if no, index if yes|"
   ]
  },
  {
   "cell_type": "markdown",
   "metadata": {
    "slideshow": {
     "slide_type": "slide"
    }
   },
   "source": [
    "### Встроенная функция input()\n",
    "Позволяет получить ввод пользователя в виде строки"
   ]
  },
  {
   "cell_type": "code",
   "execution_count": 29,
   "metadata": {
    "ExecuteTime": {
     "end_time": "2018-08-30T18:48:04.750431Z",
     "start_time": "2018-08-30T18:47:55.228371Z"
    },
    "slideshow": {
     "slide_type": "fragment"
    }
   },
   "outputs": [
    {
     "name": "stdout",
     "output_type": "stream",
     "text": [
      "Введи свое имя: Человек\n"
     ]
    },
    {
     "data": {
      "text/plain": [
       "'Привет, Человек!'"
      ]
     },
     "execution_count": 29,
     "metadata": {},
     "output_type": "execute_result"
    }
   ],
   "source": [
    "name = input(\"Введи свое имя: \")\n",
    "\n",
    "f\"Привет, {name}!\""
   ]
  },
  {
   "cell_type": "markdown",
   "metadata": {
    "slideshow": {
     "slide_type": "slide"
    }
   },
   "source": [
    "### Byte strings\n",
    "\n",
    "Компьютер работает не со символами, а с их байтовыми представлениями. Передаются по сети, сохраняются на диск не строки, а байты. Часто всё это происходит автоматически, однако, иногда необходимо создавать байт-строки вручную. Байтовая строка – это неизменяемая последовательность чисел от 0 до 255.\n",
    "\n",
    "b-литерал для объявления байтовой строки:"
   ]
  },
  {
   "cell_type": "code",
   "execution_count": 30,
   "metadata": {
    "ExecuteTime": {
     "end_time": "2018-08-30T18:48:55.410518Z",
     "start_time": "2018-08-30T18:48:55.406805Z"
    },
    "slideshow": {
     "slide_type": "fragment"
    }
   },
   "outputs": [
    {
     "name": "stdout",
     "output_type": "stream",
     "text": [
      "<class 'bytes'>\n"
     ]
    }
   ],
   "source": [
    "example_bytes = b\"hello\"\n",
    "print(type(example_bytes))"
   ]
  },
  {
   "cell_type": "code",
   "execution_count": 31,
   "metadata": {
    "ExecuteTime": {
     "end_time": "2018-08-30T18:49:25.277088Z",
     "start_time": "2018-08-30T18:49:25.263762Z"
    },
    "slideshow": {
     "slide_type": "slide"
    }
   },
   "outputs": [
    {
     "name": "stdout",
     "output_type": "stream",
     "text": [
      "104\n",
      "101\n",
      "108\n",
      "108\n",
      "111\n"
     ]
    }
   ],
   "source": [
    "for element in example_bytes:\n",
    "    print(element)"
   ]
  },
  {
   "cell_type": "code",
   "execution_count": 32,
   "metadata": {
    "ExecuteTime": {
     "end_time": "2018-08-30T18:49:34.580959Z",
     "start_time": "2018-08-30T18:49:34.568608Z"
    },
    "slideshow": {
     "slide_type": "slide"
    }
   },
   "outputs": [
    {
     "ename": "SyntaxError",
     "evalue": "bytes can only contain ASCII literal characters. (<ipython-input-32-464a5586e9cf>, line 1)",
     "output_type": "error",
     "traceback": [
      "\u001b[0;36m  File \u001b[0;32m\"<ipython-input-32-464a5586e9cf>\"\u001b[0;36m, line \u001b[0;32m1\u001b[0m\n\u001b[0;31m    example_bytes = b\"привет\"\u001b[0m\n\u001b[0m                   ^\u001b[0m\n\u001b[0;31mSyntaxError\u001b[0m\u001b[0;31m:\u001b[0m bytes can only contain ASCII literal characters.\n"
     ]
    }
   ],
   "source": [
    "example_bytes = b\"привет\""
   ]
  },
  {
   "cell_type": "code",
   "execution_count": 33,
   "metadata": {
    "ExecuteTime": {
     "end_time": "2018-08-30T18:50:31.025071Z",
     "start_time": "2018-08-30T18:50:31.018598Z"
    },
    "slideshow": {
     "slide_type": "fragment"
    }
   },
   "outputs": [
    {
     "name": "stdout",
     "output_type": "stream",
     "text": [
      "b'\\xd0\\xbf\\xd1\\x80\\xd0\\xb8\\xd0\\xb2\\xd0\\xb5\\xd1\\x82'\n",
      "<class 'bytes'>\n"
     ]
    }
   ],
   "source": [
    "example_string = \"привет\"\n",
    "encoded_string = example_string.encode(encoding=\"utf-8\")\n",
    "print(encoded_string)\n",
    "print(type(encoded_string))"
   ]
  },
  {
   "cell_type": "markdown",
   "metadata": {
    "slideshow": {
     "slide_type": "skip"
    }
   },
   "source": [
    "[п](https://unicode-table.com/ru/043F/)"
   ]
  },
  {
   "cell_type": "code",
   "execution_count": 34,
   "metadata": {
    "ExecuteTime": {
     "end_time": "2018-08-30T18:52:00.418730Z",
     "start_time": "2018-08-30T18:52:00.409905Z"
    },
    "slideshow": {
     "slide_type": "fragment"
    }
   },
   "outputs": [
    {
     "name": "stdout",
     "output_type": "stream",
     "text": [
      "привет\n"
     ]
    }
   ],
   "source": [
    "decoded_string = encoded_string.decode()\n",
    "print(decoded_string)"
   ]
  },
  {
   "cell_type": "markdown",
   "metadata": {
    "slideshow": {
     "slide_type": "slide"
    }
   },
   "source": [
    "## None\n",
    "\n",
    "Объект `None` используется для того, чтобы подчеркнуть отсутствие значения. Переменная со значением None может пригодиться, когда необходимо отличать её от нуля."
   ]
  },
  {
   "cell_type": "code",
   "execution_count": 48,
   "metadata": {
    "ExecuteTime": {
     "end_time": "2018-09-08T23:08:08.478406Z",
     "start_time": "2018-09-08T23:08:08.472322Z"
    },
    "slideshow": {
     "slide_type": "fragment"
    }
   },
   "outputs": [
    {
     "name": "stdout",
     "output_type": "stream",
     "text": [
      "Еще не начинали продавать\n"
     ]
    }
   ],
   "source": [
    "income = None\n",
    "\n",
    "if income is None:\n",
    "    print(\"Еще не начинали продавать\")\n",
    "elif not income:\n",
    "    print(\"Ничего не заработали\")\n",
    "else:\n",
    "    print(f\"Заработали {income}$\")"
   ]
  },
  {
   "cell_type": "markdown",
   "metadata": {
    "hideCode": false,
    "hidePrompt": false,
    "slideshow": {
     "slide_type": "slide"
    }
   },
   "source": [
    "## Lists (списки)\n",
    "* Упорядоченные коллекции\n",
    "* Могут содержать объекты любых типов\n",
    "* Являются изменяемыми объектами. Списки могут изменяться непосредственно, с помощью операции присваивания по смещениям и срезам, с помощью методов списков, с использованием инструкций удаления и другими способами"
   ]
  },
  {
   "cell_type": "code",
   "execution_count": 68,
   "metadata": {
    "ExecuteTime": {
     "end_time": "2018-09-09T17:29:23.680951Z",
     "start_time": "2018-09-09T17:29:23.675978Z"
    },
    "hideCode": false,
    "hidePrompt": false,
    "slideshow": {
     "slide_type": "slide"
    }
   },
   "outputs": [
    {
     "data": {
      "text/plain": [
       "['s', 'p', 'a', 'm']"
      ]
     },
     "execution_count": 68,
     "metadata": {},
     "output_type": "execute_result"
    }
   ],
   "source": [
    "l = [] # An empty list\n",
    "l = list('spam') # List of an iterable’s items\n",
    "l"
   ]
  },
  {
   "cell_type": "code",
   "execution_count": 125,
   "metadata": {
    "ExecuteTime": {
     "end_time": "2018-07-16T00:39:42.707068Z",
     "start_time": "2018-07-16T00:39:42.703677Z"
    },
    "hideCode": false,
    "hidePrompt": false,
    "slideshow": {
     "slide_type": "slide"
    }
   },
   "outputs": [],
   "source": [
    "l = ['Sasha', 40.0, ['analyst', 'manager']] # Nested sublists"
   ]
  },
  {
   "cell_type": "code",
   "execution_count": 126,
   "metadata": {
    "ExecuteTime": {
     "end_time": "2018-07-16T00:39:43.349229Z",
     "start_time": "2018-07-16T00:39:43.344601Z"
    },
    "hideCode": false,
    "hidePrompt": false,
    "slideshow": {
     "slide_type": "fragment"
    }
   },
   "outputs": [
    {
     "data": {
      "text/plain": [
       "['Sasha', 3, ['analyst', 'manager']]"
      ]
     },
     "execution_count": 126,
     "metadata": {},
     "output_type": "execute_result"
    }
   ],
   "source": [
    "l[1] = 3 # Index assignment\n",
    "l"
   ]
  },
  {
   "cell_type": "code",
   "execution_count": 127,
   "metadata": {
    "ExecuteTime": {
     "end_time": "2018-07-16T00:39:44.549777Z",
     "start_time": "2018-07-16T00:39:44.544613Z"
    },
    "hideCode": false,
    "hidePrompt": false,
    "scrolled": true,
    "slideshow": {
     "slide_type": "fragment"
    }
   },
   "outputs": [
    {
     "data": {
      "text/plain": [
       "['Sasha', 3, ['analyst', 'manager'], 4]"
      ]
     },
     "execution_count": 127,
     "metadata": {},
     "output_type": "execute_result"
    }
   ],
   "source": [
    "l.append(4)\n",
    "l"
   ]
  },
  {
   "cell_type": "code",
   "execution_count": 128,
   "metadata": {
    "ExecuteTime": {
     "end_time": "2018-07-16T00:39:47.893768Z",
     "start_time": "2018-07-16T00:39:47.888269Z"
    },
    "slideshow": {
     "slide_type": "fragment"
    }
   },
   "outputs": [
    {
     "data": {
      "text/plain": [
       "['Sasha', 3, ['analyst', 'manager'], 4, 5, 6, 7]"
      ]
     },
     "execution_count": 128,
     "metadata": {},
     "output_type": "execute_result"
    }
   ],
   "source": [
    "l.extend([5,6,7])\n",
    "l"
   ]
  },
  {
   "cell_type": "code",
   "execution_count": 129,
   "metadata": {
    "ExecuteTime": {
     "end_time": "2018-07-16T00:39:50.387159Z",
     "start_time": "2018-07-16T00:39:50.382178Z"
    },
    "slideshow": {
     "slide_type": "fragment"
    }
   },
   "outputs": [
    {
     "data": {
      "text/plain": [
       "['a', 'm', 'p', 's']"
      ]
     },
     "execution_count": 129,
     "metadata": {},
     "output_type": "execute_result"
    }
   ],
   "source": [
    "l.sort() # Methods: sorting\n",
    "l"
   ]
  },
  {
   "cell_type": "code",
   "execution_count": 122,
   "metadata": {
    "ExecuteTime": {
     "end_time": "2018-07-16T00:38:55.428115Z",
     "start_time": "2018-07-16T00:38:55.422145Z"
    },
    "slideshow": {
     "slide_type": "slide"
    }
   },
   "outputs": [
    {
     "data": {
      "text/plain": [
       "['s', 'p', 'a', 'm', 5, 6, 7]"
      ]
     },
     "execution_count": 122,
     "metadata": {},
     "output_type": "execute_result"
    }
   ],
   "source": [
    "l = list('spam') + [5,6,7]\n",
    "l"
   ]
  },
  {
   "cell_type": "code",
   "execution_count": 123,
   "metadata": {
    "ExecuteTime": {
     "end_time": "2018-07-16T00:38:55.799023Z",
     "start_time": "2018-07-16T00:38:55.790496Z"
    },
    "slideshow": {
     "slide_type": "fragment"
    }
   },
   "outputs": [
    {
     "data": {
      "text/plain": [
       "['s', 'a', 'm', 5, 6, 7]"
      ]
     },
     "execution_count": 123,
     "metadata": {},
     "output_type": "execute_result"
    }
   ],
   "source": [
    "l.remove(\"p\") # remove by literal\n",
    "l"
   ]
  },
  {
   "cell_type": "code",
   "execution_count": 124,
   "metadata": {
    "ExecuteTime": {
     "end_time": "2018-07-16T00:38:56.897587Z",
     "start_time": "2018-07-16T00:38:56.887913Z"
    },
    "scrolled": true,
    "slideshow": {
     "slide_type": "fragment"
    }
   },
   "outputs": [
    {
     "data": {
      "text/plain": [
       "['a', 'm', 5, 6, 7]"
      ]
     },
     "execution_count": 124,
     "metadata": {},
     "output_type": "execute_result"
    }
   ],
   "source": [
    "del l[0]\n",
    "l"
   ]
  },
  {
   "cell_type": "markdown",
   "metadata": {
    "slideshow": {
     "slide_type": "slide"
    }
   },
   "source": [
    "### Сортировка списка\n",
    "Для начала создадим случайный список с помощью функции модуля `random`:"
   ]
  },
  {
   "cell_type": "code",
   "execution_count": 54,
   "metadata": {
    "ExecuteTime": {
     "end_time": "2018-09-08T23:28:29.044688Z",
     "start_time": "2018-09-08T23:28:29.038668Z"
    },
    "slideshow": {
     "slide_type": "fragment"
    }
   },
   "outputs": [
    {
     "name": "stdout",
     "output_type": "stream",
     "text": [
      "[19, 17, 9, 7, 19, 15, 16, 7, 6, 19]\n"
     ]
    }
   ],
   "source": [
    "import random\n",
    "numbers = []\n",
    "for _ in range(10): # переменную для итерации называли _, т.к.\n",
    "                    # сама эта переменная нам не важна\n",
    "    numbers.append(random.randint(1, 20))\n",
    "print(numbers)"
   ]
  },
  {
   "cell_type": "markdown",
   "metadata": {
    "slideshow": {
     "slide_type": "slide"
    }
   },
   "source": [
    "Для сортировки списка в Python есть два способа: стандартная функция `sorted`, которая возвращает новый список, полученный сортировкой исходного, и метод списка `.sort()`, который сортирует in-place. Для сортировки используется алгоритм TimSort."
   ]
  },
  {
   "cell_type": "code",
   "execution_count": 55,
   "metadata": {
    "ExecuteTime": {
     "end_time": "2018-09-08T23:28:32.405943Z",
     "start_time": "2018-09-08T23:28:32.402225Z"
    },
    "slideshow": {
     "slide_type": "fragment"
    }
   },
   "outputs": [
    {
     "name": "stdout",
     "output_type": "stream",
     "text": [
      "[6, 7, 7, 9, 15, 16, 17, 19, 19, 19]\n"
     ]
    }
   ],
   "source": [
    "print(sorted(numbers))"
   ]
  },
  {
   "cell_type": "code",
   "execution_count": 56,
   "metadata": {
    "ExecuteTime": {
     "end_time": "2018-09-08T23:28:46.071345Z",
     "start_time": "2018-09-08T23:28:46.065574Z"
    },
    "slideshow": {
     "slide_type": "fragment"
    }
   },
   "outputs": [
    {
     "name": "stdout",
     "output_type": "stream",
     "text": [
      "[6, 7, 7, 9, 15, 16, 17, 19, 19, 19]\n"
     ]
    }
   ],
   "source": [
    "numbers.sort()\n",
    "print(numbers)"
   ]
  },
  {
   "cell_type": "markdown",
   "metadata": {
    "slideshow": {
     "slide_type": "fragment"
    }
   },
   "source": [
    "Для той же цели можно использовать встроенную функцию `reversed`, которая возвращает так называемый reverse iterator."
   ]
  },
  {
   "cell_type": "markdown",
   "metadata": {
    "slideshow": {
     "slide_type": "slide"
    }
   },
   "source": [
    "### Practical assignment\n",
    "\n",
    "Найдите медиану случайного списка"
   ]
  },
  {
   "cell_type": "code",
   "execution_count": 57,
   "metadata": {
    "ExecuteTime": {
     "end_time": "2018-09-08T23:32:50.255211Z",
     "start_time": "2018-09-08T23:32:50.242565Z"
    },
    "slideshow": {
     "slide_type": "fragment"
    }
   },
   "outputs": [
    {
     "name": "stdout",
     "output_type": "stream",
     "text": [
      "[12, 12, 19, 20, 18, 10, 11, 17, 16, 10]\n"
     ]
    }
   ],
   "source": [
    "import random\n",
    "numbers = []\n",
    "numbers_size = random.randint(10, 15)\n",
    "\n",
    "for _ in range(numbers_size):\n",
    "    numbers.append(random.randint(10, 20))\n",
    "    # randint возвращает случайное целое\n",
    "    # число в переданном ей интервале\n",
    "print(numbers)"
   ]
  },
  {
   "cell_type": "markdown",
   "metadata": {
    "hideCode": false,
    "hidePrompt": false,
    "slideshow": {
     "slide_type": "slide"
    }
   },
   "source": [
    "## Dictionaries\n",
    "\n",
    "Словари являются важнейшей структурой данных в Python-е. Они позволяют хранить данные в формате ключ-значение. Чтобы определить словарь, нужно использовать литерал фигурные скобки или просто вызвать `dict`. Если мы хотим, определяя словарь, сразу добавить в него данные, пишем ключ-значение через двоеточие."
   ]
  },
  {
   "cell_type": "code",
   "execution_count": 58,
   "metadata": {
    "ExecuteTime": {
     "end_time": "2018-09-08T23:34:29.949927Z",
     "start_time": "2018-09-08T23:34:29.934630Z"
    },
    "slideshow": {
     "slide_type": "fragment"
    }
   },
   "outputs": [],
   "source": [
    "empty_dict = {}\n",
    "empty_dict = dict()\n",
    "collections_map = {\n",
    "    'mutable': ['list', 'set', 'dict'],\n",
    "    'immutable': ['tuple', 'frozenset']\n",
    "}"
   ]
  },
  {
   "cell_type": "markdown",
   "metadata": {
    "slideshow": {
     "slide_type": "slide"
    }
   },
   "source": [
    "Доступ к значению по ключу осуществляется за константное время, то есть не зависит от размера словаря. Это достигается с помощью алгоритма хеширования. Однако, **словари не содержат информацию о порядке пар в нём**."
   ]
  },
  {
   "cell_type": "markdown",
   "metadata": {
    "hideCode": false,
    "hidePrompt": false,
    "slideshow": {
     "slide_type": "fragment"
    }
   },
   "source": [
    "Если пытаться получить доступ по ключу, которого не существует, Python выдаст ошибку `KeyError`. Однако, часто бывает полезно попытаться достать значение по ключу из словаря, а в случае отсутствия ключа вернуть какое-то стандартное значение. Для этого есть встроенный метод `get`."
   ]
  },
  {
   "cell_type": "code",
   "execution_count": 69,
   "metadata": {
    "ExecuteTime": {
     "end_time": "2018-09-09T17:34:05.075397Z",
     "start_time": "2018-09-09T17:34:05.069069Z"
    },
    "hideCode": false,
    "hidePrompt": false,
    "slideshow": {
     "slide_type": "slide"
    }
   },
   "outputs": [
    {
     "data": {
      "text/plain": [
       "['tuple', 'frozenset']"
      ]
     },
     "execution_count": 69,
     "metadata": {},
     "output_type": "execute_result"
    }
   ],
   "source": [
    "collections_map['immutable']"
   ]
  },
  {
   "cell_type": "code",
   "execution_count": 70,
   "metadata": {
    "ExecuteTime": {
     "end_time": "2018-09-09T17:34:12.252539Z",
     "start_time": "2018-09-09T17:34:12.247369Z"
    },
    "slideshow": {
     "slide_type": "fragment"
    }
   },
   "outputs": [
    {
     "data": {
      "text/plain": [
       "'not found'"
      ]
     },
     "execution_count": 70,
     "metadata": {},
     "output_type": "execute_result"
    }
   ],
   "source": [
    "collections_map.get('irresistible', 'not found')"
   ]
  },
  {
   "cell_type": "code",
   "execution_count": 71,
   "metadata": {
    "ExecuteTime": {
     "end_time": "2018-09-09T17:36:26.402098Z",
     "start_time": "2018-09-09T17:36:26.398550Z"
    },
    "hideCode": false,
    "hidePrompt": false,
    "slideshow": {
     "slide_type": "slide"
    }
   },
   "outputs": [],
   "source": [
    "pizza_dict = {\n",
    "        'food': {\n",
    "            'name': 'pizza',\n",
    "            'price': 10\n",
    "        }\n",
    "}"
   ]
  },
  {
   "cell_type": "code",
   "execution_count": 72,
   "metadata": {
    "ExecuteTime": {
     "end_time": "2018-09-09T17:36:27.175952Z",
     "start_time": "2018-09-09T17:36:27.170951Z"
    },
    "hideCode": false,
    "hidePrompt": false,
    "slideshow": {
     "slide_type": "fragment"
    }
   },
   "outputs": [
    {
     "data": {
      "text/plain": [
       "10"
      ]
     },
     "execution_count": 72,
     "metadata": {},
     "output_type": "execute_result"
    }
   ],
   "source": [
    "pizza_dict[\"food\"][\"price\"]"
   ]
  },
  {
   "cell_type": "code",
   "execution_count": 73,
   "metadata": {
    "ExecuteTime": {
     "end_time": "2018-09-09T17:36:28.226053Z",
     "start_time": "2018-09-09T17:36:28.222711Z"
    },
    "slideshow": {
     "slide_type": "fragment"
    }
   },
   "outputs": [],
   "source": [
    "pizza_dict.update({\"name\": \"Sergey\"}) # merge by keys"
   ]
  },
  {
   "cell_type": "code",
   "execution_count": 43,
   "metadata": {
    "ExecuteTime": {
     "end_time": "2018-07-15T23:25:21.348909Z",
     "start_time": "2018-07-15T23:25:21.342453Z"
    },
    "hideCode": false,
    "hidePrompt": false,
    "slideshow": {
     "slide_type": "fragment"
    }
   },
   "outputs": [
    {
     "data": {
      "text/plain": [
       "{'name': 'Sergey',\n",
       " 'age': 22,\n",
       " 'food': {'name': 'pizza', 'price': 10},\n",
       " 'surname': 'Ivanov'}"
      ]
     },
     "execution_count": 43,
     "metadata": {},
     "output_type": "execute_result"
    }
   ],
   "source": [
    "pizza_dict[\"surname\"] = \"Ivanov\""
   ]
  },
  {
   "cell_type": "code",
   "execution_count": 75,
   "metadata": {
    "ExecuteTime": {
     "end_time": "2018-09-09T17:36:32.366591Z",
     "start_time": "2018-09-09T17:36:32.360897Z"
    },
    "slideshow": {
     "slide_type": "fragment"
    }
   },
   "outputs": [
    {
     "data": {
      "text/plain": [
       "{'food': {'name': 'pizza', 'price': 10}, 'name': 'Sergey'}"
      ]
     },
     "execution_count": 75,
     "metadata": {},
     "output_type": "execute_result"
    }
   ],
   "source": [
    "pizza_dict"
   ]
  },
  {
   "cell_type": "code",
   "execution_count": 76,
   "metadata": {
    "ExecuteTime": {
     "end_time": "2018-09-09T17:37:13.921995Z",
     "start_time": "2018-09-09T17:37:13.916566Z"
    },
    "hideCode": false,
    "hidePrompt": false,
    "slideshow": {
     "slide_type": "slide"
    }
   },
   "outputs": [
    {
     "data": {
      "text/plain": [
       "True"
      ]
     },
     "execution_count": 76,
     "metadata": {},
     "output_type": "execute_result"
    }
   ],
   "source": [
    "'name' in pizza_dict # Membership: key present test"
   ]
  },
  {
   "cell_type": "code",
   "execution_count": 77,
   "metadata": {
    "ExecuteTime": {
     "end_time": "2018-09-09T17:37:17.529801Z",
     "start_time": "2018-09-09T17:37:17.523071Z"
    },
    "hideCode": false,
    "hidePrompt": false,
    "slideshow": {
     "slide_type": "fragment"
    }
   },
   "outputs": [
    {
     "data": {
      "text/plain": [
       "dict_keys(['food', 'name'])"
      ]
     },
     "execution_count": 77,
     "metadata": {},
     "output_type": "execute_result"
    }
   ],
   "source": [
    "pizza_dict.keys() # Method: all keys"
   ]
  },
  {
   "cell_type": "code",
   "execution_count": 78,
   "metadata": {
    "ExecuteTime": {
     "end_time": "2018-09-09T17:37:20.978689Z",
     "start_time": "2018-09-09T17:37:20.973510Z"
    },
    "hideCode": false,
    "hidePrompt": false,
    "slideshow": {
     "slide_type": "fragment"
    }
   },
   "outputs": [
    {
     "data": {
      "text/plain": [
       "dict_values([{'name': 'pizza', 'price': 10}, 'Sergey'])"
      ]
     },
     "execution_count": 78,
     "metadata": {},
     "output_type": "execute_result"
    }
   ],
   "source": [
    "pizza_dict.values() # Method: all values"
   ]
  },
  {
   "cell_type": "code",
   "execution_count": 79,
   "metadata": {
    "ExecuteTime": {
     "end_time": "2018-09-09T17:37:26.032612Z",
     "start_time": "2018-09-09T17:37:26.027002Z"
    },
    "hideCode": false,
    "hidePrompt": false,
    "slideshow": {
     "slide_type": "fragment"
    }
   },
   "outputs": [
    {
     "data": {
      "text/plain": [
       "dict_items([('food', {'name': 'pizza', 'price': 10}), ('name', 'Sergey')])"
      ]
     },
     "execution_count": 79,
     "metadata": {},
     "output_type": "execute_result"
    }
   ],
   "source": [
    "pizza_dict.items() # Method: all key+value tuples"
   ]
  },
  {
   "cell_type": "code",
   "execution_count": null,
   "metadata": {
    "ExecuteTime": {
     "end_time": "2018-07-10T22:52:04.377156Z",
     "start_time": "2018-07-10T22:52:04.367548Z"
    },
    "hideCode": false,
    "hidePrompt": false
   },
   "outputs": [],
   "source": [
    "del pizza_dict[\"surname\"]\n",
    "pizza_dict"
   ]
  },
  {
   "cell_type": "markdown",
   "metadata": {
    "slideshow": {
     "slide_type": "slide"
    }
   },
   "source": [
    "### Practical assignment\n",
    "\n",
    "Найдите 3 самых часто встречающихся слова в Zen of Python."
   ]
  },
  {
   "cell_type": "code",
   "execution_count": 1,
   "metadata": {
    "ExecuteTime": {
     "end_time": "2018-09-09T21:17:49.531189Z",
     "start_time": "2018-09-09T21:17:49.519351Z"
    },
    "slideshow": {
     "slide_type": "fragment"
    }
   },
   "outputs": [
    {
     "name": "stdout",
     "output_type": "stream",
     "text": [
      "The Zen of Python, by Tim Peters\n",
      "\n",
      "Beautiful is better than ugly.\n",
      "Explicit is better than implicit.\n",
      "Simple is better than complex.\n",
      "Complex is better than complicated.\n",
      "Flat is better than nested.\n",
      "Sparse is better than dense.\n",
      "Readability counts.\n",
      "Special cases aren't special enough to break the rules.\n",
      "Although practicality beats purity.\n",
      "Errors should never pass silently.\n",
      "Unless explicitly silenced.\n",
      "In the face of ambiguity, refuse the temptation to guess.\n",
      "There should be one-- and preferably only one --obvious way to do it.\n",
      "Although that way may not be obvious at first unless you're Dutch.\n",
      "Now is better than never.\n",
      "Although never is often better than *right* now.\n",
      "If the implementation is hard to explain, it's a bad idea.\n",
      "If the implementation is easy to explain, it may be a good idea.\n",
      "Namespaces are one honking great idea -- let's do more of those!\n"
     ]
    }
   ],
   "source": [
    "import this"
   ]
  },
  {
   "cell_type": "code",
   "execution_count": null,
   "metadata": {
    "slideshow": {
     "slide_type": "notes"
    }
   },
   "outputs": [],
   "source": [
    "zen_map = {}\n",
    "for word in zen.split():\n",
    "    cleaned_word = word.strip('.,!-*').lower()\n",
    "    # добавляем слово, если его ещё нет в zen_map:\n",
    "    if cleaned_word not in zen_map:\n",
    "        zen_map[cleaned_word] = 0\n",
    "    zen_map[cleaned_word] += 1\n",
    "print(zen_map)"
   ]
  },
  {
   "cell_type": "markdown",
   "metadata": {
    "hideCode": false,
    "hidePrompt": false,
    "slideshow": {
     "slide_type": "slide"
    }
   },
   "source": [
    "# Инструкции\n",
    "1. Программы делятся на модули.\n",
    "2. Модули содержат инструкции.\n",
    "3. **Инструкции состоят из выражений**.\n",
    "4. Выражения создают и обрабатывают объекты."
   ]
  },
  {
   "cell_type": "markdown",
   "metadata": {
    "slideshow": {
     "slide_type": "slide"
    }
   },
   "source": [
    "Инструкции представляют собой более крупные логические блоки программы – они напрямую используют выражения для обработки объектов. Кроме того, инструкции – это место, где создаются объекты."
   ]
  },
  {
   "cell_type": "code",
   "execution_count": 21,
   "metadata": {
    "ExecuteTime": {
     "end_time": "2018-07-14T00:35:47.489331Z",
     "start_time": "2018-07-14T00:35:47.477577Z"
    },
    "hideCode": false,
    "hidePrompt": false,
    "slideshow": {
     "slide_type": "fragment"
    }
   },
   "outputs": [],
   "source": [
    "name = \"Yuri\" # simple assignment statement "
   ]
  },
  {
   "cell_type": "markdown",
   "metadata": {
    "hideCode": false,
    "hidePrompt": false,
    "slideshow": {
     "slide_type": "slide"
    }
   },
   "source": [
    "Все составные инструкции в языке Python (то есть инструкции, которые включают вложенные в них инструкции) записываются в соответствии с одним и тем же общим шаблоном, когда основная инструкция завершается двоеточием, вслед за которым располагается вложенный блок кода, обычно с отступом под строкой основной инструкции, как показано ниже:\n",
    "```\n",
    "Основная инструкция:\n",
    "    Вложенный блок инструкций\n",
    "```"
   ]
  },
  {
   "cell_type": "code",
   "execution_count": 19,
   "metadata": {
    "ExecuteTime": {
     "end_time": "2018-07-14T00:31:05.377603Z",
     "start_time": "2018-07-14T00:31:05.356764Z"
    },
    "hideCode": false,
    "hidePrompt": false,
    "slideshow": {
     "slide_type": "slide"
    }
   },
   "outputs": [
    {
     "name": "stdout",
     "output_type": "stream",
     "text": [
      "3\n"
     ]
    }
   ],
   "source": [
    "a = 1; b = 2; print(a + b) # Three statements on one line"
   ]
  },
  {
   "cell_type": "markdown",
   "metadata": {
    "hideCode": false,
    "hidePrompt": false,
    "slideshow": {
     "slide_type": "fragment"
    }
   },
   "source": [
    "This is the only place in Python where semicolons are required: as statement separators."
   ]
  },
  {
   "cell_type": "markdown",
   "metadata": {
    "hideCode": false,
    "hidePrompt": false,
    "slideshow": {
     "slide_type": "slide"
    }
   },
   "source": [
    "The other special rule for statements is essentially the inverse: you can make a single statement span across multiple lines. To make this work, you simply have to enclose part of your statement in a bracketed pair—parentheses (()), square brackets ([]), or curly braces ({})"
   ]
  },
  {
   "cell_type": "code",
   "execution_count": 48,
   "metadata": {
    "ExecuteTime": {
     "end_time": "2018-07-15T23:32:35.748140Z",
     "start_time": "2018-07-15T23:32:35.740982Z"
    },
    "hideCode": false,
    "hidePrompt": false,
    "slideshow": {
     "slide_type": "fragment"
    }
   },
   "outputs": [
    {
     "data": {
      "text/plain": [
       "201"
      ]
     },
     "execution_count": 48,
     "metadata": {},
     "output_type": "execute_result"
    }
   ],
   "source": [
    "(\n",
    "    1 +\n",
    "    10 *\n",
    "    20\n",
    ")"
   ]
  },
  {
   "cell_type": "markdown",
   "metadata": {
    "hideCode": false,
    "hidePrompt": false,
    "slideshow": {
     "slide_type": "slide"
    }
   },
   "source": [
    "## `for` loops\n",
    "\n",
    "`for` can step through the items in any ordered sequence or other iterable object. The for statement works on strings, lists, tuples, and other iterables.\n",
    "\n",
    "```\n",
    "for target in object:\n",
    "    statements\n",
    "else:                   # Optional else part\n",
    "    statements          # If we didn't hit a 'break'\n",
    "```\n",
    "`Else` statement executes if the loop exits without running into a `break` statement.\n",
    "\n",
    "The `break` statement causes an immediate exit from a loop. Because the code that follows it in the loop is not executed if the `break` is reached, you can also sometimes avoid nesting by including a `break`.\n",
    "\n",
    "The `continue` statement causes an immediate jump to the top of a loop. It also sometimes lets you avoid statement nesting. \n",
    "\n",
    "The `pass` statement does nothing at all: it’s an empty statement placeholder."
   ]
  },
  {
   "cell_type": "code",
   "execution_count": 94,
   "metadata": {
    "ExecuteTime": {
     "end_time": "2018-09-09T18:31:42.325230Z",
     "start_time": "2018-09-09T18:31:42.320047Z"
    },
    "hideCode": false,
    "hidePrompt": false,
    "slideshow": {
     "slide_type": "slide"
    }
   },
   "outputs": [
    {
     "name": "stdout",
     "output_type": "stream",
     "text": [
      "num is 1\n",
      "num is 3\n",
      "Всё ок\n"
     ]
    }
   ],
   "source": [
    "for num in range(7):\n",
    "    if num is 1:\n",
    "        pass\n",
    "        print(f\"num is {num}\")\n",
    "    if num is 2:\n",
    "        continue\n",
    "        print(f\"num is {num}\")\n",
    "    if num is 3:\n",
    "#         break\n",
    "        print(f\"num is {num}\")\n",
    "else:\n",
    "    print(\"Всё ок\")"
   ]
  },
  {
   "cell_type": "markdown",
   "metadata": {
    "slideshow": {
     "slide_type": "slide"
    }
   },
   "source": [
    "### Practical assignment\n",
    "\n",
    "Найдите сумму цифр, из которых состоит строка.\n",
    "\n",
    "Вы должны создать Python модуль которому можно передать строку, состоящую из цифр.\n",
    "\n",
    "Чтобы получить ввод, вы в начале программы можете считать его, используя модуль стандартной библиотеки `sys`:"
   ]
  },
  {
   "cell_type": "code",
   "execution_count": null,
   "metadata": {
    "ExecuteTime": {
     "end_time": "2018-09-09T20:24:14.028110Z",
     "start_time": "2018-09-09T20:24:14.024793Z"
    },
    "slideshow": {
     "slide_type": "fragment"
    }
   },
   "outputs": [],
   "source": [
    "import sys\n",
    "digit_string = sys.argv[1]"
   ]
  },
  {
   "cell_type": "markdown",
   "metadata": {
    "slideshow": {
     "slide_type": "fragment"
    }
   },
   "source": [
    "То, что полученная программа ведет себя должным образом можно проверить локально, запустив ее следующим образом:\n",
    "```\n",
    "> python3 solution.py 873\n",
    "```"
   ]
  },
  {
   "cell_type": "markdown",
   "metadata": {
    "hideCode": false,
    "hidePrompt": false,
    "slideshow": {
     "slide_type": "slide"
    }
   },
   "source": [
    "## `while` loop\n",
    "\n",
    "It repeatedly executes a block of (normally indented) statements as long as a test at the top keeps evaluating to a true value.\n",
    "```\n",
    "while test:\n",
    "    statements\n",
    "else:\n",
    "    statements\n",
    "```"
   ]
  },
  {
   "cell_type": "code",
   "execution_count": 39,
   "metadata": {
    "ExecuteTime": {
     "end_time": "2018-07-14T01:14:26.957538Z",
     "start_time": "2018-07-14T01:14:26.952848Z"
    },
    "hideCode": false,
    "hidePrompt": false,
    "slideshow": {
     "slide_type": "slide"
    }
   },
   "outputs": [
    {
     "name": "stdout",
     "output_type": "stream",
     "text": [
      "0\n",
      "1\n",
      "2\n",
      "3\n",
      "4\n"
     ]
    }
   ],
   "source": [
    "i = 0\n",
    "\n",
    "while i != 5:\n",
    "    print(i)\n",
    "    i += 1"
   ]
  },
  {
   "cell_type": "markdown",
   "metadata": {
    "hideCode": false,
    "hidePrompt": false,
    "slideshow": {
     "slide_type": "slide"
    }
   },
   "source": [
    "## `if` Statements\n",
    "\n",
    "if statement selects actions to perform. It represents much of the logic a Python program.\n",
    "\n",
    "General format:\n",
    "\n",
    "```\n",
    "if test1:          # if test\n",
    "    statements1\n",
    "elif test2:        # Optional elifs\n",
    "    statements2\n",
    "else:              # Optional else\n",
    "    statements3\n",
    "```"
   ]
  },
  {
   "cell_type": "code",
   "execution_count": 89,
   "metadata": {
    "ExecuteTime": {
     "end_time": "2018-09-09T18:09:02.637971Z",
     "start_time": "2018-09-09T18:09:02.632967Z"
    },
    "slideshow": {
     "slide_type": "slide"
    }
   },
   "outputs": [
    {
     "name": "stdout",
     "output_type": "stream",
     "text": [
      "Нечётное\n"
     ]
    }
   ],
   "source": [
    "num = 3\n",
    "if num is 0:\n",
    "    print(\"Ноль\")\n",
    "elif num % 2:\n",
    "    print(\"Нечётное\")\n",
    "else:\n",
    "    print(\"Четное\")"
   ]
  },
  {
   "cell_type": "markdown",
   "metadata": {
    "slideshow": {
     "slide_type": "slide"
    }
   },
   "source": [
    "### Practical assignment\n",
    "\n",
    "Найдите корни квадратного уравнения с помощью Python.\n",
    "\n",
    "На вход программе мы подадим коэффициенты `a`, `b` и `c` - ваша цель напечатать 2 корня квадратного уравнения (каждый с новой строки)."
   ]
  },
  {
   "cell_type": "code",
   "execution_count": null,
   "metadata": {
    "ExecuteTime": {
     "end_time": "2018-09-09T18:59:09.489525Z",
     "start_time": "2018-09-09T18:59:09.447993Z"
    },
    "hideCode": false,
    "hidePrompt": false,
    "slideshow": {
     "slide_type": "fragment"
    }
   },
   "outputs": [],
   "source": [
    "import sys\n",
    "a = sys.argv[1]\n",
    "b = sys.argv[2]\n",
    "c = sys.argv[3]"
   ]
  },
  {
   "cell_type": "code",
   "execution_count": null,
   "metadata": {
    "slideshow": {
     "slide_type": "skip"
    }
   },
   "outputs": [],
   "source": [
    "D = (b ** 2) - 4 * a * c\n",
    "\n",
    "if D > 0:\n",
    "    x1 = (-b + D**0.5) / 2*a\n",
    "    x2 = (-b - D**0.5) / 2*a\n",
    "elif D == 0:\n",
    "    x1 = x2 = -b/2*a\n",
    "else:\n",
    "    x1 = x2 = \"Корень не существует\"\n",
    "\n",
    "print(int(x1), int(x2), sep=\"\\n\")"
   ]
  },
  {
   "cell_type": "markdown",
   "metadata": {
    "slideshow": {
     "slide_type": "slide"
    }
   },
   "source": [
    "## Функции\n",
    "\n",
    "Функция — это блок кода, который можно переиспользовать несколько раз в разных местах программы. Мы можем передавать функции аргументы и получать возвращаемые значения. Чтобы определить функцию в языке Python, нужно использовать литерал def и с помощью отступа определить блок кода функции.\n",
    "\n",
    "General format:\n",
    "```\n",
    "def name(arg1, arg2,... argN):\n",
    "    statements\n",
    "    return value # optional part\n",
    "```\n"
   ]
  },
  {
   "cell_type": "markdown",
   "metadata": {
    "slideshow": {
     "slide_type": "slide"
    }
   },
   "source": [
    "Объявим функцию, которая возвращает секундную часть текущего времени."
   ]
  },
  {
   "cell_type": "code",
   "execution_count": 101,
   "metadata": {
    "ExecuteTime": {
     "end_time": "2018-09-09T19:12:32.002797Z",
     "start_time": "2018-09-09T19:12:31.995714Z"
    },
    "slideshow": {
     "slide_type": "fragment"
    }
   },
   "outputs": [
    {
     "data": {
      "text/plain": [
       "31"
      ]
     },
     "execution_count": 101,
     "metadata": {},
     "output_type": "execute_result"
    }
   ],
   "source": [
    "from datetime import datetime\n",
    "\n",
    "\n",
    "def get_seconds():\n",
    "    \"\"\"Return current seconds\"\"\"\n",
    "    return datetime.now().second\n",
    "\n",
    "\n",
    "get_seconds()"
   ]
  },
  {
   "cell_type": "markdown",
   "metadata": {
    "slideshow": {
     "slide_type": "slide"
    }
   },
   "source": [
    "Чтобы получить документационную строку, можно обратиться к атрибуту `__doc__`, а имя функции получается с помощью атрибута `__name__`."
   ]
  },
  {
   "cell_type": "code",
   "execution_count": 98,
   "metadata": {
    "ExecuteTime": {
     "end_time": "2018-09-09T19:10:52.894886Z",
     "start_time": "2018-09-09T19:10:52.888735Z"
    },
    "slideshow": {
     "slide_type": "fragment"
    }
   },
   "outputs": [
    {
     "data": {
      "text/plain": [
       "'Return current seconds'"
      ]
     },
     "execution_count": 98,
     "metadata": {},
     "output_type": "execute_result"
    }
   ],
   "source": [
    "get_seconds.__doc__"
   ]
  },
  {
   "cell_type": "code",
   "execution_count": 99,
   "metadata": {
    "ExecuteTime": {
     "end_time": "2018-09-09T19:11:04.461262Z",
     "start_time": "2018-09-09T19:11:04.456103Z"
    },
    "slideshow": {
     "slide_type": "fragment"
    }
   },
   "outputs": [
    {
     "data": {
      "text/plain": [
       "'get_seconds'"
      ]
     },
     "execution_count": 99,
     "metadata": {},
     "output_type": "execute_result"
    }
   ],
   "source": [
    "get_seconds.__name__"
   ]
  },
  {
   "cell_type": "markdown",
   "metadata": {
    "ExecuteTime": {
     "end_time": "2018-09-09T19:13:24.096475Z",
     "start_time": "2018-09-09T19:13:24.090267Z"
    },
    "slideshow": {
     "slide_type": "slide"
    }
   },
   "source": [
    "Чаще всего функция определяется с параметрами, т.к. зачастую функции каким-то образом обрабатывают переданные им значения."
   ]
  },
  {
   "cell_type": "code",
   "execution_count": 103,
   "metadata": {
    "ExecuteTime": {
     "end_time": "2018-09-09T19:14:20.265675Z",
     "start_time": "2018-09-09T19:14:20.259978Z"
    },
    "slideshow": {
     "slide_type": "fragment"
    }
   },
   "outputs": [
    {
     "data": {
      "text/plain": [
       "9"
      ]
     },
     "execution_count": 103,
     "metadata": {},
     "output_type": "execute_result"
    }
   ],
   "source": [
    "def add(a, b):\n",
    "    return a + b\n",
    "\n",
    "add(4, 5)"
   ]
  },
  {
   "cell_type": "markdown",
   "metadata": {
    "slideshow": {
     "slide_type": "slide"
    }
   },
   "source": [
    "Функции могут принимать значения по-умолчанию"
   ]
  },
  {
   "cell_type": "code",
   "execution_count": 106,
   "metadata": {
    "ExecuteTime": {
     "end_time": "2018-09-09T19:19:39.929532Z",
     "start_time": "2018-09-09T19:19:39.923550Z"
    },
    "slideshow": {
     "slide_type": "fragment"
    }
   },
   "outputs": [
    {
     "data": {
      "text/plain": [
       "14"
      ]
     },
     "execution_count": 106,
     "metadata": {},
     "output_type": "execute_result"
    }
   ],
   "source": [
    "def add(a, b=10):\n",
    "    return a + b\n",
    "\n",
    "add(4)"
   ]
  },
  {
   "cell_type": "markdown",
   "metadata": {
    "slideshow": {
     "slide_type": "skip"
    }
   },
   "source": [
    "## List Comprehensions\n"
   ]
  },
  {
   "cell_type": "markdown",
   "metadata": {
    "slideshow": {
     "slide_type": "skip"
    }
   },
   "source": [
    "List comprehensions provide a concise way to create lists. \n",
    "\n",
    "As list comprehension returns list, they consists of brackets containing the expression which needs to be executed for each element along with the for loop to iterate over each element.\n",
    "\n",
    "<img src=\"http://python-3-patterns-idioms-test.readthedocs.io/en/latest/_images/listComprehensions.gif\">"
   ]
  },
  {
   "cell_type": "markdown",
   "metadata": {
    "hideCode": false,
    "hidePrompt": false,
    "slideshow": {
     "slide_type": "slide"
    }
   },
   "source": [
    "# Модули\n",
    "\n",
    "1. Программы делятся на модули.\n",
    "2. **Модули содержат инструкции.**\n",
    "3. Инструкции состоят из выражений.\n",
    "4. Выражения создают и обрабатывают объекты."
   ]
  },
  {
   "cell_type": "markdown",
   "metadata": {
    "ExecuteTime": {
     "end_time": "2018-09-09T20:34:21.921649Z",
     "start_time": "2018-09-09T20:34:21.915019Z"
    },
    "slideshow": {
     "slide_type": "slide"
    }
   },
   "source": [
    "В Python разделение кода осуществляется с помощью модулей и пакетов. Модуль в Python — это обычный файл с расширением `.py`, который содержит определения переменных, функций, классов, и который также может содержать импорты других модулей. Импорт выполняется стандартной командой `import`.\n",
    "\n",
    "Python импортирует модуль и выполняет все инструкции, которые в этом модуле определены на верхнем уровне."
   ]
  },
  {
   "cell_type": "code",
   "execution_count": 117,
   "metadata": {
    "ExecuteTime": {
     "end_time": "2018-09-09T20:35:27.577678Z",
     "start_time": "2018-09-09T20:35:27.573842Z"
    },
    "hideCode": false,
    "hidePrompt": false,
    "slideshow": {
     "slide_type": "fragment"
    }
   },
   "outputs": [],
   "source": [
    "import math # import lets a client (importer) fetch a module as a whole"
   ]
  },
  {
   "cell_type": "code",
   "execution_count": 119,
   "metadata": {
    "ExecuteTime": {
     "end_time": "2018-09-09T20:35:32.810334Z",
     "start_time": "2018-09-09T20:35:32.804007Z"
    },
    "hideCode": false,
    "hidePrompt": false,
    "slideshow": {
     "slide_type": "fragment"
    }
   },
   "outputs": [
    {
     "data": {
      "text/plain": [
       "<module 'math' from '/Library/Frameworks/Python.framework/Versions/3.6/lib/python3.6/lib-dynload/math.cpython-36m-darwin.so'>"
      ]
     },
     "execution_count": 119,
     "metadata": {},
     "output_type": "execute_result"
    }
   ],
   "source": [
    "print(math)"
   ]
  },
  {
   "cell_type": "code",
   "execution_count": 47,
   "metadata": {
    "ExecuteTime": {
     "end_time": "2018-07-14T01:35:02.376224Z",
     "start_time": "2018-07-14T01:35:02.371571Z"
    },
    "hideCode": false,
    "hidePrompt": false,
    "slideshow": {
     "slide_type": "fragment"
    }
   },
   "outputs": [
    {
     "data": {
      "text/plain": [
       "3.141592653589793"
      ]
     },
     "execution_count": 47,
     "metadata": {},
     "output_type": "execute_result"
    }
   ],
   "source": [
    "math.pi # constants"
   ]
  },
  {
   "cell_type": "markdown",
   "metadata": {
    "slideshow": {
     "slide_type": "slide"
    }
   },
   "source": [
    "Конструкция `from mymodule import my_function` позволяет импортировать только определённые объявления из модуля. Чтобы импортировать все объявления из модуля, пишут `from mymodule import *`."
   ]
  },
  {
   "cell_type": "code",
   "execution_count": 120,
   "metadata": {
    "ExecuteTime": {
     "end_time": "2018-09-09T20:37:00.972401Z",
     "start_time": "2018-09-09T20:37:00.964369Z"
    },
    "slideshow": {
     "slide_type": "fragment"
    }
   },
   "outputs": [],
   "source": [
    "from math import log, e # `from` allows clients to fetch particular names from a module"
   ]
  },
  {
   "cell_type": "markdown",
   "metadata": {
    "slideshow": {
     "slide_type": "slide"
    }
   },
   "source": [
    "Иногда модулей недостаточно, используются более крупные объединения — пакеты. Пакеты в Python — это директория, которая содержит один или больше модулей. Внутри пакетов могут содержаться другие пакеты. Внутри директории с пакетом должен находиться файл `__init__.py` (обычно пустой). Этот файл выполняется каждый раз, когда мы импортируем пакет."
   ]
  },
  {
   "cell_type": "markdown",
   "metadata": {
    "slideshow": {
     "slide_type": "slide"
    }
   },
   "source": [
    "# Files\n",
    "\n",
    "To open a file, a program calls the built-in `open` function, with the external filename first, followed by a processing mode. The call returns a file object, which in turn has methods for data transfer:\n",
    "```\n",
    "========= ===============================================================\n",
    "Character Meaning\n",
    "--------- ---------------------------------------------------------------\n",
    "'r'       open for reading (default)\n",
    "'w'       open for writing, truncating the file first\n",
    "'x'       create a new file and open it for writing\n",
    "'a'       open for writing, appending to the end of the file if it exists\n",
    "'b'       binary mode\n",
    "'t'       text mode (default)\n",
    "```"
   ]
  },
  {
   "cell_type": "code",
   "execution_count": 121,
   "metadata": {
    "ExecuteTime": {
     "end_time": "2018-09-09T20:56:27.683376Z",
     "start_time": "2018-09-09T20:56:27.671055Z"
    },
    "slideshow": {
     "slide_type": "slide"
    }
   },
   "outputs": [],
   "source": [
    "file_obj = open(\"data.txt\", \"wt\", encoding=\"utf8\")\n",
    "file_obj.write(\"First line\\n\") # Write a line of text: string\n",
    "file_obj.write(\"Second line\\n\")\n",
    "file_obj.close() # Close the file"
   ]
  },
  {
   "cell_type": "code",
   "execution_count": 122,
   "metadata": {
    "ExecuteTime": {
     "end_time": "2018-09-09T20:56:28.827093Z",
     "start_time": "2018-09-09T20:56:28.816541Z"
    },
    "scrolled": true,
    "slideshow": {
     "slide_type": "slide"
    }
   },
   "outputs": [
    {
     "data": {
      "text/plain": [
       "['First line\\n', 'Second line\\n']"
      ]
     },
     "execution_count": 122,
     "metadata": {},
     "output_type": "execute_result"
    }
   ],
   "source": [
    "file_obj = open(\"data.txt\")\n",
    "file_obj.readlines()"
   ]
  },
  {
   "cell_type": "code",
   "execution_count": 123,
   "metadata": {
    "ExecuteTime": {
     "end_time": "2018-09-09T20:56:30.553138Z",
     "start_time": "2018-09-09T20:56:30.547388Z"
    },
    "slideshow": {
     "slide_type": "fragment"
    }
   },
   "outputs": [
    {
     "data": {
      "text/plain": [
       "0"
      ]
     },
     "execution_count": 123,
     "metadata": {},
     "output_type": "execute_result"
    }
   ],
   "source": [
    "file_obj.seek(0)"
   ]
  },
  {
   "cell_type": "code",
   "execution_count": 124,
   "metadata": {
    "ExecuteTime": {
     "end_time": "2018-09-09T20:56:31.811617Z",
     "start_time": "2018-09-09T20:56:31.805812Z"
    },
    "slideshow": {
     "slide_type": "fragment"
    }
   },
   "outputs": [
    {
     "name": "stdout",
     "output_type": "stream",
     "text": [
      "FIRST LINE\n",
      "SECOND LINE\n"
     ]
    }
   ],
   "source": [
    "for line in file_obj:\n",
    "    print(line.upper(), end=\"\")"
   ]
  },
  {
   "cell_type": "code",
   "execution_count": 125,
   "metadata": {
    "ExecuteTime": {
     "end_time": "2018-09-09T20:56:34.144996Z",
     "start_time": "2018-09-09T20:56:34.141404Z"
    },
    "slideshow": {
     "slide_type": "fragment"
    }
   },
   "outputs": [],
   "source": [
    "file_obj.close()"
   ]
  },
  {
   "cell_type": "markdown",
   "metadata": {
    "slideshow": {
     "slide_type": "slide"
    }
   },
   "source": [
    "Рекомендуется открывать файлы несколько по-другому — с помощью контекстного менеджера, который позволяет не заботиться о закрытии файлов. Вы можете открыть файл с помощью оператора `with`, записать файловый объект в переменную `file_obj` и потом работать с файлом внутри этого контекстного блока. После выхода из блока интерпретатор Python закроет файл."
   ]
  },
  {
   "cell_type": "code",
   "execution_count": 126,
   "metadata": {
    "ExecuteTime": {
     "end_time": "2018-09-09T20:56:38.162238Z",
     "start_time": "2018-09-09T20:56:38.145360Z"
    },
    "slideshow": {
     "slide_type": "fragment"
    }
   },
   "outputs": [
    {
     "name": "stdout",
     "output_type": "stream",
     "text": [
      "FIRST LINE\n",
      "SECOND LINE\n"
     ]
    }
   ],
   "source": [
    "with open(\"data.txt\") as file_obj:\n",
    "    for line in file_obj:\n",
    "        print(line.upper(), end=\"\")"
   ]
  },
  {
   "cell_type": "markdown",
   "metadata": {
    "hideCode": false,
    "hidePrompt": false,
    "slideshow": {
     "slide_type": "skip"
    }
   },
   "source": [
    "## Practical assignment"
   ]
  },
  {
   "cell_type": "markdown",
   "metadata": {
    "slideshow": {
     "slide_type": "skip"
    }
   },
   "source": [
    "Some guys [scraped tweets](https://www.kaggle.com/fifthtribe/how-isis-uses-twitter/home) from 100+ pro-ISIS fanboys from all over the world since the November 2015 Paris Attacks.\n",
    "\n",
    "Example of such tweet:\n",
    "\n",
    "> RT @maaj19: سَمِعْنَا وَ أطَعْنَا #gd #gd#fdfd @allah\n",
    "\n",
    "I saved random sample of these tweets in a file \"tweets_IS.txt\", one tweet per line. Read the file and do the following tasks:\n",
    "1. Calculate the distribution of hashtags. What is the most populat hashtag in these tweets?\n",
    "2. Calculate the distribution of mentions. What is the most populat user mentioned in these tweets?\n",
    "3. What is the longest tweet?"
   ]
  },
  {
   "cell_type": "markdown",
   "metadata": {
    "slideshow": {
     "slide_type": "skip"
    }
   },
   "source": [
    "## Lambda functions\n"
   ]
  },
  {
   "cell_type": "markdown",
   "metadata": {
    "slideshow": {
     "slide_type": "skip"
    }
   },
   "source": [
    "Besides the def statement, Python also provides an expression form that generates function objects, it’s called lambda.\n",
    "\n",
    "Like def, this expression creates a function to be called later, but it returns the function instead of assigning it to a name. This is why lambdas are sometimes known as anonymous (i.e., unnamed) functions. In practice, they are often used as a way to inline a function definition.\n",
    "\n",
    "The lambda’s general form is the keyword lambda, followed by one or more arguments (exactly like the arguments list you enclose in parentheses in a def header), followed by an expression after a colon:\n",
    "\n",
    "```\n",
    "lambda argument1, argument2,... argumentN : expression using arguments\n",
    "```"
   ]
  },
  {
   "cell_type": "code",
   "execution_count": 7,
   "metadata": {
    "ExecuteTime": {
     "end_time": "2018-07-16T21:17:03.897731Z",
     "start_time": "2018-07-16T21:17:03.884637Z"
    },
    "slideshow": {
     "slide_type": "skip"
    }
   },
   "outputs": [],
   "source": [
    "def power(x, power=2):\n",
    "    return x ** power"
   ]
  },
  {
   "cell_type": "code",
   "execution_count": 13,
   "metadata": {
    "ExecuteTime": {
     "end_time": "2018-07-16T21:19:59.879915Z",
     "start_time": "2018-07-16T21:19:59.876964Z"
    },
    "slideshow": {
     "slide_type": "skip"
    }
   },
   "outputs": [],
   "source": [
    "power = lambda x, power=2: x**power"
   ]
  },
  {
   "cell_type": "markdown",
   "metadata": {
    "slideshow": {
     "slide_type": "skip"
    }
   },
   "source": [
    "There are a few differences that make lambdas useful in specialized roles:\n",
    "\n",
    "1. **lambda is an expression, not a statement.** Because of this, a lambda can appear in places a def is not allowed by Python’s syntax—inside a list literal or a function call’s arguments, for example. With def, functions can be referenced by name but must be created elsewhere. As an expression, lambda returns a value (a new func- tion) that can optionally be assigned a name. In contrast, the def statement always assigns the new function to the name in the header, instead of returning it as a result.\n",
    "\n",
    "2. **lambda’s body is a single expression, not a block of statements.**"
   ]
  },
  {
   "cell_type": "markdown",
   "metadata": {
    "slideshow": {
     "slide_type": "skip"
    }
   },
   "source": [
    "### Why Use lambda?\n",
    "\n",
    "Take a look at the `sorted` function. It returns a new list containing all items from the iterable in ascending order."
   ]
  },
  {
   "cell_type": "markdown",
   "metadata": {
    "slideshow": {
     "slide_type": "skip"
    }
   },
   "source": [
    "Lets create a list of random numbers with module random."
   ]
  },
  {
   "cell_type": "code",
   "execution_count": 19,
   "metadata": {
    "ExecuteTime": {
     "end_time": "2018-07-16T21:32:54.452271Z",
     "start_time": "2018-07-16T21:32:54.446810Z"
    },
    "slideshow": {
     "slide_type": "skip"
    }
   },
   "outputs": [
    {
     "data": {
      "text/plain": [
       "[28, 61, 3, 11, 96, 73, 33, 28, 93, 32]"
      ]
     },
     "execution_count": 19,
     "metadata": {},
     "output_type": "execute_result"
    }
   ],
   "source": [
    "import random\n",
    "# Return a k sized list of population elements chosen with replacement.\n",
    "random_list = random.choices(range(100), k=10)\n",
    "random_list"
   ]
  },
  {
   "cell_type": "code",
   "execution_count": 20,
   "metadata": {
    "ExecuteTime": {
     "end_time": "2018-07-16T21:33:10.622815Z",
     "start_time": "2018-07-16T21:33:10.615797Z"
    },
    "slideshow": {
     "slide_type": "skip"
    }
   },
   "outputs": [
    {
     "data": {
      "text/plain": [
       "[3, 11, 28, 28, 32, 33, 61, 73, 93, 96]"
      ]
     },
     "execution_count": 20,
     "metadata": {},
     "output_type": "execute_result"
    }
   ],
   "source": [
    "sorted(random_list)"
   ]
  },
  {
   "cell_type": "markdown",
   "metadata": {
    "slideshow": {
     "slide_type": "skip"
    }
   },
   "source": [
    "`sorted` function has an argument `key`, which accept a custom key function can be supplied to customize the sort order. It is useful when we want to sort by nested element."
   ]
  },
  {
   "cell_type": "code",
   "execution_count": 25,
   "metadata": {
    "ExecuteTime": {
     "end_time": "2018-07-16T21:43:56.792591Z",
     "start_time": "2018-07-16T21:43:56.782286Z"
    },
    "slideshow": {
     "slide_type": "skip"
    }
   },
   "outputs": [],
   "source": [
    "orders = [\n",
    "    {\n",
    "        \"name\": \"pizza pepperoni\",\n",
    "        \"price\": 12,\n",
    "        \"amount\": 1\n",
    "    },\n",
    "    {\n",
    "        \"name\": \"Coca-cola\",\n",
    "        \"price\": 4,\n",
    "        \"amount\": 2\n",
    "    },\n",
    "    {\n",
    "        \"name\": \"Cupcake\",\n",
    "        \"price\": 3,\n",
    "        \"amount\": 10\n",
    "    }\n",
    "]"
   ]
  },
  {
   "cell_type": "code",
   "execution_count": 26,
   "metadata": {
    "ExecuteTime": {
     "end_time": "2018-07-16T21:43:57.058094Z",
     "start_time": "2018-07-16T21:43:57.047273Z"
    },
    "slideshow": {
     "slide_type": "skip"
    }
   },
   "outputs": [
    {
     "data": {
      "text/plain": [
       "[{'name': 'Cupcake', 'price': 3, 'amount': 10},\n",
       " {'name': 'Coca-cola', 'price': 4, 'amount': 2},\n",
       " {'name': 'pizza pepperoni', 'price': 12, 'amount': 1}]"
      ]
     },
     "execution_count": 26,
     "metadata": {},
     "output_type": "execute_result"
    }
   ],
   "source": [
    "sorted(orders, key=lambda el: el[\"price\"])"
   ]
  },
  {
   "cell_type": "code",
   "execution_count": 27,
   "metadata": {
    "ExecuteTime": {
     "end_time": "2018-07-16T21:43:57.816148Z",
     "start_time": "2018-07-16T21:43:57.810320Z"
    },
    "slideshow": {
     "slide_type": "skip"
    }
   },
   "outputs": [
    {
     "data": {
      "text/plain": [
       "[{'name': 'Cupcake', 'price': 3, 'amount': 10},\n",
       " {'name': 'Coca-cola', 'price': 4, 'amount': 2},\n",
       " {'name': 'pizza pepperoni', 'price': 12, 'amount': 1}]"
      ]
     },
     "execution_count": 27,
     "metadata": {},
     "output_type": "execute_result"
    }
   ],
   "source": [
    "# it is the same as \n",
    "def sort_function(el):\n",
    "    return el[\"price\"]\n",
    "\n",
    "sorted(orders, key=sort_function)"
   ]
  },
  {
   "cell_type": "markdown",
   "metadata": {
    "slideshow": {
     "slide_type": "skip"
    }
   },
   "source": [
    "### Practical assignment\n",
    "There is a mistake in a previous example. Orders must be sorted in another way. Why? Write correct answer."
   ]
  }
 ],
 "metadata": {
  "celltoolbar": "Slideshow",
  "hide_code_all_hidden": false,
  "kernelspec": {
   "display_name": "Python 3",
   "language": "python",
   "name": "python3"
  },
  "language_info": {
   "codemirror_mode": {
    "name": "ipython",
    "version": 3
   },
   "file_extension": ".py",
   "mimetype": "text/x-python",
   "name": "python",
   "nbconvert_exporter": "python",
   "pygments_lexer": "ipython3",
   "version": "3.6.5"
  },
  "toc": {
   "nav_menu": {},
   "number_sections": true,
   "sideBar": true,
   "skip_h1_title": false,
   "toc_cell": false,
   "toc_position": {},
   "toc_section_display": "block",
   "toc_window_display": true
  }
 },
 "nbformat": 4,
 "nbformat_minor": 2
}
