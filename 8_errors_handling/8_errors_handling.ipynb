{
 "cells": [
  {
   "cell_type": "markdown",
   "metadata": {},
   "source": [
    "# Исключения\n",
    "Исключения являются событиями, способными изменить ход выполнения программы, они позволяют перепрыгнуть через фрагмент программы произвольной длины. Исключения в языке Python возбуждаются автоматически, когда программный код допускает ошибку, а также могут возбуждаться и перехватываться самим программным кодом. Обрабатываются исключения четырьмя инструкциями.\n",
    "\n",
    "**try/except** — перехватывает исключения, возбужденные интерпретатором или вашим программным кодом, и выполняет восстановительные операции.\n",
    "\n",
    "**try/finally** выполняет заключительные операции независимо от того, возникло исключение или нет.\n",
    "\n",
    "**raise** — дает возможность возбудить исключение программно.\n",
    "\n",
    "**assert** — дает возможность возбудить исключение программно, при выполнении определенного условия.\n",
    "\n",
    "\n",
    "Благодаря исключениям программа может перейти к обработчику исключения за один шаг, отменив все вызовы функций. Обработчик исключений (инструкция `try`) ставит метку и выполняет некоторый программный код. Если затем где-нибудь в программе возникает исключение, интерпретатор немедленно возвращается к метке, отменяя все активные вызовы функций, которые были произведены после установки метки."
   ]
  },
  {
   "cell_type": "markdown",
   "metadata": {},
   "source": [
    "# Назначение исключений\n",
    "1. Обработка ошибок. Интерпретатор возбуждает исключение всякий раз, когда обнаруживает ошибку во время выполнения программы. Программа может перехватывать такие ошибки и обрабатывать их или просто игнорировать. Если ошибка игнорируется, интерпретатор выполняет действия, предусмотренные по умолчанию, – он останавливает выполнение программы и выводит сообщение об ошибке. Если такое поведение по умолчанию является нежелательным, можно добавить инструкцию try, которая позволит перехватывать обнаруженные ошибки и продолжить выполнение программы после инструкции try.\n",
    "\n",
    "2. Уведомления о событиях Исключения могут также использоваться для уведомления о наступлении некоторых условий, что устраняет необходимость передавать куда-либо флаги результата или явно проверять их. Например, функция поиска может возбуждать исключение в случае неудачи, вместо того чтобы возвращать целочисленный признак в виде результата (и надеяться, что этот признак всегда будет интерпретироваться правильно).\n",
    "\n",
    "3. Обработка особых ситуаций. Некоторые условия могут наступать так редко, что было бы слишком расточительно предусматривать проверку наступления таких условий с целью их обработки. Нередко такие проверки необычных ситуаций можно заменить обработчиками исключений.\n",
    "\n",
    "4. Заключительные операции. Как будет показано далее, инструкция try/finally позволяет гарантировать выполнение завершающих операций независимо от наличия исключений.\n",
    "\n",
    "5. Необычное управление потоком выполнения. И, наконец, так как исключения – это своего рода оператор «goto», их можно использовать как основу для экзотического управления потоком выполнения программы."
   ]
  },
  {
   "cell_type": "markdown",
   "metadata": {},
   "source": [
    "# Примеры исключений\n",
    "Предположим, что у нас имеется следующая функция:"
   ]
  },
  {
   "cell_type": "code",
   "execution_count": 1,
   "metadata": {
    "ExecuteTime": {
     "end_time": "2018-09-19T08:50:32.235751Z",
     "start_time": "2018-09-19T08:50:32.223794Z"
    }
   },
   "outputs": [],
   "source": [
    "def fetcher(obj, index):\n",
    "    return obj[index]"
   ]
  },
  {
   "cell_type": "code",
   "execution_count": 2,
   "metadata": {
    "ExecuteTime": {
     "end_time": "2018-09-19T08:51:34.427529Z",
     "start_time": "2018-09-19T08:51:34.401631Z"
    }
   },
   "outputs": [
    {
     "data": {
      "text/plain": [
       "'e'"
      ]
     },
     "execution_count": 2,
     "metadata": {},
     "output_type": "execute_result"
    }
   ],
   "source": [
    "s = \"some_string\"\n",
    "fetcher(s, 3)"
   ]
  },
  {
   "cell_type": "markdown",
   "metadata": {},
   "source": [
    "Поскольку наш программный код не перехватывает это исключение явно, оно возвращает выполнение на верхний уровень программы и вызывает обработчик исключений по умолчанию, который просто выводит стандартное сообщение об ошибке. К настоящему моменту вы наверняка видели в своих программах подобные сообщения об ошибках. Они включают тип исключения, а также диагностическую информацию – список строк и функций, которые были активны в момент появления исключения."
   ]
  },
  {
   "cell_type": "code",
   "execution_count": 8,
   "metadata": {
    "ExecuteTime": {
     "end_time": "2018-09-19T08:54:38.518265Z",
     "start_time": "2018-09-19T08:54:38.504923Z"
    }
   },
   "outputs": [
    {
     "ename": "IndexError",
     "evalue": "string index out of range",
     "output_type": "error",
     "traceback": [
      "\u001b[0;31m---------------------------------------------------------------------------\u001b[0m",
      "\u001b[0;31mIndexError\u001b[0m                                Traceback (most recent call last)",
      "\u001b[0;32m<ipython-input-8-ef840ac8f05d>\u001b[0m in \u001b[0;36m<module>\u001b[0;34m()\u001b[0m\n\u001b[0;32m----> 1\u001b[0;31m \u001b[0mfetcher\u001b[0m\u001b[0;34m(\u001b[0m\u001b[0ms\u001b[0m\u001b[0;34m,\u001b[0m \u001b[0;36m20\u001b[0m\u001b[0;34m)\u001b[0m\u001b[0;34m\u001b[0m\u001b[0m\n\u001b[0m",
      "\u001b[0;32m<ipython-input-1-555723af9edd>\u001b[0m in \u001b[0;36mfetcher\u001b[0;34m(obj, index)\u001b[0m\n\u001b[1;32m      1\u001b[0m \u001b[0;32mdef\u001b[0m \u001b[0mfetcher\u001b[0m\u001b[0;34m(\u001b[0m\u001b[0mobj\u001b[0m\u001b[0;34m,\u001b[0m \u001b[0mindex\u001b[0m\u001b[0;34m)\u001b[0m\u001b[0;34m:\u001b[0m\u001b[0;34m\u001b[0m\u001b[0m\n\u001b[0;32m----> 2\u001b[0;31m     \u001b[0;32mreturn\u001b[0m \u001b[0mobj\u001b[0m\u001b[0;34m[\u001b[0m\u001b[0mindex\u001b[0m\u001b[0;34m]\u001b[0m\u001b[0;34m\u001b[0m\u001b[0m\n\u001b[0m",
      "\u001b[0;31mIndexError\u001b[0m: string index out of range"
     ]
    }
   ],
   "source": [
    "fetcher(s, 20)"
   ]
  },
  {
   "cell_type": "markdown",
   "metadata": {},
   "source": [
    "Иногда это совсем не то, что нам требуется. Например, серверные программы обычно должны оставаться активными даже после появления внутренних ошибок.\n",
    "\n",
    "Если вам требуется избежать реакции на исключение по умолчанию, достаточно просто перехватить исключение, обернув вызов функции инструкцией `try`:"
   ]
  },
  {
   "cell_type": "code",
   "execution_count": 10,
   "metadata": {
    "ExecuteTime": {
     "end_time": "2018-09-19T08:55:05.335634Z",
     "start_time": "2018-09-19T08:55:05.331559Z"
    }
   },
   "outputs": [
    {
     "name": "stdout",
     "output_type": "stream",
     "text": [
      "got exception\n",
      "continuing\n"
     ]
    }
   ],
   "source": [
    "try:\n",
    "    fetcher(s, 20)\n",
    "except IndexError:\n",
    "    print(\"got exception\")\n",
    "print(\"continuing\")"
   ]
  },
  {
   "cell_type": "markdown",
   "metadata": {},
   "source": [
    "# Finally\n",
    "Инструкции `try` могут включать блоки `finally`. Эти блоки выглядят точно так же, как обработчики `except`. Комбинация `try/finally` определяет завершающие действия, которые всегда выполняются «на выходе», независимо от того, возникло исключение в блоке `try` или нет.\n",
    "\n",
    "На практике комбинацию `try/except` удобно использовать для перехвата и восстановления после исключений, а комбинацию `try/finally` – в случаях, когда необходимо гарантировать выполнение заключительных действий независимо от того, возникло исключение в блоке `try` или нет. Например, комбинацию `try/except` можно было бы использовать для перехвата ошибок, возникающих в импортированной библиотеке, созданной сторонним разработчиком, а комбинацию `try/finally` – чтобы гарантировать закрытие файлов и соединений с сервером.\n",
    "\n",
    "`try/finally` можно использовать вместо `with/as`."
   ]
  },
  {
   "cell_type": "code",
   "execution_count": 19,
   "metadata": {
    "ExecuteTime": {
     "end_time": "2018-09-19T09:33:44.061250Z",
     "start_time": "2018-09-19T09:33:44.048231Z"
    }
   },
   "outputs": [
    {
     "name": "stdout",
     "output_type": "stream",
     "text": [
      "Этот код выполнится\n"
     ]
    }
   ],
   "source": [
    "try:\n",
    "    f = open(\"some_file.txt\", \"w\")\n",
    "    # что то делаем и получаем ошибку\n",
    "except IOError as err:\n",
    "    print(\"Получаем ошибку и печатаем её: \", err)\n",
    "finally:\n",
    "    # но файл закрыть не забываем\n",
    "    f.close()\n",
    "    print(\"Этот код выполнится\")"
   ]
  },
  {
   "cell_type": "markdown",
   "metadata": {},
   "source": [
    "# Типы исключений\n",
    "В Python есть два больших типа исключений. Первый — это исключения из стандартной библиотеки в Python, второй тип исключений — это пользовательские исключения. Они могут быть сгенерированы и обработаны самим программистом при написании программ на Python. Давайте посмотрим на иерархию исключений в стандартной библиотеке Python. Все исключения наследуются от базового класса `BaseException`:\n",
    "\n",
    "```\n",
    "BaseException\n",
    " +-- SystemExit\n",
    " +-- KeyboardInterrupt\n",
    " +-- GeneratorExit\n",
    " +-- Exception\n",
    "      +-- StopIteration\n",
    "      +-- AssertionError\n",
    "      +-- AttributeError\n",
    "      +-- LookupError\n",
    "           +-- IndexError\n",
    "           +-- KeyError\n",
    "      +-- OSError\n",
    "      +-- SystemError\n",
    "      +-- TypeError\n",
    "      +-- ValueError\n",
    "```\n",
    "Существуют несколько системных исключений, например, `SystemExit` (генерируется, если мы вызвали функцию `OSExit`), `KeyboardInterrupt` (генерируется, если мы нажали сочетание клавиш `Ctrl + C`) и так далее. Все остальные исключения генерируется от базового класса `Exception`. Именно от этого класса нужно порождать свои исключения.\n",
    "\n",
    "Попробуем преобразовать строку в целое число, видим `ValueError`:"
   ]
  },
  {
   "cell_type": "code",
   "execution_count": 11,
   "metadata": {
    "ExecuteTime": {
     "end_time": "2018-09-19T09:09:09.397894Z",
     "start_time": "2018-09-19T09:09:09.340936Z"
    }
   },
   "outputs": [
    {
     "ename": "ValueError",
     "evalue": "invalid literal for int() with base 10: 'asdf'",
     "output_type": "error",
     "traceback": [
      "\u001b[0;31m---------------------------------------------------------------------------\u001b[0m",
      "\u001b[0;31mValueError\u001b[0m                                Traceback (most recent call last)",
      "\u001b[0;32m<ipython-input-11-84b8a2bb8310>\u001b[0m in \u001b[0;36m<module>\u001b[0;34m()\u001b[0m\n\u001b[0;32m----> 1\u001b[0;31m \u001b[0mint\u001b[0m\u001b[0;34m(\u001b[0m\u001b[0;34m\"asdf\"\u001b[0m\u001b[0;34m)\u001b[0m\u001b[0;34m\u001b[0m\u001b[0m\n\u001b[0m",
      "\u001b[0;31mValueError\u001b[0m: invalid literal for int() with base 10: 'asdf'"
     ]
    }
   ],
   "source": [
    "int(\"asdf\")"
   ]
  },
  {
   "cell_type": "markdown",
   "metadata": {},
   "source": [
    "Получим `TypeError` при попытке сложить целое число со строкой:"
   ]
  },
  {
   "cell_type": "code",
   "execution_count": 12,
   "metadata": {
    "ExecuteTime": {
     "end_time": "2018-09-19T09:09:51.550297Z",
     "start_time": "2018-09-19T09:09:51.540583Z"
    }
   },
   "outputs": [
    {
     "ename": "TypeError",
     "evalue": "unsupported operand type(s) for +: 'int' and 'str'",
     "output_type": "error",
     "traceback": [
      "\u001b[0;31m---------------------------------------------------------------------------\u001b[0m",
      "\u001b[0;31mTypeError\u001b[0m                                 Traceback (most recent call last)",
      "\u001b[0;32m<ipython-input-12-fb1d2c3e2afe>\u001b[0m in \u001b[0;36m<module>\u001b[0;34m()\u001b[0m\n\u001b[0;32m----> 1\u001b[0;31m \u001b[0;36m1\u001b[0m \u001b[0;34m+\u001b[0m \u001b[0;34m\"10\"\u001b[0m\u001b[0;34m\u001b[0m\u001b[0m\n\u001b[0m",
      "\u001b[0;31mTypeError\u001b[0m: unsupported operand type(s) for +: 'int' and 'str'"
     ]
    }
   ],
   "source": [
    "1 + \"10\""
   ]
  },
  {
   "cell_type": "markdown",
   "metadata": {},
   "source": [
    "Чтобы отлавливать любые ошибки программы, возникающеие в коде, можно отлавливать ошибку `Exception`"
   ]
  },
  {
   "cell_type": "code",
   "execution_count": 13,
   "metadata": {
    "ExecuteTime": {
     "end_time": "2018-09-19T09:11:52.188933Z",
     "start_time": "2018-09-19T09:11:52.184351Z"
    }
   },
   "outputs": [
    {
     "name": "stdout",
     "output_type": "stream",
     "text": [
      "continuing\n"
     ]
    }
   ],
   "source": [
    "try:\n",
    "    \"\"\" some code \"\"\"\n",
    "except Exception:\n",
    "    print(\"got all exceptions\")\n",
    "print(\"continuing\")"
   ]
  },
  {
   "cell_type": "markdown",
   "metadata": {},
   "source": [
    "Внимание! Не стоит отливливать `BaseException` или `KeyboardInterrupt`, т.к. иногда вы даже не сможете выйти из программы. Python добускает возможность не указывать тип ошибки после `except`, что равнозначно `except BaseException`."
   ]
  },
  {
   "cell_type": "code",
   "execution_count": null,
   "metadata": {},
   "outputs": [],
   "source": [
    "while True:\n",
    "    try:\n",
    "        raw = input(\"введите число: \")\n",
    "        number = int(raw)\n",
    "        break\n",
    "    except:\n",
    "        # не указали тип исключения, значит, обрабатываем все\n",
    "        print(\"некорректное значение\")"
   ]
  },
  {
   "cell_type": "markdown",
   "metadata": {},
   "source": [
    "# raise\n",
    "Исключения можно вызывать самостоятельно при помощи ключевого слова `raise`."
   ]
  },
  {
   "cell_type": "code",
   "execution_count": 39,
   "metadata": {
    "ExecuteTime": {
     "end_time": "2018-09-19T10:10:10.308855Z",
     "start_time": "2018-09-19T10:10:06.767982Z"
    }
   },
   "outputs": [
    {
     "name": "stdout",
     "output_type": "stream",
     "text": [
      "введите число: в\n",
      "некорректное значение!\n"
     ]
    }
   ],
   "source": [
    "try:\n",
    "    raw = input(\"введите число: \")\n",
    "    if not raw.isdigit():\n",
    "        raise ValueError\n",
    "except ValueError:\n",
    "    print(\"некорректное значение!\")"
   ]
  },
  {
   "cell_type": "markdown",
   "metadata": {},
   "source": [
    "# AssertionError\n",
    "Говоря об исключениях, нельзя не затронуть инструкцию `assert`. По умолчанию, если выполнить инструкцию `assert` с логическим выражением, результат которого равен `True`, ничего не произойдет. Но если попробовать выполнить инструкцию `assert` с логическим выражением, которое равно `False`, то будет сгенерировано исключение `AssertionError`. Также мы можем передать дополнительную строку в сам объект `AssertionError`."
   ]
  },
  {
   "cell_type": "code",
   "execution_count": 22,
   "metadata": {
    "ExecuteTime": {
     "end_time": "2018-09-19T09:41:26.068706Z",
     "start_time": "2018-09-19T09:41:25.152541Z"
    }
   },
   "outputs": [
    {
     "name": "stdout",
     "output_type": "stream",
     "text": [
      "Введите ваше имя: \n"
     ]
    },
    {
     "ename": "AssertionError",
     "evalue": "Пустая строка!",
     "output_type": "error",
     "traceback": [
      "\u001b[0;31m---------------------------------------------------------------------------\u001b[0m",
      "\u001b[0;31mAssertionError\u001b[0m                            Traceback (most recent call last)",
      "\u001b[0;32m<ipython-input-22-2f0404f386d8>\u001b[0m in \u001b[0;36m<module>\u001b[0;34m()\u001b[0m\n\u001b[1;32m      1\u001b[0m \u001b[0muser_input\u001b[0m \u001b[0;34m=\u001b[0m \u001b[0minput\u001b[0m\u001b[0;34m(\u001b[0m\u001b[0;34m\"Введите ваше имя: \"\u001b[0m\u001b[0;34m)\u001b[0m\u001b[0;34m\u001b[0m\u001b[0m\n\u001b[0;32m----> 2\u001b[0;31m \u001b[0;32massert\u001b[0m \u001b[0muser_input\u001b[0m\u001b[0;34m,\u001b[0m \u001b[0;34m\"Пустая строка!\"\u001b[0m \u001b[0;31m# введено ли имя\u001b[0m\u001b[0;34m\u001b[0m\u001b[0m\n\u001b[0m\u001b[1;32m      3\u001b[0m \u001b[0mprint\u001b[0m\u001b[0;34m(\u001b[0m\u001b[0;34m\"Выполнится только если введено\"\u001b[0m\u001b[0;34m)\u001b[0m\u001b[0;34m\u001b[0m\u001b[0m\n",
      "\u001b[0;31mAssertionError\u001b[0m: Пустая строка!"
     ]
    }
   ],
   "source": [
    "user_input = input(\"Введите ваше имя: \")\n",
    "assert user_input, \"Пустая строка!\" # введено ли имя\n",
    "print(\"Выполнится только если введено\")"
   ]
  },
  {
   "cell_type": "markdown",
   "metadata": {},
   "source": [
    "Исключения `AssertionError` предназначены скорее для программистов. При написании наших программ на этапе разработки мы должны видеть, что делаем что-то не так (например, передали в функцию некорректное значение). Не нужно, например, обрабатывать пользовательский ввод и пытаться обработать исключение `AssertionError` блоком `try except`. Если таких мест будет очень много, то это затронет и производительность нашей программы.\n",
    "Однако, есть возможность отключить все инструкции assert при помощи флага `−O`. Тогда `AssertionError` не будет сгенерирована. Этим и отличаются исключения `AssertionError` от обычных пользовательских исключений и исключений стандартной библиотеки."
   ]
  },
  {
   "cell_type": "markdown",
   "metadata": {},
   "source": [
    "# Пользовательские исключения\n",
    "\n",
    "Можно определять пользовательские исключения, чем часто пользуются различные пакеты. Рассмотрим, напирмер, requests."
   ]
  },
  {
   "cell_type": "code",
   "execution_count": 33,
   "metadata": {
    "ExecuteTime": {
     "end_time": "2018-09-19T09:47:34.774907Z",
     "start_time": "2018-09-19T09:47:34.770591Z"
    }
   },
   "outputs": [
    {
     "name": "stdout",
     "output_type": "stream",
     "text": [
      "/Library/Frameworks/Python.framework/Versions/3.6/lib/python3.6/site-packages/requests/exceptions.py\n"
     ]
    }
   ],
   "source": [
    "import os\n",
    "import requests\n",
    "\n",
    "ex_path = os.path.split(requests.__file__)[0] + \"/exceptions.py\"\n",
    "print(ex_path)"
   ]
  },
  {
   "cell_type": "code",
   "execution_count": 34,
   "metadata": {
    "ExecuteTime": {
     "end_time": "2018-09-19T09:47:57.700336Z",
     "start_time": "2018-09-19T09:47:57.688119Z"
    }
   },
   "outputs": [
    {
     "name": "stdout",
     "output_type": "stream",
     "text": [
      "# -*- coding: utf-8 -*-\n",
      "\n",
      "\"\"\"\n",
      "requests.exceptions\n",
      "~~~~~~~~~~~~~~~~~~~\n",
      "\n",
      "This module contains the set of Requests' exceptions.\n",
      "\"\"\"\n",
      "from urllib3.exceptions import HTTPError as BaseHTTPError\n",
      "\n",
      "\n",
      "class RequestException(IOError):\n",
      "    \"\"\"There was an ambiguous exception that occurred while handling your\n",
      "    request.\n",
      "    \"\"\"\n",
      "\n",
      "    def __init__(self, *args, **kwargs):\n",
      "        \"\"\"Initialize RequestException with `request` and `response` objects.\"\"\"\n",
      "        response = kwargs.pop('response', None)\n",
      "        self.response = response\n",
      "        self.request = kwargs.pop('request', None)\n",
      "        if (response is not None and not self.request and\n",
      "                hasattr(response, 'request')):\n",
      "            self.request = self.response.request\n",
      "        super(RequestException, self).__init__(*args, **kwargs)\n",
      "\n",
      "\n",
      "class HTTPError(RequestException):\n",
      "    \"\"\"An HTTP error occurred.\"\"\"\n",
      "\n",
      "\n",
      "class ConnectionError(RequestException):\n",
      "    \"\"\"A Connection error occurred.\"\"\"\n",
      "\n",
      "\n",
      "class ProxyError(ConnectionError):\n",
      "    \"\"\"A proxy error occurred.\"\"\"\n",
      "\n",
      "\n",
      "class SSLError(ConnectionError):\n",
      "    \"\"\"An SSL error occurred.\"\"\"\n",
      "\n",
      "\n",
      "class Timeout(RequestException):\n",
      "    \"\"\"The request timed out.\n",
      "\n",
      "    Catching this error will catch both\n",
      "    :exc:`~requests.exceptions.ConnectTimeout` and\n",
      "    :exc:`~requests.exceptions.ReadTimeout` errors.\n",
      "    \"\"\"\n",
      "\n",
      "\n",
      "class ConnectTimeout(ConnectionError, Timeout):\n",
      "    \"\"\"The request timed out while trying to connect to the remote server.\n",
      "\n",
      "    Requests that produced this error are safe to retry.\n",
      "    \"\"\"\n",
      "\n",
      "\n",
      "class ReadTimeout(Timeout):\n",
      "    \"\"\"The server did not send any data in the allotted amount of time.\"\"\"\n",
      "\n",
      "\n",
      "class URLRequired(RequestException):\n",
      "    \"\"\"A valid URL is required to make a request.\"\"\"\n",
      "\n",
      "\n",
      "class TooManyRedirects(RequestException):\n",
      "    \"\"\"Too many redirects.\"\"\"\n",
      "\n",
      "\n",
      "class MissingSchema(RequestException, ValueError):\n",
      "    \"\"\"The URL schema (e.g. http or https) is missing.\"\"\"\n",
      "\n",
      "\n",
      "class InvalidSchema(RequestException, ValueError):\n",
      "    \"\"\"See defaults.py for valid schemas.\"\"\"\n",
      "\n",
      "\n",
      "class InvalidURL(RequestException, ValueError):\n",
      "    \"\"\"The URL provided was somehow invalid.\"\"\"\n",
      "\n",
      "\n",
      "class InvalidHeader(RequestException, ValueError):\n",
      "    \"\"\"The header value provided was somehow invalid.\"\"\"\n",
      "\n",
      "\n",
      "class InvalidProxyURL(InvalidURL):\n",
      "    \"\"\"The proxy URL provided is invalid.\"\"\"\n",
      "\n",
      "\n",
      "class ChunkedEncodingError(RequestException):\n",
      "    \"\"\"The server declared chunked encoding but sent an invalid chunk.\"\"\"\n",
      "\n",
      "\n",
      "class ContentDecodingError(RequestException, BaseHTTPError):\n",
      "    \"\"\"Failed to decode response content\"\"\"\n",
      "\n",
      "\n",
      "class StreamConsumedError(RequestException, TypeError):\n",
      "    \"\"\"The content for this response was already consumed\"\"\"\n",
      "\n",
      "\n",
      "class RetryError(RequestException):\n",
      "    \"\"\"Custom retries logic failed\"\"\"\n",
      "\n",
      "\n",
      "class UnrewindableBodyError(RequestException):\n",
      "    \"\"\"Requests encountered an error when trying to rewind a body\"\"\"\n",
      "\n",
      "# Warnings\n",
      "\n",
      "\n",
      "class RequestsWarning(Warning):\n",
      "    \"\"\"Base warning for Requests.\"\"\"\n",
      "    pass\n",
      "\n",
      "\n",
      "class FileModeWarning(RequestsWarning, DeprecationWarning):\n",
      "    \"\"\"A file was opened in text mode, but Requests determined its binary length.\"\"\"\n",
      "    pass\n",
      "\n",
      "\n",
      "class RequestsDependencyWarning(RequestsWarning):\n",
      "    \"\"\"An imported dependency doesn't match the expected version range.\"\"\"\n",
      "    pass\n",
      "\n"
     ]
    }
   ],
   "source": [
    "with open(ex_path) as f:\n",
    "    print(f.read())"
   ]
  },
  {
   "cell_type": "code",
   "execution_count": 38,
   "metadata": {
    "ExecuteTime": {
     "end_time": "2018-09-19T09:56:16.388970Z",
     "start_time": "2018-09-19T09:56:15.691863Z"
    }
   },
   "outputs": [
    {
     "name": "stdout",
     "output_type": "stream",
     "text": [
      "ошибка url: https://github.com/not_found, code: 404\n"
     ]
    }
   ],
   "source": [
    "url = \"https://github.com/not_found\"\n",
    "\n",
    "try:\n",
    "    response = requests.get(url, timeout=30)\n",
    "    response.raise_for_status()\n",
    "except requests.Timeout:\n",
    "    print(\"ошибка timeout, url:\", url)\n",
    "except requests.HTTPError as err:\n",
    "    code = err.response.status_code\n",
    "    print(\"ошибка url: {0}, code: {1}\".format(url, code))\n",
    "except requests.RequestException:\n",
    "    print(\"ошибка скачивания url: \", url)\n",
    "else:\n",
    "    print(response.content)"
   ]
  },
  {
   "cell_type": "markdown",
   "metadata": {},
   "source": [
    "1. Назовите три области, где можно было бы использовать операции с исключениями.\n",
    "2. Что произойдет с программой в случае исключения, если вы не предусмотрите его обработку?\n",
    "3. Как можно реализовать восстановление нормальной работы сценария после исключения?\n",
    "4. Назовите два способа возбуждения исключений в сценариях.\n",
    "5. Назовите два способа, с помощью которых можно было бы организовать выполнение заключительных операций независимо от того, возникло исключение или нет."
   ]
  }
 ],
 "metadata": {
  "kernelspec": {
   "display_name": "Python 3",
   "language": "python",
   "name": "python3"
  },
  "language_info": {
   "codemirror_mode": {
    "name": "ipython",
    "version": 3
   },
   "file_extension": ".py",
   "mimetype": "text/x-python",
   "name": "python",
   "nbconvert_exporter": "python",
   "pygments_lexer": "ipython3",
   "version": "3.6.5"
  },
  "toc": {
   "nav_menu": {},
   "number_sections": true,
   "sideBar": true,
   "skip_h1_title": false,
   "toc_cell": false,
   "toc_position": {},
   "toc_section_display": "block",
   "toc_window_display": false
  }
 },
 "nbformat": 4,
 "nbformat_minor": 2
}
